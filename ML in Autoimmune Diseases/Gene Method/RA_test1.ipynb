{
  "cells": [
    {
      "cell_type": "code",
      "execution_count": 6,
      "metadata": {
        "colab": {
          "base_uri": "https://localhost:8080/"
        },
        "id": "ZOHQmFEmFxeY",
        "outputId": "6e5c8da2-cb0c-4fe1-def6-1923c8b0fe00"
      },
      "outputs": [
        {
          "name": "stdout",
          "output_type": "stream",
          "text": [
            "g:\\Github\\Machine Learning\\Machine-Learning-\\ML in Autoimmune Diseases\\Gene Method\n"
          ]
        }
      ],
      "source": [
        "import pandas as pd\n",
        "import numpy as np\n",
        "import statsmodels.api as sm\n",
        "import scipy.stats as st\n",
        "import matplotlib.pyplot as plt\n",
        "import seaborn as sn\n",
        "import os\n",
        "from sklearn.model_selection import train_test_split\n",
        "from sklearn.preprocessing import LabelEncoder\n",
        "from sklearn.tree import DecisionTreeClassifier\n",
        "from sklearn.ensemble import RandomForestClassifier\n",
        "from sklearn.linear_model import LogisticRegression\n",
        "from sklearn.metrics import accuracy_score, classification_report\n",
        "from scipy.stats import ttest_ind\n",
        "from statsmodels.stats.multitest import multipletests\n",
        "print(os.getcwd())"
      ]
    },
    {
      "cell_type": "code",
      "execution_count": 7,
      "metadata": {
        "colab": {
          "base_uri": "https://localhost:8080/",
          "height": 227
        },
        "id": "284qjHUUYXnh",
        "outputId": "f1e4f20d-2f77-4908-962c-4b08a45c95ba"
      },
      "outputs": [
        {
          "data": {
            "text/html": [
              "<div>\n",
              "<style scoped>\n",
              "    .dataframe tbody tr th:only-of-type {\n",
              "        vertical-align: middle;\n",
              "    }\n",
              "\n",
              "    .dataframe tbody tr th {\n",
              "        vertical-align: top;\n",
              "    }\n",
              "\n",
              "    .dataframe thead th {\n",
              "        text-align: right;\n",
              "    }\n",
              "</style>\n",
              "<table border=\"1\" class=\"dataframe\">\n",
              "  <thead>\n",
              "    <tr style=\"text-align: right;\">\n",
              "      <th></th>\n",
              "      <th>Patients</th>\n",
              "      <th>Condition</th>\n",
              "      <th>ARRDC5</th>\n",
              "      <th>FAM86C1</th>\n",
              "      <th>RAB3D</th>\n",
              "      <th>MORC2</th>\n",
              "      <th>ZNF600</th>\n",
              "      <th>SNAPC5</th>\n",
              "      <th>ZNF675</th>\n",
              "      <th>SFT2D1</th>\n",
              "      <th>...</th>\n",
              "      <th>LOC728534</th>\n",
              "      <th>SNORA24</th>\n",
              "      <th>CCT6P1</th>\n",
              "      <th>CCT6P3</th>\n",
              "      <th>SNORA22</th>\n",
              "      <th>RPL32P3</th>\n",
              "      <th>SNORA7A</th>\n",
              "      <th>SNORA7B</th>\n",
              "      <th>SNORA70</th>\n",
              "      <th>SNORA70G</th>\n",
              "    </tr>\n",
              "  </thead>\n",
              "  <tbody>\n",
              "    <tr>\n",
              "      <th>0</th>\n",
              "      <td>GSM2981057</td>\n",
              "      <td>Healthy</td>\n",
              "      <td>5.598697</td>\n",
              "      <td>4.046514</td>\n",
              "      <td>4.792378</td>\n",
              "      <td>4.889926</td>\n",
              "      <td>6.614537</td>\n",
              "      <td>6.850238</td>\n",
              "      <td>3.627961</td>\n",
              "      <td>9.267813</td>\n",
              "      <td>...</td>\n",
              "      <td>4.782302</td>\n",
              "      <td>6.154111</td>\n",
              "      <td>5.863219</td>\n",
              "      <td>5.863219</td>\n",
              "      <td>5.863219</td>\n",
              "      <td>6.764443</td>\n",
              "      <td>6.764443</td>\n",
              "      <td>6.764443</td>\n",
              "      <td>5.183177</td>\n",
              "      <td>5.183177</td>\n",
              "    </tr>\n",
              "    <tr>\n",
              "      <th>1</th>\n",
              "      <td>GSM2981058</td>\n",
              "      <td>Healthy</td>\n",
              "      <td>5.566074</td>\n",
              "      <td>3.927057</td>\n",
              "      <td>4.885309</td>\n",
              "      <td>4.317204</td>\n",
              "      <td>6.634278</td>\n",
              "      <td>7.367398</td>\n",
              "      <td>4.292509</td>\n",
              "      <td>9.337131</td>\n",
              "      <td>...</td>\n",
              "      <td>4.944751</td>\n",
              "      <td>5.920788</td>\n",
              "      <td>6.022412</td>\n",
              "      <td>6.022412</td>\n",
              "      <td>6.022412</td>\n",
              "      <td>7.141088</td>\n",
              "      <td>7.141088</td>\n",
              "      <td>7.141088</td>\n",
              "      <td>4.940929</td>\n",
              "      <td>4.940929</td>\n",
              "    </tr>\n",
              "    <tr>\n",
              "      <th>2</th>\n",
              "      <td>GSM2981059</td>\n",
              "      <td>Healthy</td>\n",
              "      <td>5.102207</td>\n",
              "      <td>4.436170</td>\n",
              "      <td>4.440248</td>\n",
              "      <td>5.011531</td>\n",
              "      <td>7.082590</td>\n",
              "      <td>6.813552</td>\n",
              "      <td>4.041210</td>\n",
              "      <td>9.182283</td>\n",
              "      <td>...</td>\n",
              "      <td>4.188737</td>\n",
              "      <td>6.326932</td>\n",
              "      <td>5.573319</td>\n",
              "      <td>5.573319</td>\n",
              "      <td>5.573319</td>\n",
              "      <td>7.089928</td>\n",
              "      <td>7.089928</td>\n",
              "      <td>7.089928</td>\n",
              "      <td>4.777421</td>\n",
              "      <td>4.777421</td>\n",
              "    </tr>\n",
              "    <tr>\n",
              "      <th>3</th>\n",
              "      <td>GSM2981060</td>\n",
              "      <td>Healthy</td>\n",
              "      <td>4.855702</td>\n",
              "      <td>3.573448</td>\n",
              "      <td>4.805659</td>\n",
              "      <td>5.458887</td>\n",
              "      <td>7.385368</td>\n",
              "      <td>7.331518</td>\n",
              "      <td>3.712238</td>\n",
              "      <td>8.804739</td>\n",
              "      <td>...</td>\n",
              "      <td>3.931559</td>\n",
              "      <td>5.777944</td>\n",
              "      <td>6.063390</td>\n",
              "      <td>6.063390</td>\n",
              "      <td>6.063390</td>\n",
              "      <td>6.930789</td>\n",
              "      <td>6.930789</td>\n",
              "      <td>6.930789</td>\n",
              "      <td>4.906627</td>\n",
              "      <td>4.906627</td>\n",
              "    </tr>\n",
              "    <tr>\n",
              "      <th>4</th>\n",
              "      <td>GSM2981061</td>\n",
              "      <td>Healthy</td>\n",
              "      <td>5.151591</td>\n",
              "      <td>4.228044</td>\n",
              "      <td>4.906295</td>\n",
              "      <td>4.540327</td>\n",
              "      <td>7.299135</td>\n",
              "      <td>7.191299</td>\n",
              "      <td>3.749823</td>\n",
              "      <td>9.475676</td>\n",
              "      <td>...</td>\n",
              "      <td>4.856008</td>\n",
              "      <td>5.650359</td>\n",
              "      <td>6.103134</td>\n",
              "      <td>6.103134</td>\n",
              "      <td>6.103134</td>\n",
              "      <td>7.140819</td>\n",
              "      <td>7.140819</td>\n",
              "      <td>7.140819</td>\n",
              "      <td>4.924967</td>\n",
              "      <td>4.924967</td>\n",
              "    </tr>\n",
              "  </tbody>\n",
              "</table>\n",
              "<p>5 rows × 10916 columns</p>\n",
              "</div>"
            ],
            "text/plain": [
              "     Patients Condition    ARRDC5   FAM86C1     RAB3D     MORC2    ZNF600  \\\n",
              "0  GSM2981057   Healthy  5.598697  4.046514  4.792378  4.889926  6.614537   \n",
              "1  GSM2981058   Healthy  5.566074  3.927057  4.885309  4.317204  6.634278   \n",
              "2  GSM2981059   Healthy  5.102207  4.436170  4.440248  5.011531  7.082590   \n",
              "3  GSM2981060   Healthy  4.855702  3.573448  4.805659  5.458887  7.385368   \n",
              "4  GSM2981061   Healthy  5.151591  4.228044  4.906295  4.540327  7.299135   \n",
              "\n",
              "     SNAPC5    ZNF675    SFT2D1  ...  LOC728534   SNORA24    CCT6P1    CCT6P3  \\\n",
              "0  6.850238  3.627961  9.267813  ...   4.782302  6.154111  5.863219  5.863219   \n",
              "1  7.367398  4.292509  9.337131  ...   4.944751  5.920788  6.022412  6.022412   \n",
              "2  6.813552  4.041210  9.182283  ...   4.188737  6.326932  5.573319  5.573319   \n",
              "3  7.331518  3.712238  8.804739  ...   3.931559  5.777944  6.063390  6.063390   \n",
              "4  7.191299  3.749823  9.475676  ...   4.856008  5.650359  6.103134  6.103134   \n",
              "\n",
              "    SNORA22   RPL32P3   SNORA7A   SNORA7B   SNORA70  SNORA70G  \n",
              "0  5.863219  6.764443  6.764443  6.764443  5.183177  5.183177  \n",
              "1  6.022412  7.141088  7.141088  7.141088  4.940929  4.940929  \n",
              "2  5.573319  7.089928  7.089928  7.089928  4.777421  4.777421  \n",
              "3  6.063390  6.930789  6.930789  6.930789  4.906627  4.906627  \n",
              "4  6.103134  7.140819  7.140819  7.140819  4.924967  4.924967  \n",
              "\n",
              "[5 rows x 10916 columns]"
            ]
          },
          "execution_count": 7,
          "metadata": {},
          "output_type": "execute_result"
        }
      ],
      "source": [
        "ra_data = pd.read_csv(\"metadata_edited.csv\")\n",
        "ra_data_genes = pd.read_csv(\"arthritis.csv\")\n",
        "ra_data_genes.head()"
      ]
    },
    {
      "cell_type": "code",
      "execution_count": 8,
      "metadata": {
        "id": "-pU83I4UgvWV"
      },
      "outputs": [],
      "source": [
        "healthy_data = ra_data_genes[ra_data_genes['Condition'] == 'Healthy']\n",
        "unhealthy_data = ra_data_genes[ra_data_genes['Condition'] == 'Unhealthy']"
      ]
    },
    {
      "cell_type": "code",
      "execution_count": 9,
      "metadata": {
        "id": "be_hygMwPm1F"
      },
      "outputs": [],
      "source": [
        "# Extract the gene names and initialize a DataFrame to store p-values\n",
        "genes = ra_data_genes.columns[2:]  # Assuming gene columns start from the third column\n",
        "\n",
        "# Create a dictionary to store gene names and their corresponding p-values\n",
        "gene_p_values = {'Gene': [], 'P-Value': []}\n",
        "\n",
        "# Perform t-tests for each gene and store the results in the dictionary\n",
        "for gene in genes:\n",
        "    p_value = ttest_ind(healthy_data[gene], unhealthy_data[gene]).pvalue\n",
        "    gene_p_values['Gene'].append(gene)\n",
        "    gene_p_values['P-Value'].append(p_value)\n",
        "\n",
        "# Create a DataFrame from the dictionary\n",
        "p_values_data = pd.DataFrame(gene_p_values)"
      ]
    },
    {
      "cell_type": "code",
      "execution_count": 10,
      "metadata": {
        "id": "8W13DZHdWZVd"
      },
      "outputs": [],
      "source": [
        "# Perform multiple testing correction (FDR correction)\n",
        "corrected_p_values = multipletests(p_values_data['P-Value'], method='fdr_bh')[1]\n",
        "\n",
        "# Add corrected p-values to the DataFrame\n",
        "p_values_data['Corrected P-Value'] = corrected_p_values"
      ]
    },
    {
      "cell_type": "code",
      "execution_count": 11,
      "metadata": {
        "id": "SdXWEtRBP1WF"
      },
      "outputs": [],
      "source": [
        "significance_threshold = 0.0001\n",
        "significant_genes = p_values_data[p_values_data['Corrected P-Value'] < significance_threshold]"
      ]
    },
    {
      "cell_type": "code",
      "execution_count": 12,
      "metadata": {
        "id": "U0-gCzUkP8yr"
      },
      "outputs": [],
      "source": [
        "# Save the significant genes to a new CSV file\n",
        "significant_genes.to_csv('significant_genes.csv', index=False)"
      ]
    },
    {
      "cell_type": "code",
      "execution_count": 13,
      "metadata": {
        "colab": {
          "base_uri": "https://localhost:8080/",
          "height": 140
        },
        "id": "Zgf5GJU9SAjl",
        "outputId": "87fb26f8-bbf5-4823-8c7e-4b2304386384"
      },
      "outputs": [
        {
          "data": {
            "text/html": [
              "<div>\n",
              "<style scoped>\n",
              "    .dataframe tbody tr th:only-of-type {\n",
              "        vertical-align: middle;\n",
              "    }\n",
              "\n",
              "    .dataframe tbody tr th {\n",
              "        vertical-align: top;\n",
              "    }\n",
              "\n",
              "    .dataframe thead th {\n",
              "        text-align: right;\n",
              "    }\n",
              "</style>\n",
              "<table border=\"1\" class=\"dataframe\">\n",
              "  <thead>\n",
              "    <tr style=\"text-align: right;\">\n",
              "      <th></th>\n",
              "      <th>Gene</th>\n",
              "      <th>P-Value</th>\n",
              "      <th>Corrected P-Value</th>\n",
              "    </tr>\n",
              "  </thead>\n",
              "  <tbody>\n",
              "    <tr>\n",
              "      <th>4</th>\n",
              "      <td>ZNF600</td>\n",
              "      <td>7.961667e-06</td>\n",
              "      <td>4.261581e-05</td>\n",
              "    </tr>\n",
              "    <tr>\n",
              "      <th>6</th>\n",
              "      <td>ZNF675</td>\n",
              "      <td>2.999705e-06</td>\n",
              "      <td>1.904525e-05</td>\n",
              "    </tr>\n",
              "    <tr>\n",
              "      <th>7</th>\n",
              "      <td>SFT2D1</td>\n",
              "      <td>5.352599e-09</td>\n",
              "      <td>1.349152e-07</td>\n",
              "    </tr>\n",
              "    <tr>\n",
              "      <th>9</th>\n",
              "      <td>DEPDC5</td>\n",
              "      <td>4.514808e-09</td>\n",
              "      <td>1.181645e-07</td>\n",
              "    </tr>\n",
              "    <tr>\n",
              "      <th>15</th>\n",
              "      <td>ZNF680</td>\n",
              "      <td>3.509774e-09</td>\n",
              "      <td>9.821967e-08</td>\n",
              "    </tr>\n",
              "  </tbody>\n",
              "</table>\n",
              "</div>"
            ],
            "text/plain": [
              "      Gene       P-Value  Corrected P-Value\n",
              "4   ZNF600  7.961667e-06       4.261581e-05\n",
              "6   ZNF675  2.999705e-06       1.904525e-05\n",
              "7   SFT2D1  5.352599e-09       1.349152e-07\n",
              "9   DEPDC5  4.514808e-09       1.181645e-07\n",
              "15  ZNF680  3.509774e-09       9.821967e-08"
            ]
          },
          "execution_count": 13,
          "metadata": {},
          "output_type": "execute_result"
        }
      ],
      "source": [
        "significant_genes.head()"
      ]
    },
    {
      "cell_type": "code",
      "execution_count": 15,
      "metadata": {
        "id": "2_rtpSXMSRU5"
      },
      "outputs": [],
      "source": [
        "significant_genes.to_csv('significant_genes.csv', index=False)"
      ]
    }
  ],
  "metadata": {
    "colab": {
      "provenance": []
    },
    "kernelspec": {
      "display_name": "Python 3",
      "name": "python3"
    },
    "language_info": {
      "codemirror_mode": {
        "name": "ipython",
        "version": 3
      },
      "file_extension": ".py",
      "mimetype": "text/x-python",
      "name": "python",
      "nbconvert_exporter": "python",
      "pygments_lexer": "ipython3",
      "version": "3.9.13"
    }
  },
  "nbformat": 4,
  "nbformat_minor": 0
}
