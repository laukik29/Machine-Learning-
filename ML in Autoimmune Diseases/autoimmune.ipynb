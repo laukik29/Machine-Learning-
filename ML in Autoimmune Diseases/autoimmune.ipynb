{
 "cells": [
  {
   "cell_type": "code",
   "execution_count": 14,
   "metadata": {},
   "outputs": [],
   "source": [
    "# # Import the required libraries\n",
    "\n",
    "# import pandas as pd\n",
    "# import numpy as np\n",
    "# import matplotlib.pyplot as plt\n",
    "# from typing import List, Tuple\n",
    "\n",
    "# %matplotlib inline"
   ]
  },
  {
   "cell_type": "code",
   "execution_count": 15,
   "metadata": {},
   "outputs": [],
   "source": [
    "# df = pd.read_excel('train.xls')\n",
    "# df.head(20)"
   ]
  },
  {
   "cell_type": "code",
   "execution_count": 16,
   "metadata": {},
   "outputs": [],
   "source": [
    "import pandas as pd\n",
    "import numpy as np\n",
    "from sklearn.model_selection import train_test_split\n",
    "from sklearn.tree import DecisionTreeClassifier\n",
    "from sklearn.metrics import accuracy_score\n",
    "from sklearn.tree import DecisionTreeClassifier\n",
    "from sklearn.preprocessing import LabelEncoder"
   ]
  },
  {
   "cell_type": "code",
   "execution_count": 17,
   "metadata": {},
   "outputs": [
    {
     "name": "stdout",
     "output_type": "stream",
     "text": [
      "Index(['Training set', 'Mouth', 'Oesophagus', 'Stomach', 'Duodenum', 'Ileum',\n",
      "       'A-Colon', 'T-Colon', 'D-Colon', 'Rectum', 'Perianal', 'Mouth.1',\n",
      "       'Oesophagus.1', 'Stomach.1', 'Duodenum.1', 'Ileum.1', 'A-Colon.1',\n",
      "       'T-Colon.1', 'D-Colon.1', 'Rectum.1', 'Perianal.1', 'Diagnosis'],\n",
      "      dtype='object')\n"
     ]
    }
   ],
   "source": [
    "train_df = pd.read_excel('train.xls')\n",
    "test_df = pd.read_excel('test.xlsx')\n",
    "\n",
    "print(train_df.columns)"
   ]
  },
  {
   "cell_type": "code",
   "execution_count": 18,
   "metadata": {},
   "outputs": [],
   "source": [
    "# Separate features (X) and target (y) for training dataset\n",
    "# Separate features (X) and target (y) for training dataset\n",
    "X_train = train_df.drop(['Diagnosis', 'Training set'], axis=1)\n",
    "y_train = train_df['Diagnosis']\n",
    "\n",
    "\n",
    "X_test = test_df.drop(['Diagnosis', 'Training set'], axis=1)\n",
    "y_test = test_df['Diagnosis']\n",
    "\n"
   ]
  },
  {
   "cell_type": "code",
   "execution_count": 19,
   "metadata": {},
   "outputs": [
    {
     "name": "stdout",
     "output_type": "stream",
     "text": [
      "Mouth           int64\n",
      "Oesophagus      int64\n",
      "Stomach         int64\n",
      "Duodenum        int64\n",
      "Ileum           int64\n",
      "A-Colon         int64\n",
      "T-Colon         int64\n",
      "D-Colon         int64\n",
      "Rectum          int64\n",
      "Perianal        int64\n",
      "Mouth.1         int64\n",
      "Oesophagus.1    int64\n",
      "Stomach.1       int64\n",
      "Duodenum.1      int64\n",
      "Ileum.1         int64\n",
      "A-Colon.1       int64\n",
      "T-Colon.1       int64\n",
      "D-Colon.1       int64\n",
      "Rectum.1        int64\n",
      "Perianal.1      int64\n",
      "dtype: object\n"
     ]
    }
   ],
   "source": [
    "print(X_train.dtypes)\n"
   ]
  },
  {
   "cell_type": "code",
   "execution_count": 20,
   "metadata": {},
   "outputs": [
    {
     "name": "stdout",
     "output_type": "stream",
     "text": [
      "False\n"
     ]
    }
   ],
   "source": [
    "non_numeric_values = X_train['Stomach'].apply(lambda x: not isinstance(x, (int, np.int64)))\n",
    "print(non_numeric_values.any())\n"
   ]
  },
  {
   "cell_type": "code",
   "execution_count": 21,
   "metadata": {},
   "outputs": [],
   "source": [
    "label_encoder = LabelEncoder()\n",
    "y_train_encoded = label_encoder.fit_transform(y_train)\n",
    "y_test_encoded = label_encoder.transform(y_test)"
   ]
  },
  {
   "cell_type": "code",
   "execution_count": 22,
   "metadata": {},
   "outputs": [
    {
     "data": {
      "text/html": [
       "<style>#sk-container-id-2 {color: black;}#sk-container-id-2 pre{padding: 0;}#sk-container-id-2 div.sk-toggleable {background-color: white;}#sk-container-id-2 label.sk-toggleable__label {cursor: pointer;display: block;width: 100%;margin-bottom: 0;padding: 0.3em;box-sizing: border-box;text-align: center;}#sk-container-id-2 label.sk-toggleable__label-arrow:before {content: \"▸\";float: left;margin-right: 0.25em;color: #696969;}#sk-container-id-2 label.sk-toggleable__label-arrow:hover:before {color: black;}#sk-container-id-2 div.sk-estimator:hover label.sk-toggleable__label-arrow:before {color: black;}#sk-container-id-2 div.sk-toggleable__content {max-height: 0;max-width: 0;overflow: hidden;text-align: left;background-color: #f0f8ff;}#sk-container-id-2 div.sk-toggleable__content pre {margin: 0.2em;color: black;border-radius: 0.25em;background-color: #f0f8ff;}#sk-container-id-2 input.sk-toggleable__control:checked~div.sk-toggleable__content {max-height: 200px;max-width: 100%;overflow: auto;}#sk-container-id-2 input.sk-toggleable__control:checked~label.sk-toggleable__label-arrow:before {content: \"▾\";}#sk-container-id-2 div.sk-estimator input.sk-toggleable__control:checked~label.sk-toggleable__label {background-color: #d4ebff;}#sk-container-id-2 div.sk-label input.sk-toggleable__control:checked~label.sk-toggleable__label {background-color: #d4ebff;}#sk-container-id-2 input.sk-hidden--visually {border: 0;clip: rect(1px 1px 1px 1px);clip: rect(1px, 1px, 1px, 1px);height: 1px;margin: -1px;overflow: hidden;padding: 0;position: absolute;width: 1px;}#sk-container-id-2 div.sk-estimator {font-family: monospace;background-color: #f0f8ff;border: 1px dotted black;border-radius: 0.25em;box-sizing: border-box;margin-bottom: 0.5em;}#sk-container-id-2 div.sk-estimator:hover {background-color: #d4ebff;}#sk-container-id-2 div.sk-parallel-item::after {content: \"\";width: 100%;border-bottom: 1px solid gray;flex-grow: 1;}#sk-container-id-2 div.sk-label:hover label.sk-toggleable__label {background-color: #d4ebff;}#sk-container-id-2 div.sk-serial::before {content: \"\";position: absolute;border-left: 1px solid gray;box-sizing: border-box;top: 0;bottom: 0;left: 50%;z-index: 0;}#sk-container-id-2 div.sk-serial {display: flex;flex-direction: column;align-items: center;background-color: white;padding-right: 0.2em;padding-left: 0.2em;position: relative;}#sk-container-id-2 div.sk-item {position: relative;z-index: 1;}#sk-container-id-2 div.sk-parallel {display: flex;align-items: stretch;justify-content: center;background-color: white;position: relative;}#sk-container-id-2 div.sk-item::before, #sk-container-id-2 div.sk-parallel-item::before {content: \"\";position: absolute;border-left: 1px solid gray;box-sizing: border-box;top: 0;bottom: 0;left: 50%;z-index: -1;}#sk-container-id-2 div.sk-parallel-item {display: flex;flex-direction: column;z-index: 1;position: relative;background-color: white;}#sk-container-id-2 div.sk-parallel-item:first-child::after {align-self: flex-end;width: 50%;}#sk-container-id-2 div.sk-parallel-item:last-child::after {align-self: flex-start;width: 50%;}#sk-container-id-2 div.sk-parallel-item:only-child::after {width: 0;}#sk-container-id-2 div.sk-dashed-wrapped {border: 1px dashed gray;margin: 0 0.4em 0.5em 0.4em;box-sizing: border-box;padding-bottom: 0.4em;background-color: white;}#sk-container-id-2 div.sk-label label {font-family: monospace;font-weight: bold;display: inline-block;line-height: 1.2em;}#sk-container-id-2 div.sk-label-container {text-align: center;}#sk-container-id-2 div.sk-container {/* jupyter's `normalize.less` sets `[hidden] { display: none; }` but bootstrap.min.css set `[hidden] { display: none !important; }` so we also need the `!important` here to be able to override the default hidden behavior on the sphinx rendered scikit-learn.org. See: https://github.com/scikit-learn/scikit-learn/issues/21755 */display: inline-block !important;position: relative;}#sk-container-id-2 div.sk-text-repr-fallback {display: none;}</style><div id=\"sk-container-id-2\" class=\"sk-top-container\"><div class=\"sk-text-repr-fallback\"><pre>DecisionTreeClassifier()</pre><b>In a Jupyter environment, please rerun this cell to show the HTML representation or trust the notebook. <br />On GitHub, the HTML representation is unable to render, please try loading this page with nbviewer.org.</b></div><div class=\"sk-container\" hidden><div class=\"sk-item\"><div class=\"sk-estimator sk-toggleable\"><input class=\"sk-toggleable__control sk-hidden--visually\" id=\"sk-estimator-id-2\" type=\"checkbox\" checked><label for=\"sk-estimator-id-2\" class=\"sk-toggleable__label sk-toggleable__label-arrow\">DecisionTreeClassifier</label><div class=\"sk-toggleable__content\"><pre>DecisionTreeClassifier()</pre></div></div></div></div></div>"
      ],
      "text/plain": [
       "DecisionTreeClassifier()"
      ]
     },
     "execution_count": 22,
     "metadata": {},
     "output_type": "execute_result"
    }
   ],
   "source": [
    "clf = DecisionTreeClassifier()\n",
    "clf.fit(X_train, y_train_encoded)"
   ]
  },
  {
   "cell_type": "code",
   "execution_count": 23,
   "metadata": {},
   "outputs": [
    {
     "name": "stdout",
     "output_type": "stream",
     "text": [
      "Columns in X_train: Index(['Mouth', 'Oesophagus', 'Stomach', 'Duodenum', 'Ileum', 'A-Colon',\n",
      "       'T-Colon', 'D-Colon', 'Rectum', 'Perianal', 'Mouth.1', 'Oesophagus.1',\n",
      "       'Stomach.1', 'Duodenum.1', 'Ileum.1', 'A-Colon.1', 'T-Colon.1',\n",
      "       'D-Colon.1', 'Rectum.1', 'Perianal.1'],\n",
      "      dtype='object')\n",
      "Columns in X_test: Index(['Mouth', 'Oesophagus', 'Stomach', 'Duodenum', 'Ileum', 'A-Colon',\n",
      "       'T-Colon', 'D-Colon', 'Rectum', 'Perianal', 'Mouth.1', 'Oesophagus.1',\n",
      "       'Stomach.1', 'Duodenum.1', 'Ileum.1', 'A-Colon.1', 'T-Colon.1',\n",
      "       'D-Colon.1', 'Rectum.1', 'Perianal.1'],\n",
      "      dtype='object')\n"
     ]
    }
   ],
   "source": [
    "print(\"Columns in X_train:\", X_train.columns)\n",
    "print(\"Columns in X_test:\", X_test.columns)\n"
   ]
  },
  {
   "cell_type": "code",
   "execution_count": 24,
   "metadata": {},
   "outputs": [],
   "source": [
    "from sklearn.metrics import accuracy_score, classification_report, confusion_matrix\n",
    "y_test_pred_encoded = clf.predict(X_test)\n",
    "\n",
    "# Evaluate the model on the testing data\n",
    "test_accuracy = accuracy_score(y_test_encoded, y_test_pred_encoded)\n",
    "test_classification_report = classification_report(y_test_encoded, y_test_pred_encoded, zero_division=1)\n",
    "test_confusion_matrix = confusion_matrix(y_test_encoded, y_test_pred_encoded)\n",
    "\n",
    "\n"
   ]
  },
  {
   "cell_type": "code",
   "execution_count": 25,
   "metadata": {},
   "outputs": [
    {
     "name": "stdout",
     "output_type": "stream",
     "text": [
      "Test Accuracy: 0.7083333333333334\n",
      "\n",
      "Classification Report:\n",
      "               precision    recall  f1-score   support\n",
      "\n",
      "           0       0.85      0.80      0.82        35\n",
      "           1       0.00      1.00      0.00         0\n",
      "           2       0.67      0.46      0.55        13\n",
      "\n",
      "    accuracy                           0.71        48\n",
      "   macro avg       0.51      0.75      0.46        48\n",
      "weighted avg       0.80      0.71      0.75        48\n",
      "\n",
      "\n",
      "Confusion Matrix:\n",
      " [[28  4  3]\n",
      " [ 0  0  0]\n",
      " [ 5  2  6]]\n"
     ]
    }
   ],
   "source": [
    "print(\"Test Accuracy:\", test_accuracy)\n",
    "print(\"\\nClassification Report:\\n\", test_classification_report)\n",
    "print(\"\\nConfusion Matrix:\\n\", test_confusion_matrix)\n"
   ]
  },
  {
   "cell_type": "markdown",
   "metadata": {},
   "source": [
    "Test Accuracy: This is a measure of how accurately your model predicts the target variable on the testing data. It's the ratio of correctly predicted samples to the total number of samples in the testing dataset. Higher accuracy values indicate better model performance.\n",
    "\n",
    "Classification Report: This report provides detailed metrics for each class in your dataset. For each class, it includes the following:\n",
    "\n",
    "Precision: Precision measures how many of the predicted positive instances for a class were actually positive. It's the ratio of true positives to the sum of true positives and false positives.\n",
    "Recall: Recall (or true positive rate) measures how many of the actual positive instances for a class were correctly predicted. It's the ratio of true positives to the sum of true positives and false negatives.\n",
    "F1-Score: The F1-score is the harmonic mean of precision and recall. It provides a balance between precision and recall and is often used when dealing with imbalanced datasets.\n",
    "Support: The support is the number of samples in the testing dataset that belong to each class.\n",
    "Confusion Matrix: The confusion matrix is a table that summarizes the model's performance by showing the number of true positives, true negatives, false positives, and false negatives. It provides a more detailed breakdown of the model's errors and correct predictions for each class."
   ]
  },
  {
   "cell_type": "code",
   "execution_count": 26,
   "metadata": {},
   "outputs": [
    {
     "name": "stdout",
     "output_type": "stream",
     "text": [
      "Predicted Diagnosis: Crohn's Disease\n"
     ]
    }
   ],
   "source": [
    "import pandas as pd\n",
    "import numpy as np\n",
    "from sklearn.model_selection import train_test_split\n",
    "from sklearn.tree import DecisionTreeClassifier\n",
    "from sklearn.metrics import accuracy_score\n",
    "\n",
    "# ... (code for loading and preprocessing training data)\n",
    "\n",
    "# Train the Decision Tree Classifier\n",
    "clf = DecisionTreeClassifier()\n",
    "clf.fit(X_train, y_train_encoded)\n",
    "\n",
    "# ... (code for evaluating the model, including accuracy_score)\n",
    "\n",
    "# Function to make predictions based on user input\n",
    "# def predict_diagnosis(user_input):\n",
    "#     # Preprocess user input\n",
    "#     user_input_df = pd.DataFrame(user_input, index=[0])\n",
    "#     # Perform preprocessing steps like encoding, scaling, etc.\n",
    "\n",
    "#     # Use the trained classifier to make predictions\n",
    "#     predicted_diagnosis = clf.predict(user_input_df)\n",
    "\n",
    "#     return predicted_diagnosis[0]\n",
    "\n",
    "def predict_diagnosis(user_input, label_encoder):\n",
    "    user_input_df = pd.DataFrame(user_input, index=[0])\n",
    "    predicted_diagnosis_encoded = clf.predict(user_input_df)\n",
    "    predicted_diagnosis = label_encoder.inverse_transform(predicted_diagnosis_encoded)\n",
    "    return predicted_diagnosis[0]\n",
    "\n",
    "# Collect user input\n",
    "user_input = {\n",
    "        'Mouth': float(input(\"Enter Mouth value: \")),\n",
    "        'Oesophagus': float(input(\"Enter Oesophagus value: \")),\n",
    "        'Stomach': float(input(\"Enter Stomach value: \")),\n",
    "        'Duodenum': float(input(\"Enter Duodenum value: \")),\n",
    "        'Ileum': float(input(\"Enter Ileum value: \")),\n",
    "        'A-Colon': float(input(\"Enter A-Colon value: \")),\n",
    "        'T-Colon': float(input(\"Enter T-Colon value: \")),\n",
    "        'D-Colon': float(input(\"Enter D-Colon value: \")),\n",
    "        'Rectum': float(input(\"Enter Rectum value: \")),\n",
    "        'Perianal': float(input(\"Enter Perianal value: \")),\n",
    "        'Mouth.1': float(input(\"Enter Mouth.1 value: \")),\n",
    "        'Oesophagus.1': float(input(\"Enter Oesophagus.1 value: \")),\n",
    "        'Stomach.1': float(input(\"Enter Stomach.1 value: \")),\n",
    "        'Duodenum.1': float(input(\"Enter Duodenum.1 value: \")),\n",
    "        'Ileum.1': float(input(\"Enter Ileum.1 value: \")),\n",
    "        'A-Colon.1': float(input(\"Enter A-Colon.1 value: \")),\n",
    "        'T-Colon.1': float(input(\"Enter T-Colon.1 value: \")),\n",
    "        'D-Colon.1': float(input(\"Enter D-Colon.1 value: \")),\n",
    "        'Rectum.1': float(input(\"Enter Rectum.1 value: \")),\n",
    "        'Perianal.1': float(input(\"Enter Perianal.1 value: \")),\n",
    "    # ... (collect values for all features)\n",
    "}\n",
    "\n",
    "# Initialize a label encoder for the target variable (Diagnosis)\n",
    "label_encoder = LabelEncoder()\n",
    "y_train_encoded = label_encoder.fit_transform(y_train)\n",
    "\n",
    "# Make a diagnosis prediction\n",
    "predicted_diagnosis = predict_diagnosis(user_input, label_encoder)\n",
    "\n",
    "# Display the predicted diagnosis\n",
    "print(\"Predicted Diagnosis:\", predicted_diagnosis)"
   ]
  }
 ],
 "metadata": {
  "kernelspec": {
   "display_name": "Python 3",
   "language": "python",
   "name": "python3"
  },
  "language_info": {
   "codemirror_mode": {
    "name": "ipython",
    "version": 3
   },
   "file_extension": ".py",
   "mimetype": "text/x-python",
   "name": "python",
   "nbconvert_exporter": "python",
   "pygments_lexer": "ipython3",
   "version": "3.9.13"
  },
  "orig_nbformat": 4
 },
 "nbformat": 4,
 "nbformat_minor": 2
}
