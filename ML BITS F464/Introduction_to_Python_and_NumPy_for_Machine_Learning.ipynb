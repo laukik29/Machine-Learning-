{
  "cells": [
    {
      "cell_type": "markdown",
      "metadata": {
        "id": "-yUlZFskgI5g"
      },
      "source": [
        "# **Introduction to Python and NumPy for Machine Learning**\n",
        "\n",
        "Adapted from [DeepMind Educational Resources](https://github.com/deepmind/educational)\n",
        "\n",
        "### **What will we cover?**\n",
        "\n",
        "* Introduction to Python\n",
        "* Matplotlib (Library used for plotting graphs)\n",
        "* NumPy (Library used for dealing with matrices)\n",
        "\n",
        "This is not intended to be an exhaustive resource for teaching either of the topics covered."
      ]
    },
    {
      "cell_type": "markdown",
      "metadata": {
        "id": "rt4JECYLgRW6"
      },
      "source": [
        "# Part I: Introduction to Python\n",
        "\n"
      ]
    },
    {
      "cell_type": "markdown",
      "metadata": {
        "id": "BdIl5Hm_bkf9"
      },
      "source": [
        "### About the Python Language\n",
        "\n",
        "[Python](https://www.python.org/) is a  **interpreted** (1), **high-level** (2), and **dynamically-typed** (3) programming language.\n",
        "\n",
        "Let's break down what we mean by this:\n"
      ]
    },
    {
      "cell_type": "markdown",
      "metadata": {
        "id": "jjc-FaouVsVN"
      },
      "source": [
        "\n",
        "#### 1. Python is an **interpreted** language.\n",
        "\n",
        "This means that there's no compilation step to execute Python code – the code is transformed into machine instructions during execution by a Python interpreter.\n",
        "\n"
      ]
    },
    {
      "cell_type": "markdown",
      "metadata": {
        "id": "xK5LMB6xVtda"
      },
      "source": [
        "\n",
        "\n",
        "#### 2. Python is **high-level**.\n",
        "\n",
        "Python offers many abstractions that make it easy for programmers to code programs without having to understand all the mechanisms underneath that allow the code to actually execute. In fact, reading Python is very similar to reading pseudo-code or even natural language.\n",
        "\n",
        "For example, here is the pseudo-code for bubble sort:\n",
        "\n",
        "```\n",
        "BubbleSort(Array)\n",
        "{\n",
        "    Initialise n = Length of Array\n",
        "    for i = 1 to n do\n",
        "        for j = 1 to n-1 do\n",
        "            if Array[j] > Array[j+1] do\n",
        "                swap(Array[j], Array[j+1])\n",
        "            end\n",
        "        end\n",
        "    end\n",
        "}\n",
        "```\n",
        "\n",
        "And here is the code in actual Python:"
      ]
    },
    {
      "cell_type": "code",
      "execution_count": null,
      "metadata": {
        "id": "YIoSouabfCqe"
      },
      "outputs": [],
      "source": [
        "def bubble_sort(array):\n",
        "  n = len(array)\n",
        "  for i in range(n):\n",
        "    for j in range(n-1):\n",
        "      if array[j] > array[j+1]:\n",
        "        array[j], array[j+1] = array[j+1], array[j]\n",
        "  return array\n",
        "\n",
        "# Checking if the sorting algorithm works as expected.\n",
        "assert bubble_sort([1, 2, 5, 0, 12, 8, 5]) == [0, 1, 2, 5, 5, 8, 12]\n",
        "assert bubble_sort(\n",
        "    [10, 9, 8, 7, 6, 5, 4, 3, 2, 1]) == [1, 2, 3, 4, 5, 6, 7, 8, 9, 10]\n",
        "assert bubble_sort([0]) == [0]\n",
        "assert bubble_sort([100, 500, -1, 0]) == [-1, 0, 100, 500]"
      ]
    },
    {
      "cell_type": "markdown",
      "metadata": {
        "id": "dXFtEam69sHW"
      },
      "source": [
        "The fact that Python is high-level makes it quite readable (compared to other programming languages, for example C++ or Java) - we hope you agree! :)\n",
        "\n",
        "#### 3. Python is **dynamically-typed**\n",
        "\n",
        "This means that the type of a variable (e.g. whether it's an integer or string) is checked during runtime, so we don't need to specify the variable type when defining it:\n"
      ]
    },
    {
      "cell_type": "code",
      "execution_count": null,
      "metadata": {
        "id": "fWkjOIoxUdBK",
        "outputId": "77e9ec72-a6e6-42d3-9120-ab558d35f6ed"
      },
      "outputs": [
        {
          "data": {
            "text/plain": [
              "11"
            ]
          },
          "execution_count": 3,
          "metadata": {},
          "output_type": "execute_result"
        }
      ],
      "source": [
        "var = 1   # Here, `var` is an int, but we don't need to explicitly state that.\n",
        "var + 10  # Since `var` is an int, we can perform mathematical operations on it."
      ]
    },
    {
      "cell_type": "markdown",
      "metadata": {
        "id": "Ajt-R__y-exy"
      },
      "source": [
        "We could also make `var` be a string (again, without declaring the type beforehand):"
      ]
    },
    {
      "cell_type": "code",
      "execution_count": null,
      "metadata": {
        "id": "a9r8-U95-PTa",
        "outputId": "c8128a40-2f89-4514-b89f-91c3eca52df2"
      },
      "outputs": [
        {
          "data": {
            "application/vnd.google.colaboratory.intrinsic+json": {
              "type": "string"
            },
            "text/plain": [
              "'HELLO'"
            ]
          },
          "execution_count": 4,
          "metadata": {},
          "output_type": "execute_result"
        }
      ],
      "source": [
        "var = 'hello'\n",
        "var.upper()  # We can use the string method upper()."
      ]
    },
    {
      "cell_type": "markdown",
      "metadata": {
        "id": "UCjIoZL0VwP_"
      },
      "source": [
        "## Producing outputs\n",
        "\n",
        "\n",
        "We can write a message on the user's screen with the `print` function."
      ]
    },
    {
      "cell_type": "code",
      "execution_count": null,
      "metadata": {
        "id": "3XR4ywX7V0EA",
        "outputId": "5e7e7899-18e3-4636-8c0b-984ae7441d86"
      },
      "outputs": [
        {
          "name": "stdout",
          "output_type": "stream",
          "text": [
            "Hello Machine Learning World!\n"
          ]
        }
      ],
      "source": [
        "print('Hello Machine Learning World!')"
      ]
    },
    {
      "cell_type": "markdown",
      "metadata": {
        "id": "Gnv6ll4CWay4"
      },
      "source": [
        "It's common to format a printed message printed in a more customised manner by using **f-strings** to intersperse raw strings with Python variables or code. F-strings are easy to use: they are in quotes like normal strings, but they start with `f` and contain code elements within squiggly brackets `{}`:\n",
        "\n",
        "For example:"
      ]
    },
    {
      "cell_type": "code",
      "execution_count": null,
      "metadata": {
        "id": "VTP-xnKpWw1N",
        "outputId": "85fc2c90-9b0f-43af-8ce1-e9dbb88d6fc1"
      },
      "outputs": [
        {
          "name": "stdout",
          "output_type": "stream",
          "text": [
            "Hello Alan, good to see you here!\n",
            "How are you, Alan Turing?\n",
            "I hear you were born in 1912!\n"
          ]
        }
      ],
      "source": [
        "name = \"Alan\" # @param {type:\"string\"}\n",
        "last_name = \"Turing\"  # @param {type:\"string\"}\n",
        "birth_year = 1912 # @param {type:\"integer\"}\n",
        "\n",
        "print(f'Hello {name}, good to see you here!')\n",
        "print(f'How are you, {name + \" \" + last_name}?')\n",
        "print(f'I hear you were born in {birth_year}!')"
      ]
    },
    {
      "cell_type": "markdown",
      "metadata": {
        "id": "SRTcZKEonA7Q"
      },
      "source": [
        "For more about string formatting, check out [this resource](https://docs.python.org/3/tutorial/inputoutput.html)."
      ]
    },
    {
      "cell_type": "markdown",
      "metadata": {
        "id": "rDKC2-zcl8TO"
      },
      "source": [
        "## Common Python Types and How to Manipulate Them\n",
        "\n",
        "Here, we define the most common Python types – from simpler types such as numbers, strings and booleans, to more complex container types such as lists, tuples and dictionaries."
      ]
    },
    {
      "cell_type": "markdown",
      "metadata": {
        "id": "oefDNdUwmGgm"
      },
      "source": [
        "### Numbers\n",
        "\n",
        "Python supports three basic number types: **integers**, **floating point** numbers (or **floats**) and **complex numbers**. Here, we'll take a look at integers and floating point numbers."
      ]
    },
    {
      "cell_type": "markdown",
      "metadata": {
        "id": "7wj461apaIwH"
      },
      "source": [
        "#### Types of Numbers"
      ]
    },
    {
      "cell_type": "code",
      "execution_count": null,
      "metadata": {
        "id": "-zHYAtRCmI4o",
        "outputId": "a32c3fe9-653b-4fca-f4d7-f1e0c753af8f"
      },
      "outputs": [
        {
          "name": "stdout",
          "output_type": "stream",
          "text": [
            "1 \t\t type num_1: <class 'int'>\n",
            "1.0 \t\t type num_2: <class 'float'>\n",
            "1000000.0 \t type num_3: <class 'float'>\n",
            "-25000000.0 \t type num_4: <class 'float'>\n",
            "-0.000314 \t type num_5: <class 'float'>\n",
            "14000000 \t type num_6: <class 'int'>\n"
          ]
        }
      ],
      "source": [
        "num_1 = 1\n",
        "# Note that \\t is a character that prints a \"tab key\", a special character\n",
        "# often used to create nicely aligned output (see the output of this cell).\n",
        "print(num_1, '\\t\\t', 'type num_1:', type(num_1))\n",
        "\n",
        "num_2 = 1.0\n",
        "print(num_2, '\\t\\t', 'type num_2:', type(num_2))\n",
        "\n",
        "# Scientific notation using e<number> facilitates reading very large\n",
        "# or very small numbers.\n",
        "num_3 = 1e6\n",
        "print(num_3, '\\t', 'type num_3:', type(num_3))\n",
        "num_4 = -2.5e7\n",
        "print(num_4, '\\t', 'type num_4:', type(num_4))\n",
        "num_5 = -3.14e-4\n",
        "print(num_5, '\\t', 'type num_5:', type(num_5))\n",
        "\n",
        "# Underscore notation using _ facilitates reading very large numbers.\n",
        "num_6 = 14_000_000\n",
        "print(num_6, '\\t', 'type num_6:', type(num_6))"
      ]
    },
    {
      "cell_type": "markdown",
      "metadata": {
        "id": "dI3ny3H5XCnO"
      },
      "source": [
        "#### Mathematical Operations on Numbers"
      ]
    },
    {
      "cell_type": "code",
      "execution_count": null,
      "metadata": {
        "id": "rAqmCSuIXFhh",
        "outputId": "1bc8c466-4d34-44b0-c83f-d25302350fe3"
      },
      "outputs": [
        {
          "name": "stdout",
          "output_type": "stream",
          "text": [
            "Sum\t\t20 + 3 = 23\n",
            "Division\t20 / 3 = 6.666666666666667\n",
            "Floor Division\t20 // 3 = 6\n",
            "Modulo\t\t20 % 3 = 2\n",
            "Multiplication\t20 * 3 = 60\n",
            "Exponentiation\t20 ** 3 = 8000\n",
            "Negated value\t-(20) = -20\n",
            "Absolute value\tabs(-20) = 20\n"
          ]
        }
      ],
      "source": [
        "num_1 = 20  # @param\n",
        "num_2 = 3   # @param\n",
        "\n",
        "# Sum.\n",
        "print(f'Sum\\t\\t{num_1} + {num_2} =', num_1 + num_2)\n",
        "\n",
        "# Division.\n",
        "print(f'Division\\t{num_1} / {num_2} =', num_1 / num_2)\n",
        "\n",
        "# Floor division.\n",
        "print(f'Floor Division\\t{num_1} // {num_2} =', num_1 // num_2)\n",
        "\n",
        "# Modulo (division remainder).\n",
        "print(f'Modulo\\t\\t{num_1} % {num_2} =', num_1 % num_2)\n",
        "\n",
        "# Multiplication.\n",
        "print(f'Multiplication\\t{num_1} * {num_2} =', num_1 * num_2)\n",
        "\n",
        "# Exponentiation.\n",
        "print(f'Exponentiation\\t{num_1} ** {num_2} =', num_1 ** num_2)\n",
        "\n",
        "# Negative.\n",
        "print(f'Negated value\\t-({num_1}) =', -num_1)\n",
        "\n",
        "# Absolute value.\n",
        "print(f'Absolute value\\tabs({-num_1}) =', abs(-num_1))"
      ]
    },
    {
      "cell_type": "markdown",
      "metadata": {
        "id": "8LiS9gsFovqH"
      },
      "source": [
        "### Strings\n"
      ]
    },
    {
      "cell_type": "markdown",
      "metadata": {
        "id": "qF6RSXz1pLyv"
      },
      "source": [
        "Python has a lot of facilities to manipulate strings. Check out [these docs]( https://docs.python.org/3.4/library/string.html) for more examples.\n",
        "\n",
        "Here is a non-exhaustive list of cool things we can do with strings:"
      ]
    },
    {
      "cell_type": "code",
      "execution_count": null,
      "metadata": {
        "id": "1UysSiXZpOFY",
        "outputId": "ef9167c8-9f19-45fa-8202-2be7e42f537d"
      },
      "outputs": [
        {
          "name": "stdout",
          "output_type": "stream",
          "text": [
            "String \"abc\" has length 3\n"
          ]
        }
      ],
      "source": [
        "# We can check the length of a string.\n",
        "str_1 = 'abc'\n",
        "print(f'String \"{str_1}\" has length', len(str_1))"
      ]
    },
    {
      "cell_type": "code",
      "execution_count": null,
      "metadata": {
        "id": "b9y5SpWnVmUU",
        "outputId": "79f7505d-c121-4bf5-c471-9371effd31f0"
      },
      "outputs": [
        {
          "name": "stdout",
          "output_type": "stream",
          "text": [
            "First letter of string \"abc\" is a\n",
            "Second letter of string \"abc\" is b\n",
            "Third letter of string \"abc\" is c\n"
          ]
        }
      ],
      "source": [
        "# We can get a specific letter from the string using indexing.\n",
        "print(f'First letter of string \"{str_1}\" is {str_1[0]}')\n",
        "print(f'Second letter of string \"{str_1}\" is {str_1[1]}')\n",
        "print(f'Third letter of string \"{str_1}\" is {str_1[2]}')"
      ]
    },
    {
      "cell_type": "code",
      "execution_count": null,
      "metadata": {
        "id": "ksGbeemNqFK8",
        "outputId": "06865d99-0c2f-4c88-c7d5-b1da60077458"
      },
      "outputs": [
        {
          "data": {
            "application/vnd.google.colaboratory.intrinsic+json": {
              "type": "string"
            },
            "text/plain": [
              "'abc def'"
            ]
          },
          "execution_count": 16,
          "metadata": {},
          "output_type": "execute_result"
        }
      ],
      "source": [
        "# Concatenate strings!\n",
        "str_2 = 'def'\n",
        "str_1 + ' ' + str_2"
      ]
    },
    {
      "cell_type": "code",
      "execution_count": null,
      "metadata": {
        "id": "XIA8Js4S3-qX",
        "outputId": "22b226df-6e82-4bfa-ec9f-a9823e7a9d77"
      },
      "outputs": [
        {
          "name": "stdout",
          "output_type": "stream",
          "text": [
            "abc abcabcabcabcabcabcabcabcabcabc\n"
          ]
        }
      ],
      "source": [
        "# Repeat a string many times.\n",
        "print(str_1, str_1 * 10)"
      ]
    },
    {
      "cell_type": "markdown",
      "metadata": {
        "id": "Ib9uUH_7nM8_"
      },
      "source": [
        "### Booleans\n",
        "\n",
        "Booleans represent the logical values 1 (`True`) or 0 (`False`)."
      ]
    },
    {
      "cell_type": "code",
      "execution_count": null,
      "metadata": {
        "id": "ifVo1myInMo-"
      },
      "outputs": [],
      "source": [
        "bool_a = True\n",
        "bool_b = False"
      ]
    },
    {
      "cell_type": "markdown",
      "metadata": {
        "id": "ENgv2gQiwTFd"
      },
      "source": [
        "Let's get familiar with some operations involving boolean variables:"
      ]
    },
    {
      "cell_type": "code",
      "execution_count": null,
      "metadata": {
        "id": "wR-1cQqfpjBp",
        "outputId": "2f45c6cc-8c4e-49e6-c753-92c4b9150a98"
      },
      "outputs": [
        {
          "name": "stdout",
          "output_type": "stream",
          "text": [
            "OR \t True OR False = True\n",
            "AND \t True AND False = False\n",
            "NOT \t NOT True = False\n",
            "XOR \t True XOR False = True\n"
          ]
        }
      ],
      "source": [
        "print(f'OR \\t {bool_a} OR {bool_b} =', bool_a or bool_b)\n",
        "print(f'AND \\t {bool_a} AND {bool_b} =', bool_a and bool_b)\n",
        "print(f'NOT \\t NOT {bool_a} =', not bool_a)\n",
        "print(f'XOR \\t {bool_a} XOR {bool_b} =', bool_a ^ bool_b)  # Exclusive OR."
      ]
    },
    {
      "cell_type": "markdown",
      "metadata": {
        "id": "6zU3TAnbaVRZ"
      },
      "source": [
        "### Containers\n",
        "\n",
        "Containers are capable of storing many values in a single place. Python has many different containers. Here, we'll talk about the most common ones:\n",
        "\n",
        "* Lists\n",
        "* Tuples\n",
        "* Dictionaries\n",
        "\n"
      ]
    },
    {
      "cell_type": "markdown",
      "metadata": {
        "id": "GPIxKmWwBSwt"
      },
      "source": [
        "\n",
        "#### Lists\n",
        "\n",
        "Lists are similar to arrays in other programming languages but are **dynamic**, which means that they can increase in size:"
      ]
    },
    {
      "cell_type": "code",
      "execution_count": null,
      "metadata": {
        "id": "ru7wkhA1sNKg",
        "outputId": "43e7824a-10a4-46f3-ebbe-dc8a1d130751"
      },
      "outputs": [
        {
          "name": "stdout",
          "output_type": "stream",
          "text": [
            "[1] \n",
            "\n",
            "[1, 1, 2, 3]\n",
            "4 \n",
            "\n",
            "2 \n",
            "\n",
            "4 \n",
            "\n",
            "[1000, 1, 2, 3, 1000, 1, 2, 3] \n",
            "\n",
            "[1, 2, 3, 1000] \n",
            "\n",
            "[1000, 1, 3] \n",
            "\n"
          ]
        }
      ],
      "source": [
        "my_list = []       # Define a list.\n",
        "my_list.append(1)  # Add an element to a list.\n",
        "print(my_list, '\\n')\n",
        "\n",
        "my_list.extend([1, 2, 3])  # Extend a list with another list.\n",
        "print(my_list)\n",
        "print(len(my_list), '\\n')  # Get the number of values in the list.\n",
        "\n",
        "# We can access values by index.\n",
        "print(my_list[2], '\\n')\n",
        "\n",
        "my_list[0] = 1000  # Change value of first element in list.\n",
        "print(len(my_list), '\\n')\n",
        "\n",
        "# The add operation concatenates lists!\n",
        "print(my_list + my_list, '\\n')\n",
        "\n",
        "# We can sort a list.\n",
        "print(sorted(my_list), '\\n')\n",
        "\n",
        "my_list.remove(2)   # Removes the first occurrence of a value.\n",
        "print(my_list, '\\n')"
      ]
    },
    {
      "cell_type": "markdown",
      "metadata": {
        "id": "Wpdl3dQeBUPz"
      },
      "source": [
        "#### Matrices\n",
        "\n",
        "We can represent a matrix in Python by having a list of lists where all the inner lists have the same length:\n",
        "\n",
        "\n",
        "![picture](https://storage.googleapis.com/dm-educational/assets/intro-to-python-and-numpy/indexing_2d.svg)\n"
      ]
    },
    {
      "cell_type": "code",
      "execution_count": null,
      "metadata": {
        "id": "M6cGwJLJBlRx",
        "outputId": "e4084fba-195b-4f71-cb0c-7b14225fffe5"
      },
      "outputs": [
        {
          "name": "stdout",
          "output_type": "stream",
          "text": [
            "3\n",
            "5\n",
            "Number of rows 4\n",
            "Number of columns 3\n"
          ]
        }
      ],
      "source": [
        "matrix = [\n",
        "          [1, 2, 3],\n",
        "          [4, 5, 6],\n",
        "          [7, 8, 9],\n",
        "          [10, 11, 12],\n",
        "          ]\n",
        "\n",
        "# Get a specific element.\n",
        "print(matrix[0][2])  # Get the element at the first row, third column.\n",
        "print(matrix[1][1])  # Get the element at the second row, second column.\n",
        "\n",
        "print('Number of rows', len(matrix))\n",
        "print('Number of columns', len(matrix[0]))"
      ]
    },
    {
      "cell_type": "markdown",
      "metadata": {
        "id": "oq4VgBSZs2Q_"
      },
      "source": [
        "#### Tuples\n",
        "\n",
        "Tuples are similar to lists but are **immutable**."
      ]
    },
    {
      "cell_type": "code",
      "execution_count": null,
      "metadata": {
        "id": "f4FTlflRuVIW",
        "outputId": "f25fc94e-380b-4784-a9c7-0788bbb256da"
      },
      "outputs": [
        {
          "name": "stdout",
          "output_type": "stream",
          "text": [
            "(1, 2, 3)\n",
            "1\n",
            "2\n",
            "3\n",
            "1 2 3\n",
            "(1, 2, 3, 4)\n"
          ]
        }
      ],
      "source": [
        "my_tuple = (1, 2, 3)  # Create a tuple.\n",
        "print(my_tuple)\n",
        "\n",
        "# Access its values using indices.\n",
        "print(my_tuple[0])\n",
        "print(my_tuple[1])\n",
        "print(my_tuple[2])\n",
        "\n",
        "# Access its values by unpacking (assigning variables for each tuple value).\n",
        "a, b, c = my_tuple\n",
        "print(a, b, c)\n",
        "\n",
        "print(my_tuple + (4,))  # We can concatenate tuples."
      ]
    },
    {
      "cell_type": "markdown",
      "metadata": {
        "id": "Gq0SZT5AvD06"
      },
      "source": [
        "#### Dictionaries\n",
        "\n",
        "Dictionaries (also called maps or associative arrays in other languages) associate two types of elements to each other: `keys` and `values`."
      ]
    },
    {
      "cell_type": "code",
      "execution_count": null,
      "metadata": {
        "id": "hfZ5gJD5ve47",
        "outputId": "dbf9e43c-ffee-482e-e572-1719d46aafd5"
      },
      "outputs": [
        {
          "name": "stdout",
          "output_type": "stream",
          "text": [
            "{'num_fruit': 5}\n"
          ]
        }
      ],
      "source": [
        "my_dict = {}    # Create an empty dictionary.\n",
        "my_dict['num_fruit'] = 5  # Associates the key 'num_fruit' to the value 5.\n",
        "print(my_dict)"
      ]
    },
    {
      "cell_type": "markdown",
      "metadata": {
        "id": "egoMuN9-veQ9"
      },
      "source": [
        "`keys` are unique, so a dictionary  can't have multiple multiple values associated with a given `key`:"
      ]
    },
    {
      "cell_type": "code",
      "execution_count": null,
      "metadata": {
        "id": "G7My37dGvp59",
        "outputId": "01d6382b-74f4-47da-d897-d140d106b921"
      },
      "outputs": [
        {
          "name": "stdout",
          "output_type": "stream",
          "text": [
            "{'num_fruit': 2}\n"
          ]
        }
      ],
      "source": [
        "# Update the value of key 'num_fruit' to be associated with the value 2.\n",
        "my_dict['num_fruit'] = 2\n",
        "print(my_dict)"
      ]
    },
    {
      "cell_type": "code",
      "execution_count": null,
      "metadata": {
        "id": "Zk8OPaJI0sNU",
        "outputId": "cded58f0-a2d8-4ba5-caa9-59ef4953f8cc"
      },
      "outputs": [
        {
          "data": {
            "text/plain": [
              "{'num_fruit': 10, 'origin': 'Brazil'}"
            ]
          },
          "execution_count": 30,
          "metadata": {},
          "output_type": "execute_result"
        }
      ],
      "source": [
        "# We can also update a dictionary using `update()`.\n",
        "my_dict.update({'num_fruit': 10,\n",
        "                'origin': 'Brazil'})\n",
        "my_dict"
      ]
    },
    {
      "cell_type": "code",
      "execution_count": null,
      "metadata": {
        "id": "tlHxIRnT0rKj",
        "outputId": "dea73a08-bdc3-435f-b42c-ad41609a7b1e"
      },
      "outputs": [
        {
          "name": "stdout",
          "output_type": "stream",
          "text": [
            "10\n"
          ]
        }
      ],
      "source": [
        "print(my_dict['num_fruit'])  # Access a specific value by keying in."
      ]
    },
    {
      "cell_type": "code",
      "execution_count": null,
      "metadata": {
        "id": "e8hQyBlAxQ-J",
        "outputId": "a1c26e6c-e811-45ad-8dee-c2009b81d476"
      },
      "outputs": [
        {
          "ename": "KeyError",
          "evalue": "ignored",
          "output_type": "error",
          "traceback": [
            "\u001b[0;31m---------------------------------------------------------------------------\u001b[0m",
            "\u001b[0;31mKeyError\u001b[0m                                  Traceback (most recent call last)",
            "\u001b[0;32m<ipython-input-32-1ec72684f3bd>\u001b[0m in \u001b[0;36m<module>\u001b[0;34m()\u001b[0m\n\u001b[1;32m      1\u001b[0m \u001b[0;31m# We'll see a KeyError if we try to access a key that is not on the dict.\u001b[0m\u001b[0;34m\u001b[0m\u001b[0;34m\u001b[0m\u001b[0;34m\u001b[0m\u001b[0m\n\u001b[0;32m----> 2\u001b[0;31m \u001b[0mmy_dict\u001b[0m\u001b[0;34m[\u001b[0m\u001b[0;34m'ripe'\u001b[0m\u001b[0;34m]\u001b[0m  \u001b[0;31m# KeyError: 'ripe'\u001b[0m\u001b[0;34m\u001b[0m\u001b[0;34m\u001b[0m\u001b[0m\n\u001b[0m",
            "\u001b[0;31mKeyError\u001b[0m: 'ripe'"
          ]
        }
      ],
      "source": [
        "# We'll see a KeyError if we try to access a key that is not on the dict.\n",
        "my_dict['ripe']  # KeyError: 'ripe'"
      ]
    },
    {
      "cell_type": "code",
      "execution_count": null,
      "metadata": {
        "id": "1Vv5XcWtxaGo",
        "outputId": "9df3af18-b9e2-4399-d9f0-ed9eeea8b091"
      },
      "outputs": [
        {
          "name": "stdout",
          "output_type": "stream",
          "text": [
            "False\n",
            "True\n"
          ]
        }
      ],
      "source": [
        "# We can check if a key is in the dict before trying to get its value.\n",
        "print('ripe' in my_dict)\n",
        "print('origin' in my_dict)"
      ]
    },
    {
      "cell_type": "markdown",
      "metadata": {
        "id": "n0VFm9IBvwYo"
      },
      "source": [
        "We can also create a dictionary with prepopulated keys and values."
      ]
    },
    {
      "cell_type": "code",
      "execution_count": null,
      "metadata": {
        "id": "LWcMIGhDv0BF",
        "outputId": "a42babcd-cfd5-4f1b-ab79-7d48373985e7"
      },
      "outputs": [
        {
          "name": "stdout",
          "output_type": "stream",
          "text": [
            "{'num_fruit': 10, 'origin': 'Brazil', 'ripe': True}\n",
            "True\n"
          ]
        }
      ],
      "source": [
        "my_dict = {\n",
        "    'num_fruit': 10,\n",
        "    'origin': 'Brazil',\n",
        "    'ripe': True\n",
        "}\n",
        "\n",
        "print(my_dict)\n",
        "print(my_dict['ripe'])"
      ]
    },
    {
      "cell_type": "code",
      "execution_count": null,
      "metadata": {
        "id": "5GK1KsTlv-cS",
        "outputId": "1c5c7905-7787-4097-cec4-c0fa717aa615"
      },
      "outputs": [
        {
          "name": "stdout",
          "output_type": "stream",
          "text": [
            "dict_keys(['num_fruit', 'origin', 'ripe'])\n",
            "dict_values([10, 'Brazil', True])\n",
            "dict_items([('num_fruit', 10), ('origin', 'Brazil'), ('ripe', True)])\n"
          ]
        }
      ],
      "source": [
        "print(my_dict.keys())    # Get only the keys.\n",
        "print(my_dict.values())  # Get only the values.\n",
        "print(my_dict.items())   # Get both keys and values as a tuple!"
      ]
    },
    {
      "cell_type": "markdown",
      "metadata": {
        "id": "Wy9905NUwWNw"
      },
      "source": [
        "In machine learning, we can use dictionaries to for example map strings to numbers. Machine learning models generally don't understand strings, so when dealing with text data, it is very common to map each string to a numerical value:"
      ]
    },
    {
      "cell_type": "code",
      "execution_count": null,
      "metadata": {
        "id": "a62lM_H9woLm",
        "outputId": "0825d9a2-f099-4e8f-de89-074597d2136d"
      },
      "outputs": [
        {
          "name": "stdout",
          "output_type": "stream",
          "text": [
            "1\n",
            "3\n",
            "False\n"
          ]
        }
      ],
      "source": [
        "my_strings = ['I', 'love', 'ML', '<3', '<3', '<3', '!']\n",
        "\n",
        "str_to_int = {\n",
        "    'I': 1,\n",
        "    'love': 2,\n",
        "    'ML': 3,\n",
        "    '<3': 4,\n",
        "    }\n",
        "\n",
        "print(str_to_int['I'])\n",
        "print(str_to_int[my_strings[2]])\n",
        "print('!' in str_to_int)"
      ]
    },
    {
      "cell_type": "markdown",
      "metadata": {
        "id": "nU6hLwijafuO"
      },
      "source": [
        "## Conditions\n",
        "\n",
        "In Python, we can check for conditions using `if`, `elif` and `else`.\n",
        "\n",
        "As we saw before, it is a good idea to check if the key is present before trying to access its value. Here is a common usage pattern using `if` to accomplish this:"
      ]
    },
    {
      "cell_type": "code",
      "execution_count": null,
      "metadata": {
        "id": "UaNa-LexyGdr",
        "outputId": "237a26df-da0c-45c1-93b7-cfbba47daab8"
      },
      "outputs": [
        {
          "name": "stdout",
          "output_type": "stream",
          "text": [
            "True\n",
            "The value for love is 2\n"
          ]
        }
      ],
      "source": [
        "# Check if the key is in dict.\n",
        "key = 'love'  #@param\n",
        "\n",
        "print(key in str_to_int)\n",
        "\n",
        "if key in str_to_int:\n",
        "  print(f'The value for {key} is {str_to_int[key]}')\n",
        "else:\n",
        "  print(f'{key} is not in the dictionary')"
      ]
    },
    {
      "cell_type": "markdown",
      "metadata": {
        "id": "NzoJV0jkzFj8"
      },
      "source": [
        "We can also use `elif` to check multiple conditions. For example:"
      ]
    },
    {
      "cell_type": "code",
      "execution_count": null,
      "metadata": {
        "id": "dj8sWzxEzJdH",
        "outputId": "49cc9190-695d-484f-e513-c6c43f7dc73f"
      },
      "outputs": [
        {
          "name": "stdout",
          "output_type": "stream",
          "text": [
            "47 is bigger than 11\n"
          ]
        }
      ],
      "source": [
        "num_1 = 47  #@param {type:\"slider\", min:0, max:100, step:1}\n",
        "num_2 = 11  #@param {type:\"slider\", min:0, max:100, step:1}\n",
        "\n",
        "if num_1 > num_2:\n",
        "  print(f'{num_1} is bigger than {num_2}')\n",
        "elif num_1 < num_2:\n",
        "  print(f'{num_1} is smaller than {num_2}')\n",
        "# We could have more elif blocks here...\n",
        "else:\n",
        "  print(f'{num_1} is equal to {num_2}')"
      ]
    },
    {
      "cell_type": "markdown",
      "metadata": {
        "id": "Okej7Duoqnkz"
      },
      "source": [
        "## Loops"
      ]
    },
    {
      "cell_type": "code",
      "execution_count": null,
      "metadata": {
        "id": "LH69vBTW2hn7",
        "outputId": "b31089b3-1971-4365-998a-b8b3ce967db5"
      },
      "outputs": [
        {
          "name": "stdout",
          "output_type": "stream",
          "text": [
            "Hello World\n",
            "Hello World\n",
            "Hello World\n",
            "Hello World\n",
            "Hello World\n"
          ]
        }
      ],
      "source": [
        "for i in range(5):  # Iterate 5 times.\n",
        "  print('i = ', i)"
      ]
    },
    {
      "cell_type": "markdown",
      "metadata": {
        "id": "drld3nfD2VpX"
      },
      "source": [
        "Another common use case for loops is to iterate over elements of containers:"
      ]
    },
    {
      "cell_type": "code",
      "execution_count": 1,
      "metadata": {
        "id": "p_8bYRDA3RtQ",
        "outputId": "de4f01cf-c5d4-4668-b246-0d2df6c91119"
      },
      "outputs": [
        {
          "name": "stdout",
          "output_type": "stream",
          "text": [
            "Car\n",
            "Bike\n",
            "Cycle\n"
          ]
        }
      ],
      "source": [
        "my_list = ['Car', 'Bike', 'Cycle']\n",
        "\n",
        "for value in my_list:\n",
        "  print(value)"
      ]
    },
    {
      "cell_type": "markdown",
      "metadata": {
        "id": "CjjWEVu16G04"
      },
      "source": [
        "We can use `enumerate` to get also the index of the elements:"
      ]
    },
    {
      "cell_type": "code",
      "execution_count": null,
      "metadata": {
        "id": "W-KfUiQjqqnx",
        "outputId": "06eccf15-246d-478e-e0a0-7d67df53054b"
      },
      "outputs": [
        {
          "name": "stdout",
          "output_type": "stream",
          "text": [
            "0 100\n",
            "1 150\n",
            "2 200\n"
          ]
        }
      ],
      "source": [
        "for index, value in enumerate(my_list):\n",
        "  print(index, value)"
      ]
    },
    {
      "cell_type": "markdown",
      "metadata": {
        "id": "y0hTrSry6StW"
      },
      "source": [
        "Let's try iterating over keys and values in a dictionary:"
      ]
    },
    {
      "cell_type": "code",
      "execution_count": null,
      "metadata": {
        "id": "CQ_62ZEh3g4K",
        "outputId": "1a6596c6-adbc-4dec-ef88-fddce78e7843"
      },
      "outputs": [
        {
          "name": "stdout",
          "output_type": "stream",
          "text": [
            "1 a\n",
            "2 b\n",
            "3 c\n"
          ]
        }
      ],
      "source": [
        "my_dict = {1: 'a', 2: 'b', 3: 'c'}\n",
        "\n",
        "# If we iterate on a dict, we get its keys.\n",
        "for key in my_dict:\n",
        "  print(key, my_dict[key])"
      ]
    },
    {
      "cell_type": "markdown",
      "metadata": {
        "id": "1UcDATA86j4z"
      },
      "source": [
        "A more elegant way to iterate over the `(key, value)` tuples in a dictionary is by using `items()`:"
      ]
    },
    {
      "cell_type": "code",
      "execution_count": null,
      "metadata": {
        "id": "_aPWsv_z6jCv",
        "outputId": "bc57b8eb-808e-4b0f-9da6-fa427c5ed72d"
      },
      "outputs": [
        {
          "name": "stdout",
          "output_type": "stream",
          "text": [
            "1 a\n",
            "2 b\n",
            "3 c\n"
          ]
        }
      ],
      "source": [
        "for key, value in my_dict.items():\n",
        "  print(key, value)"
      ]
    },
    {
      "cell_type": "markdown",
      "metadata": {
        "id": "Z6vPOTOFaitM"
      },
      "source": [
        "## Functions\n",
        "\n",
        "We use the `def` keyword while creating functions"
      ]
    },
    {
      "cell_type": "code",
      "execution_count": null,
      "metadata": {
        "id": "yU2m0sBj5LD2",
        "outputId": "030f433c-66dd-4c33-b140-f62ae05e0474"
      },
      "outputs": [
        {
          "name": "stdout",
          "output_type": "stream",
          "text": [
            "The sum of 10 + 12 is 22\n",
            "The sum of 1.3 + -1 is 0.30000000000000004\n",
            "The sum of 10000000.0 + 2e-06 is 10000000.000002\n"
          ]
        }
      ],
      "source": [
        "def sign(num):\n",
        "  if num > 0:\n",
        "    print(\"Positive\")\n",
        "  elif num < 0:\n",
        "    print(\"Negative\")\n",
        "  else:\n",
        "    print(\"Zero\")\n",
        "\n",
        "\n",
        "sign(10)\n",
        "sign(0)\n",
        "sign(-10)"
      ]
    },
    {
      "cell_type": "markdown",
      "metadata": {
        "id": "jaANQLTn4ctx"
      },
      "source": [
        "## Classes and Objects\n",
        "\n",
        "Python is an **Object Oriented** language. As the [Python docs](https://docs.python.org/3/reference/datamodel.html) state:\n",
        "\n",
        "> Objects are Python’s abstraction for data. All data in a Python program is represented by objects or by relations between objects.\n",
        "\n",
        "Below is how you create a class in Python.\n"
      ]
    },
    {
      "cell_type": "code",
      "execution_count": null,
      "metadata": {
        "id": "gvARiSXg5fd9"
      },
      "outputs": [],
      "source": [
        "class PrintMessage:\n",
        "  \"\"\"A simple example class.\"\"\"\n",
        "\n",
        "  # Init method initialises attributes.\n",
        "  def __init__(self, message):\n",
        "    self.message = message\n",
        "\n",
        "  def print_message(self):\n",
        "    print(self.message)"
      ]
    },
    {
      "cell_type": "code",
      "execution_count": null,
      "metadata": {
        "id": "uWCyh0JD53bP",
        "outputId": "f080fc1a-edad-4ab0-9d39-b3cc58af9529"
      },
      "outputs": [
        {
          "name": "stdout",
          "output_type": "stream",
          "text": [
            "Hello World\n"
          ]
        }
      ],
      "source": [
        "obj = PrintMessage('Hello World')     # Instantiate an object.\n",
        "obj.print_message()                   # Execute method."
      ]
    },
    {
      "cell_type": "code",
      "execution_count": null,
      "metadata": {
        "id": "LUHPVGP67hcC",
        "outputId": "1e74ca3d-cc99-4172-f270-6192c7aef4de"
      },
      "outputs": [
        {
          "name": "stdout",
          "output_type": "stream",
          "text": [
            "<class '__main__.PrintMessage'>\n",
            "True\n"
          ]
        }
      ],
      "source": [
        "print(type(obj))                      # Check the type of object.\n",
        "print(isinstance(obj, PrintMessage))  # Check if object is instance of PrintMessage."
      ]
    },
    {
      "cell_type": "markdown",
      "metadata": {
        "id": "LYP7crsbclrc"
      },
      "source": [
        "## Suggested Exercises\n",
        "\n",
        "1. What does `11 % 3` mean, and what will it evaluate to?\n",
        "2. What does `True ^ False` mean, and what will it evaluate to?\n",
        "3. What will the following expression evaluate to?: `(1 + 2) * -1 * (3 + 4 * 2)`\n",
        "\n",
        "4. What do you think the following code block will print?\n",
        "```python\n",
        "for value in range(8, 3, -1):\n",
        "     print(value)\n",
        "```\n",
        "5. **Challenge Problem**: due to a food transportation logistics issue, we will lose half of our already ripe fruit. How can we update the following fruit dicts to reflect this scenario?\n",
        "\n",
        "```python\n",
        "fruit_dict_1 = {\n",
        "    'num_fruit': 10,\n",
        "    'origin': 'Brazil',\n",
        "    'ripe': True,\n",
        "}\n",
        "\n",
        "fruit_dict_2 = {\n",
        "    'num_fruit': 7,\n",
        "    'origin': 'California',\n",
        "    'ripe': False,\n",
        "}\n",
        "\n",
        "# Write your code to update `num_fruit` in these dicts based on ripeness.\n",
        "```\n"
      ]
    },
    {
      "cell_type": "markdown",
      "metadata": {
        "id": "A5CrAQLYBnKd"
      },
      "source": [
        "<details>   )\n",
        "  <summary>Click here to see the <font color=\"red\"><b>Exercise Solutions</b></font> (but no peeking before you try!)</summary>\n",
        "\n",
        "1. This is the modulo operator, which will return the remainder of the division (in this case, 2).\n",
        "2. This is the exclusive or (XOR) operator. The expression will evaluate to `True`, because exactly one of the two elements is `True`.\n",
        "3. -33\n",
        "4. The `-1` means we will go down by 1 at each step, starting from 8 (inclusive) and ending at 4 (exclusive).\n",
        "5. You could do something like the following:\n",
        "``` python\n",
        "# Iterating over a list of dicts.\n",
        "for fruit_dict in [fruit_dict_1, fruit_dict_2]:\n",
        "      if fruit_dict['ripe']:  # Equivalent to if fruit_dict['ripe'] == True.\n",
        "        # Use floor division since partially rotten fruit is maybe also lost.\n",
        "        fruit_dict['num_fruit'] = fruit_dict['num_fruit'] // 2\n",
        "```\n",
        "</details>\n"
      ]
    },
    {
      "cell_type": "markdown",
      "metadata": {
        "id": "aIPclS7GaleK"
      },
      "source": [
        "##  Useful things to know!\n",
        "\n",
        "Now that we're comfortable with the basics of Python, we can introduce some additional useful tools that you will see repeatedly in machine learning code, starting with indexing and slicing:"
      ]
    },
    {
      "cell_type": "markdown",
      "metadata": {
        "id": "wPWlFFtu_fWa"
      },
      "source": [
        "### Indexing & Slicing\n",
        "\n",
        "\n",
        "Indexing and slicing are extremely useful ways of extracting elements from index-based collections.\n",
        "\n",
        "Indexing accesses elements, whereas slicing extracts a sequence of elements. Consider the following list of lists (which is a matrix of integers, containing 3 rows and 4 columns):\n",
        "\n"
      ]
    },
    {
      "cell_type": "code",
      "execution_count": null,
      "metadata": {
        "id": "15NsfxTxE6lI"
      },
      "outputs": [],
      "source": [
        "a = [\n",
        "     [1, 2, 3, 4],\n",
        "     [5, 6, 7, 8],\n",
        "     [9, 10, 11, 12],\n",
        "     ]"
      ]
    },
    {
      "cell_type": "markdown",
      "metadata": {
        "id": "HYrsPQ0vE8wK"
      },
      "source": [
        "We can access various elements and slices of this matrix as follows:"
      ]
    },
    {
      "cell_type": "markdown",
      "metadata": {
        "id": "ohb4LO1JE56H"
      },
      "source": [
        "\n",
        "\n",
        "![picture](https://storage.googleapis.com/dm-educational/assets/intro-to-python-and-numpy/indexing_2d.svg)"
      ]
    },
    {
      "cell_type": "code",
      "execution_count": null,
      "metadata": {
        "id": "wc6QprU-CoyS",
        "outputId": "e62bc1fb-5d74-4c68-b3ce-5d99a394c2a9"
      },
      "outputs": [
        {
          "name": "stdout",
          "output_type": "stream",
          "text": [
            "6\n",
            "[7, 8, 9]\n",
            "[5, 6]\n"
          ]
        }
      ],
      "source": [
        "print(matrix[1][2])  # Access element in row index 1 and column index 2.\n",
        "print(matrix[:][2])  # Access elements in any row but column index 2.\n",
        "print(matrix[1][])  # Access elements in row index 1, and column indices 1 and 2."
      ]
    },
    {
      "cell_type": "markdown",
      "metadata": {
        "id": "1xGTijYXCkI4"
      },
      "source": [
        "#### Indexing Tips\n",
        "\n",
        "**Note that indexing in Python is zero-based**: [0 denotes the first element](https://en.wikipedia.org/wiki/Zero-based_numbering). This is a bit of a gotcha that catches people off guard. This zero-based indexing is in contrast to some other programming languages like R, in which index numbering starts at 1. People like to have very spirited arguments about which approach is correct/better! ;)\n",
        "\n",
        "Also note that indexing is always integer-based (since passing in floats wouldn't make much sense - what's the 3.7th element in a list?). You can index into various Python containers in a similar manner:\n",
        "\n",
        "* `matrix[i][j]`\n",
        "* `list[i]`\n",
        "* `tuple[i]`\n",
        "* `str[i]`\n",
        "\n",
        "#### Slicing Tips\n",
        "\n",
        "Slicing syntax can be a bit tricky if you are not used to it – slicing in Python is achieved with the `start:stop:step` notation, which denotes:\n",
        "- Where a slice should start (inclusive) by the `start` position\n",
        "- Where the slice should stop by the `stop` position (**not inclusive!** i.e. exclusive)\n",
        "- And what the step size should be along the way by `step` (which is by default 1 if it is not specified)\n",
        "\n",
        "For example:\n",
        "- `:` means the full slice\n",
        "- `1:` means slice from the 2nd element onwards (remember zero-based indexing/slicing!)\n",
        "- `:-1` means slice until the last element (not inclusive; so effectively, this drops the final element).\n",
        "- `1:3` means slice including the second and third elements (the fourth element at index 3 is NOT included).\n",
        "- `::2` means to slice all positions, but take every other element (every 2nd element).\n",
        "\n",
        "\n",
        "One thing to note here: we can do the same with for/while loops and ifs, however it is MUCH more efficient to do this via the built-in mechanisms.\n",
        "\n"
      ]
    },
    {
      "cell_type": "markdown",
      "metadata": {
        "id": "Ve3S2HBYJX9c"
      },
      "source": [
        "Let's play around with some examples of indexing and slicing using our matrix `a`:"
      ]
    },
    {
      "cell_type": "code",
      "execution_count": null,
      "metadata": {
        "id": "hNLJmAzXJctE",
        "outputId": "8cb37974-864e-49d1-a1e4-ac02788bcbb3"
      },
      "outputs": [
        {
          "name": "stdout",
          "output_type": "stream",
          "text": [
            "[5, 6, 7, 8]\n",
            "[5, 6, 7, 8]\n"
          ]
        }
      ],
      "source": [
        "a = [\n",
        "     [1, 2, 3, 4],\n",
        "     [5, 6, 7, 8],\n",
        "     [9, 10, 11, 12],\n",
        "     ]\n",
        "\n",
        "print(a[1])     # 2nd row.\n",
        "print(a[1][:])  # The same as above (colon = full slice)."
      ]
    },
    {
      "cell_type": "markdown",
      "metadata": {
        "id": "U3JBzA0tJ7lC"
      },
      "source": [
        "Let's get slightly trickier:"
      ]
    },
    {
      "cell_type": "code",
      "execution_count": null,
      "metadata": {
        "id": "0uHSv9a4GDG8",
        "outputId": "23b5e535-bd76-46ea-ef17-5dc318553032"
      },
      "outputs": [
        {
          "name": "stdout",
          "output_type": "stream",
          "text": [
            "[6, 7, 8]\n",
            "[5, 6, 7]\n"
          ]
        }
      ],
      "source": [
        "print(a[1][1:])   # Get elements in 2nd row, from the 2nd column until the end.\n",
        "print(a[1][:-1])  # Get elements in 2nd row, until the last column (not inclusive)."
      ]
    },
    {
      "cell_type": "markdown",
      "metadata": {
        "id": "qpHT33GcUkPb"
      },
      "source": [
        "We can use indexing and slicing for modification too:"
      ]
    },
    {
      "cell_type": "code",
      "execution_count": null,
      "metadata": {
        "id": "iDb0-D-fGM8f",
        "outputId": "437a1b15-c5a2-4f0b-a54c-6a1bc51040d9"
      },
      "outputs": [
        {
          "name": "stdout",
          "output_type": "stream",
          "text": [
            "Before the modification: [[1, 2, 3, 4], [5, 6, 7, 8], [9, 10, 11, 12]] \n",
            "\n",
            "After the modification: [[100, 2, 3, 4], [5, 6, 7, 8], [9, 10, 11, 12]]\n"
          ]
        }
      ],
      "source": [
        "a = [[1, 2, 3, 4],\n",
        "     [5, 6, 7, 8],\n",
        "     [9, 10, 11, 12]]\n",
        "print('Before the modification:', a, '\\n')\n",
        "\n",
        "# Modify the first element.\n",
        "a[0][0] = 100\n",
        "print('After the modification:', a)"
      ]
    },
    {
      "cell_type": "markdown",
      "metadata": {
        "id": "YNrq2jM2Hjlp"
      },
      "source": [
        "Be careful with assignment while slicing, since a slice (e.g. `a[:]`) creates a **copy of the referred inner object**! This means that you might think you're updating the values in a slice, but actually nothing changes.\n",
        "\n",
        "Some examples to illustrate:"
      ]
    },
    {
      "cell_type": "code",
      "execution_count": null,
      "metadata": {
        "id": "H98e5gB3GVHn",
        "outputId": "e20a5ad1-196b-48b2-d4be-ec146ff70d45"
      },
      "outputs": [
        {
          "name": "stdout",
          "output_type": "stream",
          "text": [
            "Before modification: [[1, 2, 3, 4], [5, 6, 7, 8], [9, 10, 11, 12]] \n",
            "\n",
            "After attempted modification: [[1, 2, 3, 4], [5, 6, 7, 8], [9, 10, 11, 12]] \n",
            "\n",
            "After successful modification: [[1, 2, 500, 4], [5, 6, 7, 8], [9, 10, 11, 12]] \n",
            "\n",
            "After another modification: [[1, 2, 500, 4], [1, 2], [9, 10, 11, 12]] \n",
            "\n"
          ]
        }
      ],
      "source": [
        "a = [[1, 2, 3, 4],\n",
        "     [5, 6, 7, 8],\n",
        "     [9, 10, 11, 12]]\n",
        "print('Before modification:', a, '\\n')\n",
        "\n",
        "# Try to replace some values with 500.\n",
        "a[1:3][1] = 500  # a[:] returns a copy so `a` is not modified!\n",
        "print('After attempted modification:', a, '\\n')\n",
        "\n",
        "a[0][2] = 500  # But a[index][:] will work. Think about why...\n",
        "print('After successful modification:', a, '\\n')\n",
        "\n",
        "# We can also substitute the entire list.\n",
        "a[1][:] = [1, 2]  # This is the same as `a[1] = [1, 2]`.\n",
        "print('After another modification:', a, '\\n')"
      ]
    },
    {
      "cell_type": "markdown",
      "metadata": {
        "id": "7sM89ctRcKqz"
      },
      "source": [
        "### List comprehensions\n",
        "\n",
        "**List comprehensions** are a very common construct in Python. They are very helpful for writing more concise code when manipulating lists and other container objects, and are particularly useful when we either want to slightly modify a container or filter elements based on a condition.\n",
        "\n",
        "From the [Python documentation](https://docs.python.org/3/tutorial/datastructures.html#list-comprehensions):\n",
        "> \"List comprehension consists of brackets containing an expression followed by a for clause, then zero or more for or if clauses. The result will be a new list resulting from evaluating the expression in the context of the for and if clauses which follow it.\"\n",
        "\n",
        "For example, let's say we have a list of ints `list_a` and we would like a new list `list_a_plus_10` with each value in `list_a` increased by 10. How would you do this?"
      ]
    },
    {
      "cell_type": "code",
      "execution_count": null,
      "metadata": {
        "id": "0-MFhGFLdCSR",
        "outputId": "627ad7bd-d7aa-4360-dd21-d0c78622dd4a"
      },
      "outputs": [
        {
          "name": "stdout",
          "output_type": "stream",
          "text": [
            "[10, 4, 3, 2, 5, 9, 0]\n",
            "[20, 14, 13, 12, 15, 19, 10]\n"
          ]
        }
      ],
      "source": [
        "list_a = [10, 4, 3, 2, 5, 9, 0]\n",
        "\n",
        "# Boring solution...\n",
        "list_a_plus_10 = []\n",
        "for value in list_a:\n",
        "  list_a_plus_10.append(value + 10)\n",
        "\n",
        "print(list_a)\n",
        "print(list_a_plus_10)"
      ]
    },
    {
      "cell_type": "markdown",
      "metadata": {
        "id": "zunOX1w5UvHp"
      },
      "source": [
        "This works, but let's use a list comprehension instead:"
      ]
    },
    {
      "cell_type": "code",
      "execution_count": null,
      "metadata": {
        "id": "RJK2kClpdOr9",
        "outputId": "ebe0507d-207d-4467-db2b-8ffc1fbeabd0"
      },
      "outputs": [
        {
          "name": "stdout",
          "output_type": "stream",
          "text": [
            "[10, 4, 3, 2, 5, 9, 0]\n",
            "[20, 14, 13, 12, 15, 19, 10]\n"
          ]
        }
      ],
      "source": [
        "# Cool solution using a list comprehension.\n",
        "list_a_plus_10 = [value + 10 for value in list_a]\n",
        "print(list_a)\n",
        "print(list_a_plus_10)"
      ]
    },
    {
      "cell_type": "markdown",
      "metadata": {
        "id": "xN7qfZ6Odfmc"
      },
      "source": [
        "Now let's say we want a new list `odds_a_plus_10` with each value in `list_a` added by 10 but only if the number is odd, otherwise we should not include it in the list. How would you do this?"
      ]
    },
    {
      "cell_type": "code",
      "execution_count": null,
      "metadata": {
        "id": "Bx5XNG13d3RV",
        "outputId": "44fcb07c-b4dc-4bae-fb69-171f4a1e2e12"
      },
      "outputs": [
        {
          "name": "stdout",
          "output_type": "stream",
          "text": [
            "[10, 4, 3, 2, 5, 9, 0]\n",
            "[13, 15, 19]\n"
          ]
        }
      ],
      "source": [
        "list_a = [10, 4, 3, 2, 5, 9, 0]\n",
        "\n",
        "# Boring solution...\n",
        "odds_a_plus_10 = []\n",
        "for value in list_a:\n",
        "  if value % 2 == 1:\n",
        "    odds_a_plus_10.append(value + 10)\n",
        "\n",
        "print(list_a)\n",
        "print(odds_a_plus_10)"
      ]
    },
    {
      "cell_type": "code",
      "execution_count": null,
      "metadata": {
        "id": "9COaDGvdeBUY",
        "outputId": "11683e34-73ab-4555-9ebc-00f18ca7eb2a"
      },
      "outputs": [
        {
          "name": "stdout",
          "output_type": "stream",
          "text": [
            "[10, 4, 3, 2, 5, 9, 0]\n",
            "[13, 15, 19]\n"
          ]
        }
      ],
      "source": [
        "# Cool solution using a list comprehension.\n",
        "odds_a_plus_10 = [value + 10 for value in list_a if value % 2 == 1]\n",
        "print(list_a)\n",
        "print(odds_a_plus_10)"
      ]
    },
    {
      "cell_type": "markdown",
      "metadata": {
        "id": "htXUG7L7VFyF"
      },
      "source": [
        "That's significantly more concise and readable! :) List comprehensions are also often faster than `for` loops."
      ]
    },
    {
      "cell_type": "markdown",
      "metadata": {},
      "source": [
        "# Part II: Introduction to Matplotlib"
      ]
    },
    {
      "cell_type": "markdown",
      "metadata": {
        "id": "-wpCxhF3Imud"
      },
      "source": [
        "Matplotlib is an extremely useful visualisation library for various tasks such as visualising data, checking data patterns, making animations, and visualising images.\n",
        "\n",
        "From the [matplotlib website](https://matplotlib.org/):\n",
        "\n",
        "> Matplotlib is a comprehensive library for creating static, animated, and interactive visualisations in Python.\n",
        "\n",
        "\n",
        "Below are some examples of plots we can make with Matplotlib:"
      ]
    },
    {
      "cell_type": "code",
      "execution_count": null,
      "metadata": {
        "id": "c0f8j3KJJRhI"
      },
      "outputs": [],
      "source": [
        "# This is a common way to import matplotlib.\n",
        "import matplotlib.pyplot as plt"
      ]
    },
    {
      "cell_type": "code",
      "execution_count": null,
      "metadata": {
        "id": "BqeTzMcMJFY3",
        "outputId": "e2d158d8-f365-4b84-99ba-4b58c78fb87d"
      },
      "outputs": [
        {
          "data": {
            "image/png": "[encoded data removed]",
            "text/plain": [
              "<Figure size 432x288 with 1 Axes>"
            ]
          },
          "metadata": {
            "needs_background": "light"
          },
          "output_type": "display_data"
        }
      ],
      "source": [
        "# Plot a list of numbers as a line.\n",
        "numbers = range(20, 30)\n",
        "plt.plot(numbers)  # What's used as the x axis if only y axis values are given?\n",
        "plt.show()  # Show plot."
      ]
    },
    {
      "cell_type": "code",
      "execution_count": null,
      "metadata": {
        "id": "fmE8LhU_J0Qi",
        "outputId": "09001222-fa2c-461a-b886-c72c94b66b67"
      },
      "outputs": [
        {
          "data": {
            "image/png": "[encoded data removed]",
            "text/plain": [
              "<Figure size 432x288 with 1 Axes>"
            ]
          },
          "metadata": {
            "needs_background": "light"
          },
          "output_type": "display_data"
        }
      ],
      "source": [
        "# Second parameter controls style. 'r' changes the line colour to red,\n",
        "# and '--' is the style of the line.\n",
        "plt.plot(numbers, 'r--')\n",
        "plt.show()"
      ]
    },
    {
      "cell_type": "code",
      "execution_count": null,
      "metadata": {
        "id": "YdWtFUc9JeLS",
        "outputId": "b2db5d2a-7d1a-478a-e964-715db4699225"
      },
      "outputs": [
        {
          "data": {
            "image/png": "[encoded data removed]",
            "text/plain": [
              "<Figure size 432x288 with 1 Axes>"
            ]
          },
          "metadata": {
            "needs_background": "light"
          },
          "output_type": "display_data"
        }
      ],
      "source": [
        "# Plot a list of numbers as a scatter plot.\n",
        "x = range(10)\n",
        "y = [v ** 2 for v in x]\n",
        "plt.scatter(x, y)\n",
        "plt.show()"
      ]
    },
    {
      "cell_type": "code",
      "execution_count": null,
      "metadata": {
        "id": "PpeaPkqWJ9yb",
        "outputId": "e2a27262-f73b-45cd-a9d0-457865be5eb0"
      },
      "outputs": [
        {
          "data": {
            "image/png": "[encoded data removed]",
            "text/plain": [
              "<Figure size 864x288 with 3 Axes>"
            ]
          },
          "metadata": {
            "needs_background": "light"
          },
          "output_type": "display_data"
        }
      ],
      "source": [
        "# Present plots side by side\n",
        "fig, axes = plt.subplots(nrows=1, ncols=3)\n",
        "\n",
        "# Set figure size.\n",
        "fig.set_size_inches(w=12, h=4)\n",
        "\n",
        "axes[0].plot(numbers)\n",
        "axes[1].scatter(x, y)\n",
        "axes[2].scatter(x, y)\n",
        "plt.show()"
      ]
    },
    {
      "cell_type": "markdown",
      "metadata": {
        "id": "xpIKAhnVGcGQ"
      },
      "source": [
        "Let's try making a bar plot, labelling our axes, and writing a plot title:"
      ]
    },
    {
      "cell_type": "code",
      "execution_count": null,
      "metadata": {
        "id": "yLFiN9eUGOXE",
        "outputId": "4401e20f-3c31-4d02-d748-4c8a7a02d275"
      },
      "outputs": [
        {
          "data": {
            "image/png": "[encoded data removed]",
            "text/plain": [
              "<Figure size 360x216 with 1 Axes>"
            ]
          },
          "metadata": {
            "needs_background": "light"
          },
          "output_type": "display_data"
        }
      ],
      "source": [
        "# Creating the dataset.\n",
        "data = {'strawberries': 20,\n",
        "        'guava': 4,\n",
        "        'clementines': 13}\n",
        "fruits = list(data.keys())\n",
        "counts = list(data.values())\n",
        "\n",
        "fig = plt.figure(figsize=(5, 3))\n",
        "\n",
        "# Plot the bar plot.\n",
        "plt.bar(fruits, counts, color='red', width=0.5)\n",
        "\n",
        "plt.xlabel(\"Fruit\")\n",
        "plt.ylabel(\"Count\")\n",
        "plt.title(\"Fruit Counts\")\n",
        "plt.show()"
      ]
    },
    {
      "cell_type": "markdown",
      "metadata": {
        "id": "h_sdCi-pgBVZ"
      },
      "source": [
        "\n",
        "# Part III: Introduction to NumPy\n",
        "\n",
        "\n",
        "\n"
      ]
    },
    {
      "cell_type": "markdown",
      "metadata": {
        "id": "pcLDBdl-ZaXE"
      },
      "source": [
        "[NumPy](https://numpy.org/) is a high-performance Python library that enables us to work with multidimensional arrays. We care about arrays as they are the core building blocks of Deep Learning (DL), and indeed machine learning in general.\n",
        "\n",
        "Specific DL frameworks, such as JAX, TensorFlow, and PyTorch enable us to write models that heavily rely on array computing, with the added benefit of additional dedicated hardware acceleration (for example, JAX makes it easy to write code for training and evaluating models on multiple GPUs or TPUs).\n",
        "\n",
        "Still, despite the existence of these DL frameworks, NumPy is often used both for quick experimentation and small data processing. NumPy has also been a great source of influence on DL frameworks – you will often find same-named and same-behaving functions across NumPy and various DL frameworks.\n",
        "\n",
        "Links:\n",
        "- [Installing NumPy](https://numpy.org/install/)\n",
        "- [NumPy documentation](https://numpy.org/doc/stable/contents.html)\n",
        "- [NumPy for MATLAB users](https://numpy.org/doc/stable/user/numpy-for-matlab-users.html)"
      ]
    },
    {
      "cell_type": "markdown",
      "metadata": {
        "id": "vG3FvljfgBVf"
      },
      "source": [
        "### Import NumPy\n",
        "\n",
        "This is how we import NumPy in Python programmes:\n"
      ]
    },
    {
      "cell_type": "code",
      "execution_count": 2,
      "metadata": {
        "id": "VMuPW798gBVf"
      },
      "outputs": [],
      "source": [
        "import numpy as np"
      ]
    },
    {
      "cell_type": "markdown",
      "metadata": {
        "id": "NJU-TmMqZfeq"
      },
      "source": [
        "### NumPy arrays and their creation\n",
        "\n",
        "In general, **arrays** are multidimensional \"tables\" of values of the same type. Arrays are described by their **rank** (the number of dimensions) and their **shape** (the size of each of the array dimensions). Often, we call each dimension an **axis**.\n",
        "\n",
        "We use specific words to denote arrays of different dimensions:\n",
        "\n",
        "- **scalar** (single number) -- rank 0 (0-dimensional) array\n",
        "- **vector** (sequence of numbers) -- rank 1 array\n",
        "- **matrix** (rectangular table of values) -- rank 2 array\n",
        "- **tensor** -- rank 3 (and above) array, but can also refer to any rank arrays. So, we could say that a vector is a tensor, and an 8-dimensional array is a tensor.\n",
        "\n",
        "![picture](https://storage.googleapis.com/dm-educational/assets/intro-to-python-and-numpy/arrays.svg)\n",
        "\n",
        "\n",
        "\n",
        "Let's create some NumPy arrays, starting with a scalar:"
      ]
    },
    {
      "cell_type": "code",
      "execution_count": null,
      "metadata": {
        "id": "RjbKVzodEsBT",
        "outputId": "3cd8b197-9db3-4ece-d2e2-f476736aca3c"
      },
      "outputs": [
        {
          "name": "stdout",
          "output_type": "stream",
          "text": [
            "1\n"
          ]
        }
      ],
      "source": [
        "# Creating a scalar.\n",
        "a = np.array(1)  # A rank 0 array is simply a scalar.\n",
        "print(a)"
      ]
    },
    {
      "cell_type": "markdown",
      "metadata": {
        "id": "kV0a32VsE9xl"
      },
      "source": [
        "We can create arrays from (potentially nested) lists of numbers:"
      ]
    },
    {
      "cell_type": "code",
      "execution_count": null,
      "metadata": {
        "id": "VghvTts2ZeaT",
        "outputId": "11202a62-46d5-49f2-d810-6d7fad53ed10"
      },
      "outputs": [
        {
          "name": "stdout",
          "output_type": "stream",
          "text": [
            "[1 2 3 4]\n"
          ]
        }
      ],
      "source": [
        "b = np.array([1, 2, 3, 4])  # Vector.\n",
        "print(b)"
      ]
    },
    {
      "cell_type": "code",
      "execution_count": null,
      "metadata": {
        "id": "svjVHa68EzmY",
        "outputId": "7b543cf3-a06d-46e2-82a6-a93cf1ac5c08"
      },
      "outputs": [
        {
          "name": "stdout",
          "output_type": "stream",
          "text": [
            "[[ 1  2  3  4]\n",
            " [ 5  6  7  8]\n",
            " [ 9 10 11 12]]\n"
          ]
        }
      ],
      "source": [
        "c = np.array([[1, 2, 3, 4],\n",
        "              [5, 6, 7, 8],\n",
        "              [9, 10, 11, 12]])  # Matrix.\n",
        "print(c)"
      ]
    },
    {
      "cell_type": "markdown",
      "metadata": {
        "id": "Q10DIwmbKY8C"
      },
      "source": [
        "Accessing specific values within the numpy array works using indexing in the same way as described above for native Python lists:"
      ]
    },
    {
      "cell_type": "code",
      "execution_count": null,
      "metadata": {
        "id": "w239F8djjh0I",
        "outputId": "2babebac-c3d5-4408-8c72-e90db9134766"
      },
      "outputs": [
        {
          "data": {
            "text/plain": [
              "5"
            ]
          },
          "execution_count": 114,
          "metadata": {},
          "output_type": "execute_result"
        }
      ],
      "source": [
        "c[1, 0]"
      ]
    },
    {
      "cell_type": "code",
      "execution_count": null,
      "metadata": {
        "id": "E6sJr5mWKnuZ",
        "outputId": "413e90d8-5a65-4bfa-dc0d-33f37a7c8ccc"
      },
      "outputs": [
        {
          "data": {
            "text/plain": [
              "array([ 3,  7, 11])"
            ]
          },
          "execution_count": 115,
          "metadata": {},
          "output_type": "execute_result"
        }
      ],
      "source": [
        "c[:, 2]"
      ]
    },
    {
      "cell_type": "code",
      "execution_count": null,
      "metadata": {
        "id": "yzvYBPodKsSF",
        "outputId": "00557c0d-3f4f-44b0-845d-5e8b80ccb2f1"
      },
      "outputs": [
        {
          "data": {
            "text/plain": [
              "array([4, 8])"
            ]
          },
          "execution_count": 116,
          "metadata": {},
          "output_type": "execute_result"
        }
      ],
      "source": [
        "c[0:2, -1]"
      ]
    },
    {
      "cell_type": "code",
      "execution_count": null,
      "metadata": {
        "id": "BuC3t7PSEzgg",
        "outputId": "17a5841e-e2b7-4385-ed98-b93a13020ba4"
      },
      "outputs": [
        {
          "name": "stdout",
          "output_type": "stream",
          "text": [
            "[[[ 1  2  3  4]\n",
            "  [ 5  6  7  8]\n",
            "  [ 9 10 11 12]]\n",
            "\n",
            " [[13 14 15 16]\n",
            "  [17 18 19 20]\n",
            "  [21 22 23 24]]]\n"
          ]
        }
      ],
      "source": [
        "# Rank 3 tensor.\n",
        "d = np.array([[[1, 2, 3, 4],\n",
        "               [5, 6, 7, 8],\n",
        "               [9, 10, 11, 12]],\n",
        "              [[13, 14, 15, 16],\n",
        "               [17, 18, 19, 20],\n",
        "               [21, 22, 23, 24]]])\n",
        "print(d)"
      ]
    },
    {
      "cell_type": "markdown",
      "metadata": {
        "id": "Ltl0I1LrF2xG"
      },
      "source": [
        "#### Array size and type\n",
        "\n",
        "We mentioned that array sizes are characterised by the rank and the shape of the array.\n",
        "A rank is just a number, denoting the number of dimensions (axes), whereas the shape is a tuple of integers representing the size of each of the axes:"
      ]
    },
    {
      "cell_type": "code",
      "execution_count": null,
      "metadata": {
        "id": "LG6otDPSF2O3",
        "outputId": "9704b26f-328e-4b8e-d224-7981b35fa406"
      },
      "outputs": [
        {
          "name": "stdout",
          "output_type": "stream",
          "text": [
            "[[ 1  2  3  4]\n",
            " [ 5  6  7  8]\n",
            " [ 9 10 11 12]] \n",
            "\n",
            "Rank: 2\n",
            "Shape: (3, 4)\n"
          ]
        }
      ],
      "source": [
        "a = np.array([[1, 2, 3, 4],\n",
        "              [5, 6, 7, 8],\n",
        "              [9, 10, 11, 12]])\n",
        "print(a, '\\n')\n",
        "\n",
        "print('Rank:', np.ndim(a))    # Rank.\n",
        "print('Shape:', np.shape(a))  # Shape."
      ]
    },
    {
      "cell_type": "markdown",
      "metadata": {
        "id": "_6oinBNnF4Jt"
      },
      "source": [
        "We also mentioned that arrays contain values of the *same type*. We can get that type by calling the `dtype` property:"
      ]
    },
    {
      "cell_type": "code",
      "execution_count": null,
      "metadata": {
        "id": "Uqp_UD6SuaqB",
        "outputId": "e76a3213-d9ed-4854-9ec1-ffe05eb446e2"
      },
      "outputs": [
        {
          "name": "stdout",
          "output_type": "stream",
          "text": [
            "Type of variable a: <class 'numpy.ndarray'>\n",
            "Type of values in the array: int64\n"
          ]
        }
      ],
      "source": [
        "print('Type of variable a:', type(a))       # Type of the variable a.\n",
        "print('Type of values in the array:', a.dtype)  # Type of the array element."
      ]
    },
    {
      "cell_type": "markdown",
      "metadata": {
        "id": "xfn-ywi8u4R6"
      },
      "source": [
        "Since NumPy arrays contain elements of the same type, when creating an array, NumPy will try to guess the [data type](https://numpy.org/devdocs/user/basics.types.html), unless you specify the data type manually:"
      ]
    },
    {
      "cell_type": "code",
      "execution_count": null,
      "metadata": {
        "id": "NiYSHpK6HBFL",
        "outputId": "a5ce9018-f9f2-49c4-ccae-6fcf00691bfe"
      },
      "outputs": [
        {
          "name": "stdout",
          "output_type": "stream",
          "text": [
            "[1 2 3]\n",
            "Data type: int64\n"
          ]
        }
      ],
      "source": [
        "a = np.array([1, 2, 3])\n",
        "print(a)\n",
        "print('Data type:', a.dtype)"
      ]
    },
    {
      "cell_type": "markdown",
      "metadata": {
        "id": "rJoG6uR_LWbn"
      },
      "source": [
        "We can manually set the data type:"
      ]
    },
    {
      "cell_type": "code",
      "execution_count": null,
      "metadata": {
        "id": "6WSFpyVUHOvK",
        "outputId": "77567fe4-e521-4e33-eda1-79e15cd2eaaa"
      },
      "outputs": [
        {
          "name": "stdout",
          "output_type": "stream",
          "text": [
            "[1. 2. 3.]\n",
            "Data type: float32\n"
          ]
        }
      ],
      "source": [
        "a = np.array([1, 2, 3], dtype=np.float32)\n",
        "print(a)\n",
        "print('Data type:', a.dtype)"
      ]
    },
    {
      "cell_type": "markdown",
      "metadata": {
        "id": "uA3Edmw6Lfwn"
      },
      "source": [
        "In the following case, NumPy will guess that the input should be `float` in order to not lose precision:\n"
      ]
    },
    {
      "cell_type": "code",
      "execution_count": null,
      "metadata": {
        "id": "thYDNXbAtRok",
        "outputId": "766faeae-bc9e-4ee8-8871-8abbd4c2d9b5"
      },
      "outputs": [
        {
          "name": "stdout",
          "output_type": "stream",
          "text": [
            "[1.  2.  3.1]\n",
            "Data type: float64\n"
          ]
        }
      ],
      "source": [
        "a = np.array([1, 2, 3.1])\n",
        "print(a)\n",
        "print('Data type:', a.dtype)"
      ]
    },
    {
      "cell_type": "markdown",
      "metadata": {
        "id": "qVT4nSyOF-zQ"
      },
      "source": [
        "#### Useful creation functions\n",
        "\n",
        "NumPy supports many convenient ways of [creating arrays](https://numpy.org/doc/stable/user/basics.creation.html). Here are a few that you are likely to frequently encounter:"
      ]
    },
    {
      "cell_type": "code",
      "execution_count": null,
      "metadata": {
        "id": "rsCCFWtmHynf",
        "outputId": "51f47a98-559b-4360-ee40-466f51ef8aa0"
      },
      "outputs": [
        {
          "name": "stdout",
          "output_type": "stream",
          "text": [
            "[[0. 0. 0.]\n",
            " [0. 0. 0.]]\n"
          ]
        }
      ],
      "source": [
        "a = np.zeros((2, 3))  # Array of zeros of shape (2, 3).\n",
        "print(a)"
      ]
    },
    {
      "cell_type": "code",
      "execution_count": null,
      "metadata": {
        "id": "tI94uAgpHzOe",
        "outputId": "4e349895-e6cc-421c-b968-33006efe9839"
      },
      "outputs": [
        {
          "name": "stdout",
          "output_type": "stream",
          "text": [
            "[[1. 1.]]\n"
          ]
        }
      ],
      "source": [
        "b = np.ones((1, 2))  # Array of ones of shape (1, 2).\n",
        "print(b)"
      ]
    },
    {
      "cell_type": "code",
      "execution_count": null,
      "metadata": {
        "id": "JuzRrEfAHzz2",
        "outputId": "fb08511f-8cdb-45f4-e45c-1569cfebc4d5"
      },
      "outputs": [
        {
          "name": "stdout",
          "output_type": "stream",
          "text": [
            "[[1. 0. 0. 0. 0.]\n",
            " [0. 1. 0. 0. 0.]\n",
            " [0. 0. 1. 0. 0.]\n",
            " [0. 0. 0. 1. 0.]\n",
            " [0. 0. 0. 0. 1.]]\n"
          ]
        }
      ],
      "source": [
        "c = np.eye(5)  # Identity matrix of shape (5, 5).\n",
        "print(c)"
      ]
    },
    {
      "cell_type": "code",
      "execution_count": null,
      "metadata": {
        "id": "T_qLCzaZH1P4",
        "outputId": "0c0ab42e-f100-4589-d431-563096d96cf5"
      },
      "outputs": [
        {
          "name": "stdout",
          "output_type": "stream",
          "text": [
            "[[0.14588963 0.19837327]\n",
            " [0.23629504 0.54878177]]\n"
          ]
        }
      ],
      "source": [
        "# Array of random values from [0, 1] of shape (2, 2).\n",
        "d = np.random.random((2, 2))\n",
        "print(d)"
      ]
    },
    {
      "cell_type": "code",
      "execution_count": null,
      "metadata": {
        "id": "8WBiyGa4H2k7",
        "outputId": "5afcbf87-2204-4e10-b586-0c5299b0ae91"
      },
      "outputs": [
        {
          "name": "stdout",
          "output_type": "stream",
          "text": [
            "[0 1 2 3 4 5 6 7 8 9]\n"
          ]
        }
      ],
      "source": [
        "e = np.arange(10)  # Array of length 10, containing numbers 0 to 9.\n",
        "print(e)"
      ]
    },
    {
      "cell_type": "markdown",
      "metadata": {
        "id": "t03ZF09sVGNQ"
      },
      "source": [
        "### Slicing and indexing\n",
        "\n",
        "[Slicing and indexing](https://numpy.org/doc/stable/reference/arrays.indexing.html) in NumPy is very similar to slicing and indexing in Python, with the major differences being the syntax of indexing/slicing, and the support for boolean array indexing."
      ]
    },
    {
      "cell_type": "markdown",
      "metadata": {
        "id": "kDAeiEN7WdHQ"
      },
      "source": [
        "#### NumPy slicing and indexing syntax\n",
        "\n",
        "In Python, indexing of nested lists is written in the form of\n",
        "`lists[x][y][z][...]`.\n",
        "\n",
        "In NumPy, on the other hand, indexing is written in the form of `array[x, y, z, ...]`, where `x` specifies the number of a row (axis 0), `y` the number of a column (axis 1), and `z` and other numbers specify the number of other axes (axis 2 and more) of the array `array`.\n",
        "\n",
        "By indexing a numpy array, we obtain a result of a lower rank. For example, taking the 1st row of a 2x2 matrix results in a vector of size 2 (one rank less)."
      ]
    },
    {
      "cell_type": "markdown",
      "metadata": {
        "id": "_LwWH4K-Xoaj"
      },
      "source": [
        "Let's now re-do some of the exercises from the Python indexing & slicing, showing a few more NumPy extras:"
      ]
    },
    {
      "cell_type": "code",
      "execution_count": null,
      "metadata": {
        "id": "fQpZ9BT5WkIk",
        "outputId": "f9df80b3-8a4f-445f-ff6d-321a210f6cad"
      },
      "outputs": [
        {
          "name": "stdout",
          "output_type": "stream",
          "text": [
            "6\n"
          ]
        }
      ],
      "source": [
        "a = np.array([[1, 2, 3, 4],\n",
        "              [5, 6, 7, 8],\n",
        "              [9, 10, 11, 12]])\n",
        "\n",
        "print(a[1, 1])          # element in 2nd row and 2nd column"
      ]
    },
    {
      "cell_type": "code",
      "execution_count": null,
      "metadata": {
        "id": "L6H1WApzXzcQ",
        "outputId": "3c9d3b70-85d4-44b6-c5a5-3fdd56c03ab9"
      },
      "outputs": [
        {
          "name": "stdout",
          "output_type": "stream",
          "text": [
            "[5 6 7 8] \n",
            "\n",
            "[5 6 7 8] \n",
            "\n",
            "[5 6 7 8]\n"
          ]
        }
      ],
      "source": [
        "print(a[1], '\\n')       # 2nd row\n",
        "\n",
        "print(a[1, :], '\\n')    # the same as above (colon = full slice)\n",
        "\n",
        "print(a[1, ...])        # the same as above (ellipsis extends slicing with colons for all remaining dimensions)"
      ]
    },
    {
      "cell_type": "code",
      "execution_count": null,
      "metadata": {
        "id": "asZC1SfRXztt",
        "outputId": "9cdbb2f8-5710-4a4d-85c2-5356be222359"
      },
      "outputs": [
        {
          "name": "stdout",
          "output_type": "stream",
          "text": [
            "[6 7 8] \n",
            "\n",
            "[5 6 7] \n",
            "\n",
            "[6] \n",
            "\n"
          ]
        }
      ],
      "source": [
        "print(a[1, 1:], '\\n')   # elements in 2nd row, from 2nd column until the end\n",
        "\n",
        "print(a[1, :-1], '\\n')  # elements in 2nd row, until the last column (not inclusive)\n",
        "\n",
        "print(a[1, 1:2], '\\n')  # elements in 2nd row, from 2nd until 3rd element (not inclusive)"
      ]
    },
    {
      "cell_type": "markdown",
      "metadata": {
        "id": "rL9L25kbXG46"
      },
      "source": [
        "As in Python, we can use array indexing and slicing for array modification too:"
      ]
    },
    {
      "cell_type": "code",
      "execution_count": null,
      "metadata": {
        "id": "dTGahitUXDX6",
        "outputId": "4962b9db-a720-4f87-f230-9d862b7a6598"
      },
      "outputs": [
        {
          "name": "stdout",
          "output_type": "stream",
          "text": [
            "Before the modification: [[ 1  2  3  4]\n",
            " [ 5  6  7  8]\n",
            " [ 9 10 11 12]] \n",
            "\n",
            "After the modification: [[100   2   3   4]\n",
            " [  5   6   7   8]\n",
            " [  9  10  11  12]]\n"
          ]
        }
      ],
      "source": [
        "a = np.array([[1, 2, 3, 4],\n",
        "              [5, 6, 7, 8],\n",
        "              [9, 10, 11, 12]])\n",
        "print('Before the modification:', a, '\\n')\n",
        "\n",
        "a[0, 0] = 100\n",
        "print('After the modification:', a)"
      ]
    },
    {
      "cell_type": "markdown",
      "metadata": {
        "id": "sul6ZNCR72BR"
      },
      "source": [
        "#### Boolean array indexing\n",
        "\n",
        "Boolean array indexing is very handy when working with NumPy arrays: effectively, each element of the boolean array is used to either select or drop the corresponding element in the array being indexed. This is often used in conjunction with conditions - conditions on arrays return a boolean valued array.\n",
        "\n",
        "For example:"
      ]
    },
    {
      "cell_type": "code",
      "execution_count": null,
      "metadata": {
        "id": "T7D8E6BWCK_V",
        "outputId": "5190e2ba-a680-4a31-c844-ecc8e16364cf"
      },
      "outputs": [
        {
          "name": "stdout",
          "output_type": "stream",
          "text": [
            "[[ 1  2  3  4]\n",
            " [ 5  6  7  8]\n",
            " [ 9 10 11 12]]\n",
            "Boolean array:\n",
            "[[False False False  True]\n",
            " [ True  True  True  True]\n",
            " [ True  True  True  True]]\n"
          ]
        }
      ],
      "source": [
        "a = np.array([[1, 2, 3, 4],\n",
        "              [5, 6, 7, 8],\n",
        "              [9, 10, 11, 12]])\n",
        "print(a)\n",
        "print('Boolean array:')\n",
        "# Boolean array, same shape as a, where each element corresponds to\n",
        "# whether the corresponding element in a meets the condition of being > 3.\n",
        "print(a > 3)"
      ]
    },
    {
      "cell_type": "code",
      "execution_count": null,
      "metadata": {
        "id": "b4mHuJiPuJ0W",
        "outputId": "1375682d-51e2-4940-c434-b60f18424884"
      },
      "outputs": [
        {
          "name": "stdout",
          "output_type": "stream",
          "text": [
            "[ 4  5  6  7  8  9 10 11 12]\n",
            "[ 4  5  6  7  8  9 10 11 12]\n"
          ]
        }
      ],
      "source": [
        "bool_index = a > 3\n",
        "print(a[bool_index])\n",
        "print(a[a > 3])  # Shorthand."
      ]
    },
    {
      "cell_type": "markdown",
      "metadata": {
        "id": "OEVJ30COZhPP"
      },
      "source": [
        "### Array operations and vectorisation\n",
        "\n",
        "NumPy contains a large set of familiar mathematical functions such as addition, subtraction, multiplication and division, square root, powers, and trigonometric functions. All these NumPy functions are **vectorised**, in that they operate elementwise – each operation is applied on each element of the array (or two corresponding elements in the case of binary operations).\n",
        "\n",
        "Here is an example of vectorised addition:"
      ]
    },
    {
      "cell_type": "code",
      "execution_count": null,
      "metadata": {
        "id": "RxQZrDXBZemb",
        "outputId": "9b847fa4-fa1f-4e88-94f9-5bb99917b5d0"
      },
      "outputs": [
        {
          "name": "stdout",
          "output_type": "stream",
          "text": [
            "a:\t\t [0 1 2 3 4]\n",
            "b:\t\t [1 1 1 1 1]\n",
            "np.add(a, b):\t [1 2 3 4 5]\n",
            "a + b:\t\t [1 2 3 4 5]\n"
          ]
        }
      ],
      "source": [
        "a = np.arange(5, dtype=np.int32)\n",
        "b = np.ones(5, dtype=np.int32)\n",
        "print('a:\\t\\t', a)\n",
        "print('b:\\t\\t', b)\n",
        "\n",
        "print('np.add(a, b):\\t', np.add(a, b))\n",
        "print('a + b:\\t\\t', a + b)  # Shorthand via operator overloading."
      ]
    },
    {
      "cell_type": "markdown",
      "metadata": {
        "id": "-RuuMWXCqF3V"
      },
      "source": [
        "Subtraction:"
      ]
    },
    {
      "cell_type": "code",
      "execution_count": null,
      "metadata": {
        "id": "Hz9n7ELBO1tZ",
        "outputId": "09ab82be-943d-4792-f5e8-f5faf4b437ea"
      },
      "outputs": [
        {
          "name": "stdout",
          "output_type": "stream",
          "text": [
            "[-1  0  1  2  3]\n",
            "[-1  0  1  2  3]\n"
          ]
        }
      ],
      "source": [
        "print(np.subtract(a, b))\n",
        "print(a - b)"
      ]
    },
    {
      "cell_type": "markdown",
      "metadata": {
        "id": "AfSuNB8ZPwSk"
      },
      "source": [
        "Note that `*` is an elementwise multiplication (also called a [Hadamard product](https://en.wikipedia.org/wiki/Hadamard_product_(matrices))) and not a matrix multiplication!"
      ]
    },
    {
      "cell_type": "code",
      "execution_count": null,
      "metadata": {
        "id": "2Db_6Vm5O1zy",
        "outputId": "094cef42-a083-4ae5-c881-fe8050ab1fc4"
      },
      "outputs": [
        {
          "name": "stdout",
          "output_type": "stream",
          "text": [
            "[0 1 2 3 4]\n",
            "[0 1 2 3 4]\n"
          ]
        }
      ],
      "source": [
        "print(np.multiply(a, b))\n",
        "print(a * b)"
      ]
    },
    {
      "cell_type": "markdown",
      "metadata": {
        "id": "jXOF2DPIqXoq"
      },
      "source": [
        "Division:"
      ]
    },
    {
      "cell_type": "code",
      "execution_count": null,
      "metadata": {
        "id": "4KtAmSiTO16K",
        "outputId": "2240c735-b606-451c-f92e-0259994ea530"
      },
      "outputs": [
        {
          "name": "stdout",
          "output_type": "stream",
          "text": [
            "[0.  0.5 1.  1.5 2. ]\n",
            "[0.  0.5 1.  1.5 2. ]\n"
          ]
        }
      ],
      "source": [
        "c = b + b\n",
        "print(np.divide(a, c))\n",
        "print(a / c)"
      ]
    },
    {
      "cell_type": "markdown",
      "metadata": {
        "id": "YD4PN_29w0VL"
      },
      "source": [
        "Similarly, comparison operators are also elementwise operations:"
      ]
    },
    {
      "cell_type": "code",
      "execution_count": null,
      "metadata": {
        "id": "jjpLltGWwl75",
        "outputId": "63e0b627-7662-4662-cc6d-8d7337bb65ae"
      },
      "outputs": [
        {
          "name": "stdout",
          "output_type": "stream",
          "text": [
            "[False  True False False False]\n",
            "[False False  True  True  True]\n"
          ]
        }
      ],
      "source": [
        "print(a == b)\n",
        "print(a > b)"
      ]
    },
    {
      "cell_type": "code",
      "execution_count": null,
      "metadata": {
        "id": "8wzVAC8mqccP",
        "outputId": "fcf93f7c-53d9-48ba-e128-89fe48348336"
      },
      "outputs": [
        {
          "name": "stdout",
          "output_type": "stream",
          "text": [
            "[1]\n",
            "[2 3 4]\n"
          ]
        }
      ],
      "source": [
        "# Remember boolean-based indexing!\n",
        "print(a[a == b])\n",
        "print(a[a > b])"
      ]
    },
    {
      "cell_type": "markdown",
      "metadata": {
        "id": "ZEvDvAfXDA5O"
      },
      "source": [
        "#### Aggregations\n",
        "\n",
        "NumPy also contains functions that compute values over the whole array or subsets of arrays. We call these functions **aggregation functions**."
      ]
    },
    {
      "cell_type": "code",
      "execution_count": 3,
      "metadata": {
        "id": "2r_3Ul6SDB_O",
        "outputId": "54fb2563-6307-497c-8ecf-79f46ca0de82"
      },
      "outputs": [
        {
          "name": "stdout",
          "output_type": "stream",
          "text": [
            "(2, 3)\n"
          ]
        }
      ],
      "source": [
        "a = np.array([[1, 2, 3],\n",
        "              [4, 5, 6]])\n",
        "print(a.shape)"
      ]
    },
    {
      "cell_type": "code",
      "execution_count": 4,
      "metadata": {
        "id": "ByQsIpK3QN0b",
        "outputId": "fd1b7f22-3b94-4d99-aa70-518be2c91d37"
      },
      "outputs": [
        {
          "name": "stdout",
          "output_type": "stream",
          "text": [
            "Sum of all elements:\n",
            "21\n",
            "\n",
            "Sum over rows (first axis):\n",
            "[5 7 9]\n",
            "\n",
            "Sum over columns (second axis):\n",
            "[ 6 15]\n",
            "\n",
            "Sum over the first and second axis:\n",
            "21\n"
          ]
        }
      ],
      "source": [
        "print(f'Sum of all elements:\\n{np.sum(a)}\\n')\n",
        "\n",
        "print(f'Sum over rows (first axis):\\n{np.sum(a, axis=0)}\\n')\n",
        "\n",
        "print(f'Sum over columns (second axis):\\n{np.sum(a, axis=1)}\\n')\n",
        "\n",
        "print(f'Sum over the first and second axis:\\n{np.sum(a, axis=(0, 1))}')"
      ]
    },
    {
      "cell_type": "markdown",
      "metadata": {
        "id": "ow68OnXKrpjt"
      },
      "source": [
        "Multiplication examples:"
      ]
    },
    {
      "cell_type": "code",
      "execution_count": 5,
      "metadata": {
        "id": "ySvxmhzFQOxp",
        "outputId": "bb4aced4-e39f-4818-fa71-f7c12271fc38"
      },
      "outputs": [
        {
          "name": "stdout",
          "output_type": "stream",
          "text": [
            "Multiply all elements:\n",
            "720\n",
            "\n",
            "Multiply over rows (first axis):\n",
            "[ 4 10 18]\n"
          ]
        }
      ],
      "source": [
        "print(f'Multiply all elements:\\n{np.prod(a)}\\n')\n",
        "\n",
        "print(f'Multiply over rows (first axis):\\n{np.prod(a, axis=0)}')"
      ]
    },
    {
      "cell_type": "markdown",
      "metadata": {
        "id": "N0teDiz7rvwE"
      },
      "source": [
        "Min and max:"
      ]
    },
    {
      "cell_type": "code",
      "execution_count": 6,
      "metadata": {
        "id": "1yyLUu8UQPgf",
        "outputId": "062f7536-26db-4c46-bc2d-72f52c088d4c"
      },
      "outputs": [
        {
          "name": "stdout",
          "output_type": "stream",
          "text": [
            "Minimum of all elements:\n",
            "1\n",
            "\n",
            "Minimum over rows (first axis):\n",
            "[1 2 3]\n"
          ]
        }
      ],
      "source": [
        "print(f'Minimum of all elements:\\n{np.min(a)}\\n')\n",
        "\n",
        "print(f'Minimum over rows (first axis):\\n{np.min(a, axis=0)}')"
      ]
    },
    {
      "cell_type": "code",
      "execution_count": 7,
      "metadata": {
        "id": "fqoGqnILQQSO",
        "outputId": "ae5cf151-f9bb-447f-919a-19f0d2d6d6d4"
      },
      "outputs": [
        {
          "name": "stdout",
          "output_type": "stream",
          "text": [
            "Maximum of all elements:\n",
            "6\n",
            "\n",
            "Maximum over rows (first axis):\n",
            "[4 5 6]\n"
          ]
        }
      ],
      "source": [
        "print(f'Maximum of all elements:\\n{np.max(a)}\\n')\n",
        "\n",
        "print(f'Maximum over rows (first axis):\\n{np.max(a, axis=0)}')"
      ]
    },
    {
      "cell_type": "markdown",
      "metadata": {
        "id": "-mjEgoN6t5Uo"
      },
      "source": [
        "Mean:"
      ]
    },
    {
      "cell_type": "code",
      "execution_count": 8,
      "metadata": {
        "id": "FDqexTrHQRix",
        "outputId": "f057a804-2b93-4ef6-8db2-399e8bf68b1e"
      },
      "outputs": [
        {
          "name": "stdout",
          "output_type": "stream",
          "text": [
            "Mean of all elements:\n",
            "3.5\n",
            "\n",
            "Mean over rows (first axis):\n",
            "[2.5 3.5 4.5]\n"
          ]
        }
      ],
      "source": [
        "print(f'Mean of all elements:\\n{np.mean(a)}\\n')\n",
        "\n",
        "print(f'Mean over rows (first axis):\\n{np.mean(a, axis=0)}')"
      ]
    },
    {
      "cell_type": "markdown",
      "metadata": {
        "id": "BojifU7tuCyJ"
      },
      "source": [
        "Standard deviation:"
      ]
    },
    {
      "cell_type": "code",
      "execution_count": 9,
      "metadata": {
        "id": "SlA1p-HnQQ4J",
        "outputId": "e7c5dc69-5652-495c-ef20-a22441cd6288"
      },
      "outputs": [
        {
          "name": "stdout",
          "output_type": "stream",
          "text": [
            "Std of all elements:\n",
            "1.707825127659933\n",
            "\n",
            "Std over rows (first axis):\n",
            "[1.5 1.5 1.5]\n"
          ]
        }
      ],
      "source": [
        "print(f'Std of all elements:\\n{np.std(a)}\\n')\n",
        "\n",
        "print(f'Std over rows (first axis):\\n{np.std(a, axis=0)}')"
      ]
    },
    {
      "cell_type": "code",
      "execution_count": 3,
      "metadata": {},
      "outputs": [],
      "source": [
        "import numpy as np"
      ]
    },
    {
      "cell_type": "code",
      "execution_count": 4,
      "metadata": {},
      "outputs": [],
      "source": [
        "arr = np.random.random((1000, 1000))"
      ]
    },
    {
      "cell_type": "code",
      "execution_count": 5,
      "metadata": {},
      "outputs": [
        {
          "name": "stdout",
          "output_type": "stream",
          "text": [
            "CPU times: total: 188 ms\n",
            "Wall time: 517 ms\n"
          ]
        }
      ],
      "source": [
        "%%time\n",
        "\n",
        "mean = 0\n",
        "\n",
        "for i in range(1000):\n",
        "    for j in range(1000):\n",
        "        mean += arr[i, j]\n",
        "\n",
        "mean = mean / (1000 * 1000)"
      ]
    },
    {
      "cell_type": "code",
      "execution_count": 6,
      "metadata": {},
      "outputs": [
        {
          "name": "stdout",
          "output_type": "stream",
          "text": [
            "CPU times: total: 0 ns\n",
            "Wall time: 0 ns\n"
          ]
        }
      ],
      "source": [
        "%%time\n",
        "\n",
        "mean = np.mean(arr)"
      ]
    },
    {
      "cell_type": "markdown",
      "metadata": {
        "id": "efV-dFnbC9vQ"
      },
      "source": [
        "#### Linear algebra\n",
        "\n",
        "NumPy supports a large amount of linear algebra routines. Here, we will introduce the dot product, matrix multiplication etc.\n",
        "\n",
        "If you would like to learn more about linear algebra, we recommend [this MIT course](https://ocw.mit.edu/courses/mathematics/18-06-linear-algebra-spring-2010/video-lectures/)."
      ]
    },
    {
      "cell_type": "markdown",
      "metadata": {
        "id": "--yKCEjGuT7w"
      },
      "source": [
        " Let's start by defining some matrices:"
      ]
    },
    {
      "cell_type": "code",
      "execution_count": null,
      "metadata": {
        "id": "r0a18-Z4xGIn",
        "outputId": "84d8b948-4d9b-4f6a-a1dc-d562f3bc001d"
      },
      "outputs": [
        {
          "name": "stdout",
          "output_type": "stream",
          "text": [
            "(2, 2)\n",
            "(2, 2)\n"
          ]
        }
      ],
      "source": [
        "a = np.array([[1, 2],\n",
        "              [3, 4]])\n",
        "b = np.array([[5, 6],\n",
        "              [7, 8]])\n",
        "print(a.shape)\n",
        "print(b.shape)"
      ]
    },
    {
      "cell_type": "code",
      "execution_count": null,
      "metadata": {
        "id": "TkkFxrjaubS7",
        "outputId": "0e1b7b8e-9dac-40d6-94dd-603f9be05691"
      },
      "outputs": [
        {
          "name": "stdout",
          "output_type": "stream",
          "text": [
            "(1, 2)\n",
            "(2, 1)\n"
          ]
        }
      ],
      "source": [
        "v = np.array([[1, 0]])\n",
        "w = np.array([[2], [3]])\n",
        "print(v.shape)\n",
        "print(w.shape)"
      ]
    },
    {
      "cell_type": "markdown",
      "metadata": {
        "id": "vl1fcfTgNkdU"
      },
      "source": [
        "Let's do the following matrix-vector multiplication $\\begin{pmatrix}\n",
        "  1 & 2  \\\\\n",
        "  3 & 4  \\\\\n",
        " \\end{pmatrix}  \\begin{pmatrix}\n",
        "  2  \\\\\n",
        "  3  \\\\\n",
        " \\end{pmatrix}\n",
        "$:"
      ]
    },
    {
      "cell_type": "code",
      "execution_count": null,
      "metadata": {
        "id": "f7Sfz-23xGme",
        "outputId": "1e6bede1-9f3f-49a6-92b5-50fe5e02cfdd"
      },
      "outputs": [
        {
          "name": "stdout",
          "output_type": "stream",
          "text": [
            "(2, 2) (2, 1) \n",
            "\n",
            "[[ 8]\n",
            " [18]]\n"
          ]
        }
      ],
      "source": [
        "print(a.shape, w.shape, '\\n')\n",
        "\n",
        "print(np.dot(a, w))"
      ]
    },
    {
      "cell_type": "markdown",
      "metadata": {
        "id": "xCpMgJ3nOXR6"
      },
      "source": [
        "This is how we do the following dot product $\\begin{pmatrix}\n",
        "  1 & 0  \\\\\n",
        " \\end{pmatrix}  \\begin{pmatrix}\n",
        "  2  \\\\\n",
        "  3  \\\\\n",
        " \\end{pmatrix}\n",
        "$:"
      ]
    },
    {
      "cell_type": "code",
      "execution_count": null,
      "metadata": {
        "id": "xK7lUoJ6SWca",
        "outputId": "386b586a-bab6-4b22-f240-03baa2a75aec"
      },
      "outputs": [
        {
          "name": "stdout",
          "output_type": "stream",
          "text": [
            "(1, 2) (2, 1)\n",
            "[[2]]\n"
          ]
        }
      ],
      "source": [
        "print(v.shape, w.shape)\n",
        "print(np.dot(v, w))"
      ]
    },
    {
      "cell_type": "markdown",
      "metadata": {
        "id": "m6QvL9I3OnIp"
      },
      "source": [
        "and we can use `np.matmul` to do this matrix-matrix multiplication $\\begin{pmatrix}\n",
        "  1 & 2  \\\\\n",
        "  3 & 4  \\\\\n",
        " \\end{pmatrix}  \\begin{pmatrix}\n",
        "  5 & 6  \\\\\n",
        "  7 & 8  \\\\\n",
        " \\end{pmatrix}\n",
        "$:"
      ]
    },
    {
      "cell_type": "code",
      "execution_count": null,
      "metadata": {
        "id": "lQBlBmURRKQi",
        "outputId": "00c76483-5a33-47e6-faad-103d049fe91c"
      },
      "outputs": [
        {
          "name": "stdout",
          "output_type": "stream",
          "text": [
            "(2, 2) (2, 2)\n",
            "[[19 22]\n",
            " [43 50]]\n"
          ]
        }
      ],
      "source": [
        "print(a.shape, b.shape)\n",
        "print(np.matmul(a, b))"
      ]
    },
    {
      "cell_type": "code",
      "execution_count": null,
      "metadata": {
        "id": "cHf3VuJWvB0f",
        "outputId": "15987cdb-eaf1-4023-a600-aff8bc7c48c3"
      },
      "outputs": [
        {
          "name": "stdout",
          "output_type": "stream",
          "text": [
            "[[19 22]\n",
            " [43 50]]\n"
          ]
        }
      ],
      "source": [
        "print(a @ b)  # @ is shorthand for matmul."
      ]
    },
    {
      "cell_type": "markdown",
      "metadata": {
        "id": "CgzSBUD2O2Uk"
      },
      "source": [
        "As in linear algebra, this operation $\\begin{pmatrix}\n",
        "  1 & 2  \\\\\n",
        "  3 & 4  \\\\\n",
        " \\end{pmatrix}  \\begin{pmatrix}\n",
        "  1 & 0  \\\\\n",
        " \\end{pmatrix}\n",
        "$ is invalid because the inner dimensions of the matrix and the vector do not agree and will raise a `ValueError`:"
      ]
    },
    {
      "cell_type": "code",
      "execution_count": null,
      "metadata": {
        "id": "iPwJgKCESMFJ",
        "outputId": "e6d88192-0120-43eb-bf76-cf819cd12016"
      },
      "outputs": [
        {
          "name": "stdout",
          "output_type": "stream",
          "text": [
            "(2, 2) (1, 2)\n"
          ]
        },
        {
          "ename": "ValueError",
          "evalue": "ignored",
          "output_type": "error",
          "traceback": [
            "\u001b[0;31m---------------------------------------------------------------------------\u001b[0m",
            "\u001b[0;31mValueError\u001b[0m                                Traceback (most recent call last)",
            "\u001b[0;32m<ipython-input-160-4f62c64de40f>\u001b[0m in \u001b[0;36m<module>\u001b[0;34m()\u001b[0m\n\u001b[1;32m      2\u001b[0m \u001b[0;31m# Inner dimensions of the two matrices must match, as per the requirement\u001b[0m\u001b[0;34m\u001b[0m\u001b[0;34m\u001b[0m\u001b[0;34m\u001b[0m\u001b[0m\n\u001b[1;32m      3\u001b[0m \u001b[0;31m# of the dot product / matrix multiplication.\u001b[0m\u001b[0;34m\u001b[0m\u001b[0;34m\u001b[0m\u001b[0;34m\u001b[0m\u001b[0m\n\u001b[0;32m----> 4\u001b[0;31m \u001b[0mprint\u001b[0m\u001b[0;34m(\u001b[0m\u001b[0mnp\u001b[0m\u001b[0;34m.\u001b[0m\u001b[0mmatmul\u001b[0m\u001b[0;34m(\u001b[0m\u001b[0ma\u001b[0m\u001b[0;34m,\u001b[0m \u001b[0mv\u001b[0m\u001b[0;34m)\u001b[0m\u001b[0;34m)\u001b[0m\u001b[0;34m\u001b[0m\u001b[0;34m\u001b[0m\u001b[0m\n\u001b[0m\u001b[1;32m      5\u001b[0m \u001b[0;31m# ValueError: matmul: Input operand 1 has a mismatch in its core dimension 0,\u001b[0m\u001b[0;34m\u001b[0m\u001b[0;34m\u001b[0m\u001b[0;34m\u001b[0m\u001b[0m\n\u001b[1;32m      6\u001b[0m \u001b[0;31m# with gufunc signature (n?,k),(k,m?)->(n?,m?) (size 1 is different from 2)\u001b[0m\u001b[0;34m\u001b[0m\u001b[0;34m\u001b[0m\u001b[0;34m\u001b[0m\u001b[0m\n",
            "\u001b[0;31mValueError\u001b[0m: matmul: Input operand 1 has a mismatch in its core dimension 0, with gufunc signature (n?,k),(k,m?)->(n?,m?) (size 1 is different from 2)"
          ]
        }
      ],
      "source": [
        "print(a.shape, v.shape)\n",
        "# Inner dimensions of the two matrices must match, as per the requirement\n",
        "# of the dot product / matrix multiplication.\n",
        "print(np.matmul(a, v))\n",
        "# ValueError: matmul: Input operand 1 has a mismatch in its core dimension 0,\n",
        "# with gufunc signature (n?,k),(k,m?)->(n?,m?) (size 1 is different from 2)"
      ]
    },
    {
      "cell_type": "markdown",
      "metadata": {
        "id": "FJKn0MsQaO9x"
      },
      "source": [
        "### Broadcasting\n",
        "\n",
        "**Broadcasting** is the mechanism that enables using arrays of different shapes during binary arithmetic operations.\n",
        "What broadcasting does can be thought of as repeating a smaller array so that it fits the size of the larger array, thereby making their shapes compatible.\n",
        "Broadcasting is at the essence of vectorising array operations and it makes certain operations much more efficient because it does not copy data.\n",
        "\n",
        "Broadcasting is easiest to understand visually. In each case below (each row is a separate case), see if you can follow along how NumPy will \"repeat\" the smaller array on the right to make it \"fit\" with the larger array on the left:\n",
        "\n",
        "![picture](https://storage.googleapis.com/dm-educational/assets/intro-to-python-and-numpy/broadcasting.svg)\n",
        "\n",
        "Note also that a `ValueError` will be thrown if it's not possible to make broadcasting work.\n",
        "\n",
        "\n",
        "\n",
        "Concretely, broadcasting works like this:\n",
        "- NumPy compares shapes of two arrays elementwise\n",
        "- if their shapes are of different sizes, prepend ones to the shape of the shorter array until they're the same size\n",
        "- start the comparison with the trailing (rightmost, last) axis, and works towards the leading (leftmost, first) axis\n",
        "- the dimensions are compatible when:\n",
        "  - they are equal\n",
        "  - one of them equals 1\n",
        "- if there's a mismatch, an exception is thrown\n",
        "\n",
        "Let's see this on an example:"
      ]
    },
    {
      "cell_type": "markdown",
      "metadata": {
        "id": "E1-FMXx2l5DV"
      },
      "source": [
        "Let's check the examples from above:"
      ]
    },
    {
      "cell_type": "code",
      "execution_count": null,
      "metadata": {
        "id": "MUyc2jDDmZ2E",
        "outputId": "564b95d5-3f2f-41e5-8720-3cce3c08e223"
      },
      "outputs": [
        {
          "name": "stdout",
          "output_type": "stream",
          "text": [
            "[[2 3 4 5]]\n"
          ]
        }
      ],
      "source": [
        "a = np.array([[1, 2, 3, 4]])\n",
        "b = np.array([1])\n",
        "print(a + b)"
      ]
    },
    {
      "cell_type": "code",
      "execution_count": null,
      "metadata": {
        "id": "Uh7K28I2l3XP",
        "outputId": "83892c63-bc74-4818-d747-94e2873edf47"
      },
      "outputs": [
        {
          "name": "stdout",
          "output_type": "stream",
          "text": [
            "[[ 2  4  6  8]\n",
            " [ 6  8 10 12]]\n"
          ]
        }
      ],
      "source": [
        "a = np.array([[1, 2, 3, 4], [5, 6, 7, 8]])\n",
        "b = np.array([1, 2, 3, 4])\n",
        "print(a + b)"
      ]
    },
    {
      "cell_type": "code",
      "execution_count": null,
      "metadata": {
        "id": "BHXGnJhOmjtt",
        "outputId": "4db829f1-a47a-4f29-bbb5-0cfd046ec14b"
      },
      "outputs": [
        {
          "name": "stdout",
          "output_type": "stream",
          "text": [
            "[[ 2  3  4  5]\n",
            " [ 7  8  9 10]]\n"
          ]
        }
      ],
      "source": [
        "a = np.array([[1, 2, 3, 4], [5, 6, 7, 8]])\n",
        "b = np.array([[1], [2]])\n",
        "print(a + b)"
      ]
    },
    {
      "cell_type": "code",
      "execution_count": null,
      "metadata": {
        "id": "1JfCUh-GmnOG",
        "outputId": "5bc236a8-8a82-4773-ec74-aed04277c087"
      },
      "outputs": [
        {
          "ename": "ValueError",
          "evalue": "ignored",
          "output_type": "error",
          "traceback": [
            "\u001b[0;31m---------------------------------------------------------------------------\u001b[0m",
            "\u001b[0;31mValueError\u001b[0m                                Traceback (most recent call last)",
            "\u001b[0;32m<ipython-input-171-c7ea0051c13a>\u001b[0m in \u001b[0;36m<module>\u001b[0;34m()\u001b[0m\n\u001b[1;32m      2\u001b[0m \u001b[0mb\u001b[0m \u001b[0;34m=\u001b[0m \u001b[0mnp\u001b[0m\u001b[0;34m.\u001b[0m\u001b[0marray\u001b[0m\u001b[0;34m(\u001b[0m\u001b[0;34m[\u001b[0m\u001b[0;34m[\u001b[0m\u001b[0;36m1\u001b[0m\u001b[0;34m,\u001b[0m \u001b[0;36m2\u001b[0m\u001b[0;34m]\u001b[0m\u001b[0;34m]\u001b[0m\u001b[0;34m)\u001b[0m\u001b[0;34m\u001b[0m\u001b[0;34m\u001b[0m\u001b[0m\n\u001b[1;32m      3\u001b[0m \u001b[0;31m# ValueError: operands could not be broadcast together with shapes (2,4) (1,2).\u001b[0m\u001b[0;34m\u001b[0m\u001b[0;34m\u001b[0m\u001b[0;34m\u001b[0m\u001b[0m\n\u001b[0;32m----> 4\u001b[0;31m \u001b[0mprint\u001b[0m\u001b[0;34m(\u001b[0m\u001b[0ma\u001b[0m \u001b[0;34m+\u001b[0m \u001b[0mb\u001b[0m\u001b[0;34m)\u001b[0m\u001b[0;34m\u001b[0m\u001b[0;34m\u001b[0m\u001b[0m\n\u001b[0m",
            "\u001b[0;31mValueError\u001b[0m: operands could not be broadcast together with shapes (2,4) (1,2) "
          ]
        }
      ],
      "source": [
        "a = np.array([[1, 2, 3, 4], [5, 6, 7, 8]])\n",
        "b = np.array([[1, 2]])\n",
        "# ValueError: operands could not be broadcast together with shapes (2,4) (1,2).\n",
        "print(a + b)"
      ]
    },
    {
      "cell_type": "markdown",
      "metadata": {
        "id": "a1puUfecxJCu"
      },
      "source": [
        "Broadcasting is efficient and often used. However, you need to be careful with your tensor sizes – broadcasting can be a source of difficult-to-detect bugs in your code in the case where you don't want the broadcast to be done, but because of the compatible tensor sizes, it will still be executed.\n",
        "\n",
        "For example, if you erroneously removed the leading axis of a tensor, broadcasting will still work when operating to the original tensor because of the shape compatibility – the leading dimension will simply be repeated). You can guard against such errors by using **defensive programming**, which can involve frequently checking that your tensors are the shape you expect them to be.\n",
        "\n",
        "Some further resources on broadcasting:\n",
        "- [NumPy docs](https://numpy.org/doc/stable/user/basics.broadcasting.html)\n",
        "- [SciPy docs](http://scipy.github.io/old-wiki/pages/EricsBroadcastingDoc)\n",
        "- [Python Data Science Handbook](https://jakevdp.github.io/PythonDataScienceHandbook/02.05-computation-on-arrays-broadcasting.html)\n"
      ]
    },
    {
      "cell_type": "markdown",
      "metadata": {
        "id": "gmRMn56oZiGI"
      },
      "source": [
        "### Array manipulation\n",
        "\n",
        "NumPy supports a large array of array manipulation functions. Here, we focus on a small number of them that are frequently used in deep learning."
      ]
    },
    {
      "cell_type": "markdown",
      "metadata": {
        "id": "XR_6Hmb3GRx_"
      },
      "source": [
        "#### Shape changers\n",
        "\n",
        "Shape changing functions change the shape of the array without changing the underlying data."
      ]
    },
    {
      "cell_type": "markdown",
      "metadata": {
        "id": "9jeAPJyzoNN7"
      },
      "source": [
        "`np.reshape` will reshape the existing data. The result will be the same data with the new shape. Note that the old shape and the new requested shape need to be compatible – they must contain the same number of elements across the old and the new shape):"
      ]
    },
    {
      "cell_type": "code",
      "execution_count": null,
      "metadata": {
        "id": "Qe541BsJ0WAi",
        "outputId": "9df179fc-2f00-4aea-9423-1ff50bf6f44d"
      },
      "outputs": [
        {
          "name": "stdout",
          "output_type": "stream",
          "text": [
            "[ 0  1  2  3  4  5  6  7  8  9 10 11]\n",
            "Shape: (12,) \n",
            "\n",
            "[[ 0  1  2  3]\n",
            " [ 4  5  6  7]\n",
            " [ 8  9 10 11]]\n",
            "Shape: (3, 4) \n",
            "\n",
            "[[ 0  1  2  3  4  5]\n",
            " [ 6  7  8  9 10 11]]\n",
            "Shape: (2, 6)\n"
          ]
        }
      ],
      "source": [
        "a = np.arange(12)\n",
        "print(a)\n",
        "print('Shape:', a.shape, '\\n')\n",
        "\n",
        "b = np.reshape(a, [3, 4])\n",
        "print(b)\n",
        "print('Shape:', b.shape, '\\n')\n",
        "c = np.reshape(a, [2, 6])  # Gives a new shape to the data.\n",
        "\n",
        "print(c)\n",
        "print('Shape:', c.shape)"
      ]
    },
    {
      "cell_type": "markdown",
      "metadata": {
        "id": "Xyw_vj1ix_Ja"
      },
      "source": [
        "For example, the following won't work because the old and the new shapes do not agree:\n"
      ]
    },
    {
      "cell_type": "code",
      "execution_count": null,
      "metadata": {
        "id": "CmfQPTMqoiLB",
        "outputId": "48f4254b-478e-48e6-80c1-fcdec902de59"
      },
      "outputs": [
        {
          "name": "stdout",
          "output_type": "stream",
          "text": [
            "Shape: (3, 4)\n"
          ]
        },
        {
          "ename": "ValueError",
          "evalue": "ignored",
          "output_type": "error",
          "traceback": [
            "\u001b[0;31m---------------------------------------------------------------------------\u001b[0m",
            "\u001b[0;31mValueError\u001b[0m                                Traceback (most recent call last)",
            "\u001b[0;32m<ipython-input-173-4ca7200aa702>\u001b[0m in \u001b[0;36m<module>\u001b[0;34m()\u001b[0m\n\u001b[1;32m      1\u001b[0m \u001b[0mprint\u001b[0m\u001b[0;34m(\u001b[0m\u001b[0;34m'Shape:'\u001b[0m\u001b[0;34m,\u001b[0m \u001b[0mb\u001b[0m\u001b[0;34m.\u001b[0m\u001b[0mshape\u001b[0m\u001b[0;34m)\u001b[0m\u001b[0;34m\u001b[0m\u001b[0;34m\u001b[0m\u001b[0m\n\u001b[1;32m      2\u001b[0m \u001b[0;31m# ValueError: cannot reshape array of size 12 into shape (2,7)\u001b[0m\u001b[0;34m\u001b[0m\u001b[0;34m\u001b[0m\u001b[0;34m\u001b[0m\u001b[0m\n\u001b[0;32m----> 3\u001b[0;31m \u001b[0mprint\u001b[0m\u001b[0;34m(\u001b[0m\u001b[0mnp\u001b[0m\u001b[0;34m.\u001b[0m\u001b[0mreshape\u001b[0m\u001b[0;34m(\u001b[0m\u001b[0ma\u001b[0m\u001b[0;34m,\u001b[0m \u001b[0;34m[\u001b[0m\u001b[0;36m2\u001b[0m\u001b[0;34m,\u001b[0m \u001b[0;36m7\u001b[0m\u001b[0;34m]\u001b[0m\u001b[0;34m)\u001b[0m\u001b[0;34m)\u001b[0m\u001b[0;34m\u001b[0m\u001b[0;34m\u001b[0m\u001b[0m\n\u001b[0m",
            "\u001b[0;32m<__array_function__ internals>\u001b[0m in \u001b[0;36mreshape\u001b[0;34m(*args, **kwargs)\u001b[0m\n",
            "\u001b[0;32m/usr/local/lib/python3.7/dist-packages/numpy/core/fromnumeric.py\u001b[0m in \u001b[0;36mreshape\u001b[0;34m(a, newshape, order)\u001b[0m\n\u001b[1;32m    296\u001b[0m            [5, 6]])\n\u001b[1;32m    297\u001b[0m     \"\"\"\n\u001b[0;32m--> 298\u001b[0;31m     \u001b[0;32mreturn\u001b[0m \u001b[0m_wrapfunc\u001b[0m\u001b[0;34m(\u001b[0m\u001b[0ma\u001b[0m\u001b[0;34m,\u001b[0m \u001b[0;34m'reshape'\u001b[0m\u001b[0;34m,\u001b[0m \u001b[0mnewshape\u001b[0m\u001b[0;34m,\u001b[0m \u001b[0morder\u001b[0m\u001b[0;34m=\u001b[0m\u001b[0morder\u001b[0m\u001b[0;34m)\u001b[0m\u001b[0;34m\u001b[0m\u001b[0;34m\u001b[0m\u001b[0m\n\u001b[0m\u001b[1;32m    299\u001b[0m \u001b[0;34m\u001b[0m\u001b[0m\n\u001b[1;32m    300\u001b[0m \u001b[0;34m\u001b[0m\u001b[0m\n",
            "\u001b[0;32m/usr/local/lib/python3.7/dist-packages/numpy/core/fromnumeric.py\u001b[0m in \u001b[0;36m_wrapfunc\u001b[0;34m(obj, method, *args, **kwds)\u001b[0m\n\u001b[1;32m     55\u001b[0m \u001b[0;34m\u001b[0m\u001b[0m\n\u001b[1;32m     56\u001b[0m     \u001b[0;32mtry\u001b[0m\u001b[0;34m:\u001b[0m\u001b[0;34m\u001b[0m\u001b[0;34m\u001b[0m\u001b[0m\n\u001b[0;32m---> 57\u001b[0;31m         \u001b[0;32mreturn\u001b[0m \u001b[0mbound\u001b[0m\u001b[0;34m(\u001b[0m\u001b[0;34m*\u001b[0m\u001b[0margs\u001b[0m\u001b[0;34m,\u001b[0m \u001b[0;34m**\u001b[0m\u001b[0mkwds\u001b[0m\u001b[0;34m)\u001b[0m\u001b[0;34m\u001b[0m\u001b[0;34m\u001b[0m\u001b[0m\n\u001b[0m\u001b[1;32m     58\u001b[0m     \u001b[0;32mexcept\u001b[0m \u001b[0mTypeError\u001b[0m\u001b[0;34m:\u001b[0m\u001b[0;34m\u001b[0m\u001b[0;34m\u001b[0m\u001b[0m\n\u001b[1;32m     59\u001b[0m         \u001b[0;31m# A TypeError occurs if the object does have such a method in its\u001b[0m\u001b[0;34m\u001b[0m\u001b[0;34m\u001b[0m\u001b[0;34m\u001b[0m\u001b[0m\n",
            "\u001b[0;31mValueError\u001b[0m: cannot reshape array of size 12 into shape (2,7)"
          ]
        }
      ],
      "source": [
        "print('Shape:', b.shape)\n",
        "# ValueError: cannot reshape array of size 12 into shape (2,7)\n",
        "print(np.reshape(a, [2, 7]))"
      ]
    },
    {
      "cell_type": "markdown",
      "metadata": {
        "id": "xf8cj798oZY9"
      },
      "source": [
        "`np.transpose` does transposition on vectors and matrices:"
      ]
    },
    {
      "cell_type": "code",
      "execution_count": null,
      "metadata": {
        "id": "8CABQprj0YYH",
        "outputId": "de353e66-5503-4cbe-9410-df2a05dc0fc4"
      },
      "outputs": [
        {
          "name": "stdout",
          "output_type": "stream",
          "text": [
            "[[ 0  1  2  3]\n",
            " [ 4  5  6  7]\n",
            " [ 8  9 10 11]]\n",
            "Shape: (3, 4) \n",
            "\n",
            "[[ 0  4  8]\n",
            " [ 1  5  9]\n",
            " [ 2  6 10]\n",
            " [ 3  7 11]]\n",
            "Shape: (4, 3)\n"
          ]
        }
      ],
      "source": [
        "c = np.transpose(b)  # Permutes the axes of the data.\n",
        "print(b)\n",
        "print('Shape:', b.shape, '\\n')\n",
        "\n",
        "print(c)\n",
        "print('Shape:', c.shape)"
      ]
    },
    {
      "cell_type": "code",
      "execution_count": 9,
      "metadata": {},
      "outputs": [
        {
          "name": "stdout",
          "output_type": "stream",
          "text": [
            "[[0.38382367 0.02915855 0.80675472]\n",
            " [0.85166884 0.38830788 0.45402909]]\n",
            "\n",
            "[[0.38382367 0.85166884]\n",
            " [0.02915855 0.38830788]\n",
            " [0.80675472 0.45402909]]\n"
          ]
        }
      ],
      "source": [
        "b = np.random.random((2, 3))\n",
        "\n",
        "print(b)\n",
        "\n",
        "print()\n",
        "\n",
        "print(b.T)  # Shorthand for transpose."
      ]
    },
    {
      "cell_type": "markdown",
      "metadata": {
        "id": "Co1-kGluoelU"
      },
      "source": [
        "`np.expand_dims` expands the number of dimensions (axes) by creating a new dimension of size `1`:"
      ]
    },
    {
      "cell_type": "code",
      "execution_count": null,
      "metadata": {
        "id": "am6sGS5G0e8_",
        "outputId": "e904647d-0167-4d84-ae97-b9b417353863"
      },
      "outputs": [
        {
          "name": "stdout",
          "output_type": "stream",
          "text": [
            "[ 0  1  2  3  4  5  6  7  8  9 10 11]\n",
            "Shape: (12,) \n",
            "\n",
            "[[ 0  1  2  3  4  5  6  7  8  9 10 11]]\n",
            "Shape: (1, 12) \n",
            "\n",
            "[[ 0]\n",
            " [ 1]\n",
            " [ 2]\n",
            " [ 3]\n",
            " [ 4]\n",
            " [ 5]\n",
            " [ 6]\n",
            " [ 7]\n",
            " [ 8]\n",
            " [ 9]\n",
            " [10]\n",
            " [11]]\n",
            "Shape: (12, 1)\n"
          ]
        }
      ],
      "source": [
        "print(a)\n",
        "print('Shape:', a.shape, '\\n')\n",
        "\n",
        "d = np.expand_dims(a, axis=0)   # Expand the number of axes.\n",
        "print(d)\n",
        "print('Shape:', d.shape, '\\n')\n",
        "\n",
        "e = np.expand_dims(a, axis=-1)  # Expand the number of axes.\n",
        "print(e)\n",
        "print('Shape:', e.shape)"
      ]
    },
    {
      "cell_type": "markdown",
      "metadata": {
        "id": "gdYyS7fCogJD"
      },
      "source": [
        "`np.squeeze` removes any axes of size `1`:"
      ]
    },
    {
      "cell_type": "code",
      "execution_count": null,
      "metadata": {
        "id": "XpZAt7yGGj5q",
        "outputId": "b6df4fad-8686-4873-ed75-8e4a4188114d"
      },
      "outputs": [
        {
          "name": "stdout",
          "output_type": "stream",
          "text": [
            "[[ 0]\n",
            " [ 1]\n",
            " [ 2]\n",
            " [ 3]\n",
            " [ 4]\n",
            " [ 5]\n",
            " [ 6]\n",
            " [ 7]\n",
            " [ 8]\n",
            " [ 9]\n",
            " [10]\n",
            " [11]]\n",
            "Shape: (12, 1) \n",
            "\n",
            "[ 0  1  2  3  4  5  6  7  8  9 10 11]\n",
            "Shape: (12,)\n"
          ]
        }
      ],
      "source": [
        "print(e)\n",
        "print('Shape:', e.shape, '\\n')\n",
        "f = np.squeeze(e)     # remove axes of size 1\n",
        "\n",
        "print(f)\n",
        "print('Shape:', f.shape)"
      ]
    },
    {
      "cell_type": "markdown",
      "metadata": {
        "id": "oGcrcuogGZ3P"
      },
      "source": [
        "#### Joining and splitting\n",
        "\n",
        "Often it is useful to join multiple vectors/matrices/tensors into a bigger one, or to split a bigger one into smaller ones. For this, we use joining and splitting functions:"
      ]
    },
    {
      "cell_type": "code",
      "execution_count": null,
      "metadata": {
        "id": "dx0ZJkUaGkMC",
        "outputId": "6785a498-3de5-4d18-d2a0-84fc81f88996"
      },
      "outputs": [
        {
          "name": "stdout",
          "output_type": "stream",
          "text": [
            "[[0 0]\n",
            " [0 0]\n",
            " [0 0]] \n",
            "\n",
            "[[1 1]\n",
            " [1 1]\n",
            " [1 1]]\n"
          ]
        }
      ],
      "source": [
        "a = np.zeros([3, 2], dtype=np.int32)\n",
        "b = np.ones([3, 2], dtype=np.int32)\n",
        "print(a, '\\n')\n",
        "\n",
        "print(b)"
      ]
    },
    {
      "cell_type": "markdown",
      "metadata": {
        "id": "VB3DZwHpHIR1"
      },
      "source": [
        "`np.concatenate` will concatenate along an existing axis. Depending on which axes we concatenate along, we will get a different result:"
      ]
    },
    {
      "cell_type": "code",
      "execution_count": null,
      "metadata": {
        "id": "DXBwRhYTG1ih",
        "outputId": "9431566a-31ac-466e-b8a3-8d7f17a3792a"
      },
      "outputs": [
        {
          "name": "stdout",
          "output_type": "stream",
          "text": [
            "[[0 0]\n",
            " [0 0]\n",
            " [0 0]\n",
            " [1 1]\n",
            " [1 1]\n",
            " [1 1]]\n",
            "\n",
            "Shape: (6, 2)\n"
          ]
        }
      ],
      "source": [
        "c = np.concatenate([a, b], axis=0)\n",
        "print(c)\n",
        "print('\\nShape:', c.shape)"
      ]
    },
    {
      "cell_type": "code",
      "execution_count": null,
      "metadata": {
        "id": "bpax5Q9F0xb6",
        "outputId": "9414573d-209b-47b2-c891-193db9ef83eb"
      },
      "outputs": [
        {
          "name": "stdout",
          "output_type": "stream",
          "text": [
            "[[0 0 1 1]\n",
            " [0 0 1 1]\n",
            " [0 0 1 1]]\n",
            "\n",
            "Shape: (3, 4)\n"
          ]
        }
      ],
      "source": [
        "d = np.concatenate([a, b], axis=1)\n",
        "print(d)\n",
        "print('\\nShape:', d.shape)"
      ]
    },
    {
      "cell_type": "markdown",
      "metadata": {
        "id": "rtui7aVUHbnu"
      },
      "source": [
        "`np.stack`, on the other hand, will stack our matrices along a new axis – it will create a tensor with a rank larger by 1, which contains our matrices as slices:"
      ]
    },
    {
      "cell_type": "code",
      "execution_count": null,
      "metadata": {
        "id": "Akmihl350_6k",
        "outputId": "90a68f29-bc35-407f-afac-7b09915f5b26"
      },
      "outputs": [
        {
          "name": "stdout",
          "output_type": "stream",
          "text": [
            "[[[0 0]\n",
            "  [0 0]\n",
            "  [0 0]]\n",
            "\n",
            " [[1 1]\n",
            "  [1 1]\n",
            "  [1 1]]]\n",
            "\n",
            "Shape: (2, 3, 2)\n"
          ]
        }
      ],
      "source": [
        "e = np.stack([a, b], axis=0)\n",
        "print(e)\n",
        "print('\\nShape:', e.shape)"
      ]
    },
    {
      "cell_type": "markdown",
      "metadata": {
        "id": "poV0HL5SH1mK"
      },
      "source": [
        "Let's slice the new tensor `e` tp check where the matrix `a` is:"
      ]
    },
    {
      "cell_type": "code",
      "execution_count": null,
      "metadata": {
        "id": "hoHosUkwzC46",
        "outputId": "e811cf61-0a9a-4fb9-edd2-40d80bf4895b"
      },
      "outputs": [
        {
          "data": {
            "text/plain": [
              "array([[0, 0],\n",
              "       [0, 0],\n",
              "       [0, 0]], dtype=int32)"
            ]
          },
          "execution_count": 181,
          "metadata": {},
          "output_type": "execute_result"
        }
      ],
      "source": [
        "e[0]"
      ]
    },
    {
      "cell_type": "markdown",
      "metadata": {
        "id": "zokkzUERzD7S"
      },
      "source": [
        "This is equivalent to:"
      ]
    },
    {
      "cell_type": "code",
      "execution_count": null,
      "metadata": {
        "id": "U_nhjENwHz-t",
        "outputId": "0eda06a1-83f4-40fa-cdf7-b24fc26c61bd"
      },
      "outputs": [
        {
          "data": {
            "text/plain": [
              "array([[0, 0],\n",
              "       [0, 0],\n",
              "       [0, 0]], dtype=int32)"
            ]
          },
          "execution_count": 182,
          "metadata": {},
          "output_type": "execute_result"
        }
      ],
      "source": [
        "e[0, :, :]"
      ]
    },
    {
      "cell_type": "markdown",
      "metadata": {
        "id": "enp-DrpHzF3q"
      },
      "source": [
        "And we can find the matrix `b` at index 1:"
      ]
    },
    {
      "cell_type": "code",
      "execution_count": null,
      "metadata": {
        "id": "DEGIVCOkzJur",
        "outputId": "a031d002-4edb-444e-e195-d525e938c342"
      },
      "outputs": [
        {
          "data": {
            "text/plain": [
              "array([[1, 1],\n",
              "       [1, 1],\n",
              "       [1, 1]], dtype=int32)"
            ]
          },
          "execution_count": 183,
          "metadata": {},
          "output_type": "execute_result"
        }
      ],
      "source": [
        "e[1]"
      ]
    },
    {
      "cell_type": "markdown",
      "metadata": {
        "id": "K6Y942PRp22h"
      },
      "source": [
        "`np.split` splits an array into subarrays.\n",
        "\n",
        "If we pass an integer `n` to `np.split`, it will try to split the axis into `n` equal parts:"
      ]
    },
    {
      "cell_type": "code",
      "execution_count": null,
      "metadata": {
        "id": "VrKH43s91LAX",
        "outputId": "7a300965-8912-41dd-d7f4-4f57a131634d"
      },
      "outputs": [
        {
          "name": "stdout",
          "output_type": "stream",
          "text": [
            "Input: [0 1 2 3 4 5 6 7 8 9]\n",
            "\n",
            "Split into 2 parts along the first axis:\n",
            "[0 1 2 3 4]\n",
            "[5 6 7 8 9]\n",
            "\n",
            "Split into 5 parts along the first axis:\n",
            "[0 1]\n",
            "[2 3]\n",
            "[4 5]\n",
            "[6 7]\n",
            "[8 9]\n"
          ]
        }
      ],
      "source": [
        "a = np.arange(10)\n",
        "print('Input:', a)\n",
        "print('\\nSplit into 2 parts along the first axis:')\n",
        "split_res = np.split(a, 2, axis=0)\n",
        "for elem in split_res:\n",
        "  print(elem)\n",
        "\n",
        "print('\\nSplit into 5 parts along the first axis:')\n",
        "split_res = np.split(a, 5, axis=0)\n",
        "for elem in split_res:\n",
        "  print(elem)"
      ]
    },
    {
      "cell_type": "markdown",
      "metadata": {
        "id": "If1PHcBDqcec"
      },
      "source": [
        "If we pass `np.split` an array/list instead of a number of parts, it will split the NumPy array `a` in a way that each element of the array signifies a splitting point, e.g.:"
      ]
    },
    {
      "cell_type": "code",
      "execution_count": null,
      "metadata": {
        "id": "2veyVKPzqzeS",
        "outputId": "3a77f6fd-42b6-470b-e483-5b5b8bdb0048"
      },
      "outputs": [
        {
          "name": "stdout",
          "output_type": "stream",
          "text": [
            "Input: [0 1 2 3 4 5 6 7 8 9]\n",
            "\n",
            "Split array into 4 parts using the split point indices [1, 5, 8] along the first axis:\n",
            "[0]\n",
            "[1 2 3 4]\n",
            "[5 6 7]\n",
            "[8 9]\n"
          ]
        }
      ],
      "source": [
        "print('Input:', a)\n",
        "print('\\nSplit array into 4 parts using the split point indices [1, 5, 8] '\n",
        "      'along the first axis:')\n",
        "split_res = np.split(a, [1, 5, 8], axis=0)\n",
        "for elem in split_res:\n",
        "  print(elem)"
      ]
    },
    {
      "cell_type": "markdown",
      "metadata": {
        "id": "QH0rnV2jutrK"
      },
      "source": [
        "### Suggested exercises\n",
        "\n",
        "- Can you reproduce the result of a `np.full` by using `np.ones`? Hint: broadcasting to the rescue?\n",
        "- Can you reproduce the result of `np.zeros_like` by using `np.zeros`? Hint: how would you provide the size information?\n",
        "- What is the difference between `a[1, 1:2]`, `a[1, [1]]` and `a[1, 1]`?\n",
        "- Can you create a matrix containing the integers 0 to 11 of the shape (4, 3) and (6, 2), starting from array creation using `np.arange`?\n",
        "- Can you count the total number of elements in an array by using some of the aggregation functions? Hint: try using the shape information, or `np.ones_like`.\n",
        "- Do the outer product of two vectors by calling `np.outer` and by broadcasting!\n",
        "- Do a bilinear product $a^T W b$ with einsum, where $a$ and $b$ are vectors, and $W$ is an appropriately shaped matrix."
      ]
    },
    {
      "cell_type": "markdown",
      "metadata": {
        "id": "rj7YrGVGutBE"
      },
      "source": [
        "Whew, thanks for sticking with us until the end of this tutorial!\n",
        "\n",
        "This tutorial was inspired by the [Introduction to Numpy tutorial](https://github.com/eemlcommunity/PracticalSessions2019/blob/master/introductory/Intro_Numpy.ipynb) from EEML, and all the other fantastic resources referenced within this colab! :)\n",
        "\n"
      ]
    }
  ],
  "metadata": {
    "colab": {
      "name": "Introduction to Python and NumPy for Deep Learning.ipynb",
      "provenance": [],
      "toc_visible": true
    },
    "kernelspec": {
      "display_name": "Python 3",
      "language": "python",
      "name": "python3"
    },
    "language_info": {
      "codemirror_mode": {
        "name": "ipython",
        "version": 3
      },
      "file_extension": ".py",
      "mimetype": "text/x-python",
      "name": "python",
      "nbconvert_exporter": "python",
      "pygments_lexer": "ipython3",
      "version": "3.10.6"
    }
  },
  "nbformat": 4,
  "nbformat_minor": 0
}
