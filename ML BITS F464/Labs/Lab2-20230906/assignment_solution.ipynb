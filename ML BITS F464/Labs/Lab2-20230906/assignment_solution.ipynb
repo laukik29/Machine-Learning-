{
 "cells": [
  {
   "cell_type": "markdown",
   "metadata": {},
   "source": [
    "# Linear Regression Assignment"
   ]
  },
  {
   "cell_type": "code",
   "execution_count": 2,
   "metadata": {},
   "outputs": [],
   "source": [
    "# Import the required libraries\n",
    "\n",
    "import pandas as pd\n",
    "import numpy as np\n",
    "import matplotlib.pyplot as plt\n",
    "\n",
    "%matplotlib inline"
   ]
  },
  {
   "cell_type": "markdown",
   "metadata": {},
   "source": [
    "## Data Preprocessing"
   ]
  },
  {
   "cell_type": "markdown",
   "metadata": {},
   "source": [
    "### **Exploring the dataset**"
   ]
  },
  {
   "cell_type": "markdown",
   "metadata": {},
   "source": [
    "Let's start with loading the training data from the csv into a pandas dataframe"
   ]
  },
  {
   "cell_type": "code",
   "execution_count": 3,
   "metadata": {},
   "outputs": [],
   "source": [
    "df = pd.read_csv('train_processed_splitted.csv')"
   ]
  },
  {
   "cell_type": "markdown",
   "metadata": {},
   "source": [
    "Let's see what the first 5 rows of this dataset looks like"
   ]
  },
  {
   "cell_type": "code",
   "execution_count": 4,
   "metadata": {},
   "outputs": [
    {
     "data": {
      "text/html": [
       "<div>\n",
       "<style scoped>\n",
       "    .dataframe tbody tr th:only-of-type {\n",
       "        vertical-align: middle;\n",
       "    }\n",
       "\n",
       "    .dataframe tbody tr th {\n",
       "        vertical-align: top;\n",
       "    }\n",
       "\n",
       "    .dataframe thead th {\n",
       "        text-align: right;\n",
       "    }\n",
       "</style>\n",
       "<table border=\"1\" class=\"dataframe\">\n",
       "  <thead>\n",
       "    <tr style=\"text-align: right;\">\n",
       "      <th></th>\n",
       "      <th>LotArea</th>\n",
       "      <th>TotalBsmtSF</th>\n",
       "      <th>GrLivArea</th>\n",
       "      <th>GarageArea</th>\n",
       "      <th>PoolArea</th>\n",
       "      <th>OverallCond</th>\n",
       "      <th>Utilities</th>\n",
       "      <th>SalePrice</th>\n",
       "    </tr>\n",
       "  </thead>\n",
       "  <tbody>\n",
       "    <tr>\n",
       "      <th>0</th>\n",
       "      <td>11553</td>\n",
       "      <td>1051</td>\n",
       "      <td>1159</td>\n",
       "      <td>336</td>\n",
       "      <td>0</td>\n",
       "      <td>5</td>\n",
       "      <td>AllPub</td>\n",
       "      <td>158000</td>\n",
       "    </tr>\n",
       "    <tr>\n",
       "      <th>1</th>\n",
       "      <td>8400</td>\n",
       "      <td>1052</td>\n",
       "      <td>1052</td>\n",
       "      <td>288</td>\n",
       "      <td>0</td>\n",
       "      <td>5</td>\n",
       "      <td>AllPub</td>\n",
       "      <td>138500</td>\n",
       "    </tr>\n",
       "    <tr>\n",
       "      <th>2</th>\n",
       "      <td>8960</td>\n",
       "      <td>1008</td>\n",
       "      <td>1028</td>\n",
       "      <td>360</td>\n",
       "      <td>0</td>\n",
       "      <td>6</td>\n",
       "      <td>AllPub</td>\n",
       "      <td>115000</td>\n",
       "    </tr>\n",
       "    <tr>\n",
       "      <th>3</th>\n",
       "      <td>11100</td>\n",
       "      <td>0</td>\n",
       "      <td>930</td>\n",
       "      <td>308</td>\n",
       "      <td>0</td>\n",
       "      <td>7</td>\n",
       "      <td>AllPub</td>\n",
       "      <td>84900</td>\n",
       "    </tr>\n",
       "    <tr>\n",
       "      <th>4</th>\n",
       "      <td>15593</td>\n",
       "      <td>1304</td>\n",
       "      <td>2287</td>\n",
       "      <td>667</td>\n",
       "      <td>0</td>\n",
       "      <td>4</td>\n",
       "      <td>AllPub</td>\n",
       "      <td>225000</td>\n",
       "    </tr>\n",
       "  </tbody>\n",
       "</table>\n",
       "</div>"
      ],
      "text/plain": [
       "   LotArea  TotalBsmtSF  GrLivArea  GarageArea  PoolArea  OverallCond  \\\n",
       "0    11553         1051       1159         336         0            5   \n",
       "1     8400         1052       1052         288         0            5   \n",
       "2     8960         1008       1028         360         0            6   \n",
       "3    11100            0        930         308         0            7   \n",
       "4    15593         1304       2287         667         0            4   \n",
       "\n",
       "  Utilities  SalePrice  \n",
       "0    AllPub     158000  \n",
       "1    AllPub     138500  \n",
       "2    AllPub     115000  \n",
       "3    AllPub      84900  \n",
       "4    AllPub     225000  "
      ]
     },
     "execution_count": 4,
     "metadata": {},
     "output_type": "execute_result"
    }
   ],
   "source": [
    "df.head()"
   ]
  },
  {
   "cell_type": "markdown",
   "metadata": {},
   "source": [
    "What are all the features present? What is the range for each of the features along with their mean?"
   ]
  },
  {
   "cell_type": "code",
   "execution_count": 5,
   "metadata": {},
   "outputs": [
    {
     "data": {
      "text/html": [
       "<div>\n",
       "<style scoped>\n",
       "    .dataframe tbody tr th:only-of-type {\n",
       "        vertical-align: middle;\n",
       "    }\n",
       "\n",
       "    .dataframe tbody tr th {\n",
       "        vertical-align: top;\n",
       "    }\n",
       "\n",
       "    .dataframe thead th {\n",
       "        text-align: right;\n",
       "    }\n",
       "</style>\n",
       "<table border=\"1\" class=\"dataframe\">\n",
       "  <thead>\n",
       "    <tr style=\"text-align: right;\">\n",
       "      <th></th>\n",
       "      <th>LotArea</th>\n",
       "      <th>TotalBsmtSF</th>\n",
       "      <th>GrLivArea</th>\n",
       "      <th>GarageArea</th>\n",
       "      <th>PoolArea</th>\n",
       "      <th>OverallCond</th>\n",
       "      <th>SalePrice</th>\n",
       "    </tr>\n",
       "  </thead>\n",
       "  <tbody>\n",
       "    <tr>\n",
       "      <th>count</th>\n",
       "      <td>1314.000000</td>\n",
       "      <td>1314.000000</td>\n",
       "      <td>1314.000000</td>\n",
       "      <td>1314.000000</td>\n",
       "      <td>1314.000000</td>\n",
       "      <td>1314.000000</td>\n",
       "      <td>1314.000000</td>\n",
       "    </tr>\n",
       "    <tr>\n",
       "      <th>mean</th>\n",
       "      <td>10622.104262</td>\n",
       "      <td>1058.311263</td>\n",
       "      <td>1512.900304</td>\n",
       "      <td>473.480213</td>\n",
       "      <td>2.643075</td>\n",
       "      <td>5.582192</td>\n",
       "      <td>180795.504566</td>\n",
       "    </tr>\n",
       "    <tr>\n",
       "      <th>std</th>\n",
       "      <td>10430.181058</td>\n",
       "      <td>435.717809</td>\n",
       "      <td>524.854432</td>\n",
       "      <td>213.960987</td>\n",
       "      <td>39.504255</td>\n",
       "      <td>1.112699</td>\n",
       "      <td>77511.272784</td>\n",
       "    </tr>\n",
       "    <tr>\n",
       "      <th>min</th>\n",
       "      <td>1300.000000</td>\n",
       "      <td>0.000000</td>\n",
       "      <td>334.000000</td>\n",
       "      <td>0.000000</td>\n",
       "      <td>0.000000</td>\n",
       "      <td>1.000000</td>\n",
       "      <td>34900.000000</td>\n",
       "    </tr>\n",
       "    <tr>\n",
       "      <th>25%</th>\n",
       "      <td>7588.500000</td>\n",
       "      <td>796.000000</td>\n",
       "      <td>1124.250000</td>\n",
       "      <td>336.000000</td>\n",
       "      <td>0.000000</td>\n",
       "      <td>5.000000</td>\n",
       "      <td>130000.000000</td>\n",
       "    </tr>\n",
       "    <tr>\n",
       "      <th>50%</th>\n",
       "      <td>9501.500000</td>\n",
       "      <td>992.000000</td>\n",
       "      <td>1461.500000</td>\n",
       "      <td>480.000000</td>\n",
       "      <td>0.000000</td>\n",
       "      <td>5.000000</td>\n",
       "      <td>163250.000000</td>\n",
       "    </tr>\n",
       "    <tr>\n",
       "      <th>75%</th>\n",
       "      <td>11613.500000</td>\n",
       "      <td>1295.250000</td>\n",
       "      <td>1775.750000</td>\n",
       "      <td>576.000000</td>\n",
       "      <td>0.000000</td>\n",
       "      <td>6.000000</td>\n",
       "      <td>215000.000000</td>\n",
       "    </tr>\n",
       "    <tr>\n",
       "      <th>max</th>\n",
       "      <td>215245.000000</td>\n",
       "      <td>6110.000000</td>\n",
       "      <td>5642.000000</td>\n",
       "      <td>1418.000000</td>\n",
       "      <td>738.000000</td>\n",
       "      <td>9.000000</td>\n",
       "      <td>755000.000000</td>\n",
       "    </tr>\n",
       "  </tbody>\n",
       "</table>\n",
       "</div>"
      ],
      "text/plain": [
       "             LotArea  TotalBsmtSF    GrLivArea   GarageArea     PoolArea  \\\n",
       "count    1314.000000  1314.000000  1314.000000  1314.000000  1314.000000   \n",
       "mean    10622.104262  1058.311263  1512.900304   473.480213     2.643075   \n",
       "std     10430.181058   435.717809   524.854432   213.960987    39.504255   \n",
       "min      1300.000000     0.000000   334.000000     0.000000     0.000000   \n",
       "25%      7588.500000   796.000000  1124.250000   336.000000     0.000000   \n",
       "50%      9501.500000   992.000000  1461.500000   480.000000     0.000000   \n",
       "75%     11613.500000  1295.250000  1775.750000   576.000000     0.000000   \n",
       "max    215245.000000  6110.000000  5642.000000  1418.000000   738.000000   \n",
       "\n",
       "       OverallCond      SalePrice  \n",
       "count  1314.000000    1314.000000  \n",
       "mean      5.582192  180795.504566  \n",
       "std       1.112699   77511.272784  \n",
       "min       1.000000   34900.000000  \n",
       "25%       5.000000  130000.000000  \n",
       "50%       5.000000  163250.000000  \n",
       "75%       6.000000  215000.000000  \n",
       "max       9.000000  755000.000000  "
      ]
     },
     "execution_count": 5,
     "metadata": {},
     "output_type": "execute_result"
    }
   ],
   "source": [
    "df.describe()"
   ]
  },
  {
   "cell_type": "markdown",
   "metadata": {},
   "source": [
    "### **Feature Scaling and One-Hot Encoding**"
   ]
  },
  {
   "cell_type": "markdown",
   "metadata": {},
   "source": [
    "You must have noticed that some features `(such as Utilities)` are not continuous values.\n",
    "  \n",
    "These features contain values indicating different categories and must somehow be converted to numbers so that the computer can understand it. `(Computers only understand numbers and not strings)`\n",
    "  \n",
    "These features are called categorical features. We can represent these features as a `One-Hot Representation`\n",
    "  \n",
    "  \n",
    "You must have also noticed that all the other features, each are in a different scale. This can be detremental to the performance of our linear regression model and so we normalize them so that all of them are in the range $[0,1]$"
   ]
  },
  {
   "cell_type": "markdown",
   "metadata": {},
   "source": [
    "> NOTE: When you are doing feature scaling, store the min/max which you will use to normalize somewhere. This is then to be used at testing time. Try to think why are doing this?"
   ]
  },
  {
   "cell_type": "code",
   "execution_count": 6,
   "metadata": {},
   "outputs": [
    {
     "data": {
      "text/html": [
       "<div>\n",
       "<style scoped>\n",
       "    .dataframe tbody tr th:only-of-type {\n",
       "        vertical-align: middle;\n",
       "    }\n",
       "\n",
       "    .dataframe tbody tr th {\n",
       "        vertical-align: top;\n",
       "    }\n",
       "\n",
       "    .dataframe thead th {\n",
       "        text-align: right;\n",
       "    }\n",
       "</style>\n",
       "<table border=\"1\" class=\"dataframe\">\n",
       "  <thead>\n",
       "    <tr style=\"text-align: right;\">\n",
       "      <th></th>\n",
       "      <th>LotArea</th>\n",
       "      <th>TotalBsmtSF</th>\n",
       "      <th>GrLivArea</th>\n",
       "      <th>GarageArea</th>\n",
       "      <th>PoolArea</th>\n",
       "      <th>OverallCond</th>\n",
       "      <th>SalePrice</th>\n",
       "      <th>Utilities_AllPub</th>\n",
       "      <th>Utilities_NoSeWa</th>\n",
       "    </tr>\n",
       "  </thead>\n",
       "  <tbody>\n",
       "    <tr>\n",
       "      <th>0</th>\n",
       "      <td>11553.0</td>\n",
       "      <td>1051.0</td>\n",
       "      <td>1159.0</td>\n",
       "      <td>336.0</td>\n",
       "      <td>0.0</td>\n",
       "      <td>5.0</td>\n",
       "      <td>158000.0</td>\n",
       "      <td>1.0</td>\n",
       "      <td>0.0</td>\n",
       "    </tr>\n",
       "    <tr>\n",
       "      <th>1</th>\n",
       "      <td>8400.0</td>\n",
       "      <td>1052.0</td>\n",
       "      <td>1052.0</td>\n",
       "      <td>288.0</td>\n",
       "      <td>0.0</td>\n",
       "      <td>5.0</td>\n",
       "      <td>138500.0</td>\n",
       "      <td>1.0</td>\n",
       "      <td>0.0</td>\n",
       "    </tr>\n",
       "    <tr>\n",
       "      <th>2</th>\n",
       "      <td>8960.0</td>\n",
       "      <td>1008.0</td>\n",
       "      <td>1028.0</td>\n",
       "      <td>360.0</td>\n",
       "      <td>0.0</td>\n",
       "      <td>6.0</td>\n",
       "      <td>115000.0</td>\n",
       "      <td>1.0</td>\n",
       "      <td>0.0</td>\n",
       "    </tr>\n",
       "    <tr>\n",
       "      <th>3</th>\n",
       "      <td>11100.0</td>\n",
       "      <td>0.0</td>\n",
       "      <td>930.0</td>\n",
       "      <td>308.0</td>\n",
       "      <td>0.0</td>\n",
       "      <td>7.0</td>\n",
       "      <td>84900.0</td>\n",
       "      <td>1.0</td>\n",
       "      <td>0.0</td>\n",
       "    </tr>\n",
       "    <tr>\n",
       "      <th>4</th>\n",
       "      <td>15593.0</td>\n",
       "      <td>1304.0</td>\n",
       "      <td>2287.0</td>\n",
       "      <td>667.0</td>\n",
       "      <td>0.0</td>\n",
       "      <td>4.0</td>\n",
       "      <td>225000.0</td>\n",
       "      <td>1.0</td>\n",
       "      <td>0.0</td>\n",
       "    </tr>\n",
       "  </tbody>\n",
       "</table>\n",
       "</div>"
      ],
      "text/plain": [
       "   LotArea  TotalBsmtSF  GrLivArea  GarageArea  PoolArea  OverallCond  \\\n",
       "0  11553.0       1051.0     1159.0       336.0       0.0          5.0   \n",
       "1   8400.0       1052.0     1052.0       288.0       0.0          5.0   \n",
       "2   8960.0       1008.0     1028.0       360.0       0.0          6.0   \n",
       "3  11100.0          0.0      930.0       308.0       0.0          7.0   \n",
       "4  15593.0       1304.0     2287.0       667.0       0.0          4.0   \n",
       "\n",
       "   SalePrice  Utilities_AllPub  Utilities_NoSeWa  \n",
       "0   158000.0               1.0               0.0  \n",
       "1   138500.0               1.0               0.0  \n",
       "2   115000.0               1.0               0.0  \n",
       "3    84900.0               1.0               0.0  \n",
       "4   225000.0               1.0               0.0  "
      ]
     },
     "execution_count": 6,
     "metadata": {},
     "output_type": "execute_result"
    }
   ],
   "source": [
    "# Do the one-hot encoding here\n",
    "df = pd.get_dummies(df, columns=['Utilities']).astype(float)\n",
    "df.head()"
   ]
  },
  {
   "cell_type": "code",
   "execution_count": 7,
   "metadata": {},
   "outputs": [
    {
     "data": {
      "text/html": [
       "<div>\n",
       "<style scoped>\n",
       "    .dataframe tbody tr th:only-of-type {\n",
       "        vertical-align: middle;\n",
       "    }\n",
       "\n",
       "    .dataframe tbody tr th {\n",
       "        vertical-align: top;\n",
       "    }\n",
       "\n",
       "    .dataframe thead th {\n",
       "        text-align: right;\n",
       "    }\n",
       "</style>\n",
       "<table border=\"1\" class=\"dataframe\">\n",
       "  <thead>\n",
       "    <tr style=\"text-align: right;\">\n",
       "      <th></th>\n",
       "      <th>LotArea</th>\n",
       "      <th>TotalBsmtSF</th>\n",
       "      <th>GrLivArea</th>\n",
       "      <th>GarageArea</th>\n",
       "      <th>PoolArea</th>\n",
       "      <th>OverallCond</th>\n",
       "      <th>SalePrice</th>\n",
       "      <th>Utilities_AllPub</th>\n",
       "      <th>Utilities_NoSeWa</th>\n",
       "    </tr>\n",
       "  </thead>\n",
       "  <tbody>\n",
       "    <tr>\n",
       "      <th>0</th>\n",
       "      <td>0.047924</td>\n",
       "      <td>0.172013</td>\n",
       "      <td>0.155426</td>\n",
       "      <td>0.236953</td>\n",
       "      <td>0.0</td>\n",
       "      <td>0.500</td>\n",
       "      <td>0.170948</td>\n",
       "      <td>1.0</td>\n",
       "      <td>0.0</td>\n",
       "    </tr>\n",
       "    <tr>\n",
       "      <th>1</th>\n",
       "      <td>0.033186</td>\n",
       "      <td>0.172177</td>\n",
       "      <td>0.135268</td>\n",
       "      <td>0.203103</td>\n",
       "      <td>0.0</td>\n",
       "      <td>0.500</td>\n",
       "      <td>0.143869</td>\n",
       "      <td>1.0</td>\n",
       "      <td>0.0</td>\n",
       "    </tr>\n",
       "    <tr>\n",
       "      <th>2</th>\n",
       "      <td>0.035804</td>\n",
       "      <td>0.164975</td>\n",
       "      <td>0.130746</td>\n",
       "      <td>0.253879</td>\n",
       "      <td>0.0</td>\n",
       "      <td>0.625</td>\n",
       "      <td>0.111235</td>\n",
       "      <td>1.0</td>\n",
       "      <td>0.0</td>\n",
       "    </tr>\n",
       "    <tr>\n",
       "      <th>3</th>\n",
       "      <td>0.045806</td>\n",
       "      <td>0.000000</td>\n",
       "      <td>0.112283</td>\n",
       "      <td>0.217207</td>\n",
       "      <td>0.0</td>\n",
       "      <td>0.750</td>\n",
       "      <td>0.069435</td>\n",
       "      <td>1.0</td>\n",
       "      <td>0.0</td>\n",
       "    </tr>\n",
       "    <tr>\n",
       "      <th>4</th>\n",
       "      <td>0.066807</td>\n",
       "      <td>0.213421</td>\n",
       "      <td>0.367935</td>\n",
       "      <td>0.470381</td>\n",
       "      <td>0.0</td>\n",
       "      <td>0.375</td>\n",
       "      <td>0.263991</td>\n",
       "      <td>1.0</td>\n",
       "      <td>0.0</td>\n",
       "    </tr>\n",
       "  </tbody>\n",
       "</table>\n",
       "</div>"
      ],
      "text/plain": [
       "    LotArea  TotalBsmtSF  GrLivArea  GarageArea  PoolArea  OverallCond  \\\n",
       "0  0.047924     0.172013   0.155426    0.236953       0.0        0.500   \n",
       "1  0.033186     0.172177   0.135268    0.203103       0.0        0.500   \n",
       "2  0.035804     0.164975   0.130746    0.253879       0.0        0.625   \n",
       "3  0.045806     0.000000   0.112283    0.217207       0.0        0.750   \n",
       "4  0.066807     0.213421   0.367935    0.470381       0.0        0.375   \n",
       "\n",
       "   SalePrice  Utilities_AllPub  Utilities_NoSeWa  \n",
       "0   0.170948               1.0               0.0  \n",
       "1   0.143869               1.0               0.0  \n",
       "2   0.111235               1.0               0.0  \n",
       "3   0.069435               1.0               0.0  \n",
       "4   0.263991               1.0               0.0  "
      ]
     },
     "execution_count": 7,
     "metadata": {},
     "output_type": "execute_result"
    }
   ],
   "source": [
    "# Do the feature scaling here\n",
    "\n",
    "# The output here is 'SalePrice'. Since the scale of the output is too large, we will scale is down to [0, 1].\n",
    "# When we train our linear regression model, it will learn to predict outputs in this same range ([0, 1]).\n",
    "# But what we need is the actual prediction of the SalePrice. Which is why we will scale our prediction back up to the original scale\n",
    "\n",
    "\n",
    "# Store the min/max values to be used at test time\n",
    "df_min = df.min()\n",
    "df_max = df.max()\n",
    "\n",
    "# Scale the features\n",
    "df = (df - df_min) / (df_max - df_min)\n",
    "\n",
    "df.head()"
   ]
  },
  {
   "cell_type": "markdown",
   "metadata": {},
   "source": [
    "### **Conversion to NumPy**"
   ]
  },
  {
   "cell_type": "markdown",
   "metadata": {},
   "source": [
    "Ok so now that we have all preprocessed all the data, we need to convert it to numpy for our linear regression model\n",
    "  \n",
    "Assume that our dataset has a total of $N$ datapoints. Each datapoint having a total of $D$ features (after one-hot encoding), we want our numpy array to be of shape $(N, D)$"
   ]
  },
  {
   "cell_type": "markdown",
   "metadata": {},
   "source": [
    "In our task, we have to predict the `SalePrice`. We will need 2 numpy arrays $(X, Y)$. These represent the features and targets respectively"
   ]
  },
  {
   "cell_type": "code",
   "execution_count": 8,
   "metadata": {},
   "outputs": [],
   "source": [
    "# Convert to numpy array\n",
    "\n",
    "x = df.copy().drop('SalePrice', axis=1).to_numpy() # (N, D)\n",
    "y = df.copy()['SalePrice'].to_numpy().reshape(-1, 1) # (N, 1)"
   ]
  },
  {
   "cell_type": "markdown",
   "metadata": {},
   "source": [
    "## Linear Regression formulation\n",
    "  \n",
    "We now have our data in the form we need. Let's try to create a linear model to get our initial (Really bad) prediction\n"
   ]
  },
  {
   "cell_type": "markdown",
   "metadata": {},
   "source": [
    "Let's say a single datapoint in our dataset consists of 3 features $(x_1, x_2, x_3)$, we can pose it as a linear equation as follows:\n",
    "$$ y = w_1x_1 + w_2x_2 + w_3x_3 + b $$\n",
    "Here we have to learn 4 parameters $(w_1, w_2, w_3, b)$\n",
    "  \n",
    "  \n",
    "Now how do we extend this to multiple datapoints?  \n",
    "  \n",
    "  \n",
    "Try to answer the following:\n",
    "- How many parameters will we have to learn in the case of our dataset? (Don't forget the bias term)\n",
    "- Form a linear equation for our dataset. We need just a single matrix equation which correctly represents all the datapoints in our dataset\n",
    "- Implement the linear equation as an equation using NumPy arrays (Start by randomly initializing the weights from a standard normal distribution)"
   ]
  },
  {
   "cell_type": "markdown",
   "metadata": {},
   "source": [
    "**Answers**"
   ]
  },
  {
   "cell_type": "markdown",
   "metadata": {},
   "source": [
    "1. We will have to learn a total of **9** parameters in the case of our dataset.  \n",
    "We have **8** features (After One-Hot encoding, `Utitiles` is counted as 2 features. `SalePrice` is not a feature but a target) and **1** bias term  "
   ]
  },
  {
   "cell_type": "markdown",
   "metadata": {},
   "source": [
    "2. For linear formulation, if we have `N` datapoints, each having `D` features, we have a total of `N` linear equations.\n",
    "\n",
    "$$y_1 = w_1x_1^{(1)} + w_2x_{(2)}^1 \\ldots w_Dx_D^{(1)} + b$$\n",
    "$$y_2 = w_1x_1^{(2)} + w_2x_2^{(2)} \\ldots w_Dx_D^{(2)} + b$$\n",
    "$$\\vdots$$\n",
    "$$y_N = w_1x_1^{(N)} + w_2x_2^{(N)} \\ldots w_Dx_D^{(N)} + b$$\n",
    "\n",
    "We can represent this in matrix form as follows:\n",
    "\n",
    "$$\\begin{bmatrix}y_1 \\\\ y_2 \\\\ \\vdots \\\\ y_N\\end{bmatrix} = \\begin{bmatrix}x_1^{(1)} & x_2^{(1)} & \\ldots & x_D^{(1)} \\\\ x_1^{(2)} & x_2^{(2)} & \\ldots & x_D^{(2)} \\\\ \\vdots & \\vdots & \\ddots & \\vdots \\\\ x_1^{(N)} & x_2^{(N)} & \\ldots & x_D^{(N)} \\end{bmatrix} \\begin{bmatrix}w_1 \\\\ w_2 \\\\ \\vdots \\\\ w_D \\end{bmatrix} + \\begin{bmatrix} b \\\\ b \\\\ \\vdots \\\\ b \\end{bmatrix}$$\n",
    "\n",
    "So, if we can represent our dataset(only features) as a matrix $X$ of shape $(N, D)$, our targets as a matrix $Y$ of shape $(N, 1)$ and our weights as a matrix $W$ of shape $(1, D)$, we have our linear equation as: \n",
    "\n",
    "$$Y = XW^T + B$$"
   ]
  },
  {
   "cell_type": "markdown",
   "metadata": {},
   "source": [
    "3. Implementation of our above formulation using random weights (and bias) in NumPy"
   ]
  },
  {
   "cell_type": "code",
   "execution_count": 9,
   "metadata": {},
   "outputs": [],
   "source": [
    "# Let's set a seed so that we can reproduce our results\n",
    "np.random.seed(42)\n",
    "\n",
    "w = np.random.randn(1, x.shape[1]) # (1, 8)\n",
    "b = np.random.randn(1, 1) # (1, 1)\n",
    "\n",
    "# x.shape = (1460, 8)\n",
    "# y.shape = (1460, 1)\n",
    "\n",
    "y_pred = x @ w.T + b # (1460, 1)"
   ]
  },
  {
   "cell_type": "markdown",
   "metadata": {},
   "source": [
    "How well does our model perform? Try comparing our predictions with the actual values"
   ]
  },
  {
   "cell_type": "code",
   "execution_count": 10,
   "metadata": {},
   "outputs": [
    {
     "name": "stdout",
     "output_type": "stream",
     "text": [
      "Predicted SalePrice: \t [1193685, 1074239, 1328713, 1209386, 1158724]\n",
      "Actual SalePrice: \t [159950, 177000, 240000, 129500, 179540]\n"
     ]
    }
   ],
   "source": [
    "# Recall that during our preprocessing step, we scaled the outputs to be in the range [0, 1].\n",
    "# We need to scale our predictions back to the original scale so that we can compare it with the actual SalePrice\n",
    "\n",
    "y_pred = y_pred * (df_max['SalePrice'] - df_min['SalePrice']) + df_min['SalePrice']\n",
    "y_true = y * (df_max['SalePrice'] - df_min['SalePrice']) + df_min['SalePrice']\n",
    "\n",
    "# For the sake of simplicity, we will take 5 random samples from the dataset, round them to the nearest integer and compare their values\n",
    "\n",
    "idx = np.random.randint(0, x.shape[0], 5)\n",
    "y_pred_sample = y_pred[idx].round().astype(int)\n",
    "y_true_sample = y_true[idx].round().astype(int)\n",
    "\n",
    "print('Predicted SalePrice: \\t', y_pred_sample.squeeze().tolist())\n",
    "print('Actual SalePrice: \\t', y_true_sample.squeeze().tolist())\n"
   ]
  },
  {
   "cell_type": "markdown",
   "metadata": {},
   "source": [
    "As we can see, our model performs really horribly. The values are way off. We need to improve our model. We will do this in the next section"
   ]
  },
  {
   "cell_type": "markdown",
   "metadata": {},
   "source": [
    "### **Learning weights using gradient descent**"
   ]
  },
  {
   "cell_type": "markdown",
   "metadata": {},
   "source": [
    "So these results are really horrible. We need to somehow update our weights so that it correclty represents our data. How do we do that?"
   ]
  },
  {
   "cell_type": "markdown",
   "metadata": {},
   "source": [
    "We must do the following:\n",
    "- We need some numerical indication for our performance, for this we define a Loss Function ( $\\mathscr{L}$ )\n",
    "- Find the gradients of the `Loss` with respect to the `Weights`\n",
    "- Update the weights in accordance to the gradients: $W = W - \\alpha\\nabla_W \\mathscr{L}$"
   ]
  },
  {
   "cell_type": "markdown",
   "metadata": {},
   "source": [
    "Lets define the loss function:\n",
    "- We will use the MSE loss since it is a regression task. (Specify the assumptions we make while doing so as taught in the class).\n",
    "- Implement this loss as a function. (Use numpy as much as possible)"
   ]
  },
  {
   "cell_type": "markdown",
   "metadata": {},
   "source": [
    "The `MSE Loss` is defined as $\\mathscr{L} = \\frac{1}{2N} \\sum_{i=1}^{N} (\\hat{y}^{(i)} - y^{(i)})^2$"
   ]
  },
  {
   "cell_type": "code",
   "execution_count": 11,
   "metadata": {},
   "outputs": [],
   "source": [
    "def mse_loss_fn(y_true, y_pred):\n",
    "    return 0.5 * np.mean((y_true - y_pred)**2)"
   ]
  },
  {
   "cell_type": "markdown",
   "metadata": {},
   "source": [
    "Calculate the gradients of the loss with respect to the weights (and biases). First write the equations down on a piece of paper, then proceed to implement it"
   ]
  },
  {
   "cell_type": "markdown",
   "metadata": {},
   "source": [
    "Gradients of the Loss function with respect to the weights (and biases) are given by:\n",
    "\n",
    "$$\\nabla_W \\mathscr{L} = \\frac{1}{N} (XW^T + B - Y)^TX$$\n",
    "$$\\nabla_B \\mathscr{L} = \\frac{1}{N} \\sum_{i=1}^{N} (XW^T + B - Y)$$  \n",
    "\n",
    "This can also be written as:\n",
    "\n",
    "$$\\nabla_W \\mathscr{L} = \\frac{1}{N} (\\hat{Y} - Y)^TX$$\n",
    "$$\\nabla_B \\mathscr{L} = \\frac{1}{N} \\sum_{i=1}^{N} (\\hat{Y} - Y)$$  \n",
    "\n",
    "where $\\hat{Y} = XW^T + B$"
   ]
  },
  {
   "cell_type": "markdown",
   "metadata": {},
   "source": [
    "How did we get this? Notice how the equations are matrices. We use something called `Jacobians` to calculate the gradients. You can read more about it in the resources section:\n",
    "- [Matrix Calculus](https://explained.ai/matrix-calculus/index.html)\n",
    "- [Matrix Cookbook](https://www.math.uwaterloo.ca/~hwolkowi/matrixcookbook.pdf)\n",
    "\n",
    "\n",
    "If you don't want to use `Jacobians`,\n",
    "- Calculate the gradients of the loss function with respect to each weight (and bias) individually. You have done this in class\n",
    "- You will get a multiple equations. Combine them in the form of matrices\n",
    "- Make sure that the dimension of the gradients is the same as that of the weights\n"
   ]
  },
  {
   "cell_type": "code",
   "execution_count": 20,
   "metadata": {},
   "outputs": [],
   "source": [
    "def get_gradients(y_true, y_pred, W, b, X):\n",
    "    \"\"\"\n",
    "    Calculates the gradients for the MSE loss function with respect to the weights (and bias)\n",
    "\n",
    "    Args:\n",
    "        y_true: The true values of the target variable (SalePrice in our case)\n",
    "        y_pred: The predicted values of the target variable using our model (W*X + b)\n",
    "\n",
    "        W: The weights of the model\n",
    "        b: The bias of the model\n",
    "        X: The input features\n",
    "\n",
    "    Returns:\n",
    "        dW: The gradients of the loss function with respect to the weights\n",
    "        db: The gradients of the loss function with respect to the bias\n",
    "    \"\"\"\n",
    "    \n",
    "    dw = (y_pred - y_true).T @ X / X.shape[0]\n",
    "    db = np.mean(y_pred - y_true)\n",
    "\n",
    "    return dw, db"
   ]
  },
  {
   "cell_type": "markdown",
   "metadata": {},
   "source": [
    "Update the weights using the gradients"
   ]
  },
  {
   "cell_type": "code",
   "execution_count": 21,
   "metadata": {},
   "outputs": [],
   "source": [
    "def update(weights, bias, gradients_weights, gradients_bias, lr):\n",
    "    \"\"\"\n",
    "    Updates the weights (and bias) using the gradients and the learning rate\n",
    "\n",
    "    Args:\n",
    "        weights: The current weights of the model\n",
    "        bias: The current bias of the model\n",
    "\n",
    "        gradients_weights: The gradients of the loss function with respect to the weights\n",
    "        gradients_bias: The gradients of the loss function with respect to the bias\n",
    "\n",
    "        lr: The learning rate\n",
    "\n",
    "    Returns:\n",
    "        weights_new: The updated weights of the model\n",
    "        bias_new: The updated bias of the model\n",
    "    \"\"\"\n",
    "\n",
    "    weights_new = weights - lr * gradients_weights\n",
    "    bias_new = bias - lr * gradients_bias\n",
    "\n",
    "    return weights_new, bias_new"
   ]
  },
  {
   "cell_type": "markdown",
   "metadata": {},
   "source": [
    "Put all these together to find the loss value, its gradient and finally updating the weights in a loop. Feel free to play around with different learning rates and epochs\n",
    "  \n",
    "> NOTE: The code in comments are just meant to be used as a guide. You will have to do changes based on your code"
   ]
  },
  {
   "cell_type": "code",
   "execution_count": 22,
   "metadata": {},
   "outputs": [],
   "source": [
    "NUM_EPOCHS = 1_000\n",
    "LEARNING_RATE = 0.1\n",
    "\n",
    "losses = []\n",
    "\n",
    "for epoch in range(NUM_EPOCHS):\n",
    "    y_pred = x @ w.T + b\n",
    "    loss = mse_loss_fn(y, y_pred)\n",
    "    losses.append(loss)\n",
    "    dw, db = get_gradients(y, y_pred, w, b, x)\n",
    "    w, b = update(w, b, dw, db, LEARNING_RATE)"
   ]
  },
  {
   "cell_type": "code",
   "execution_count": 23,
   "metadata": {},
   "outputs": [],
   "source": [
    "y_pred = x @ w.T + b\n",
    "y_pred_scaled = y_pred * (df_max['SalePrice'] - df_min['SalePrice']) + df_min['SalePrice']\n",
    "y_true_scaled = y * (df_max['SalePrice'] - df_min['SalePrice']) + df_min['SalePrice']\n"
   ]
  },
  {
   "cell_type": "code",
   "execution_count": 24,
   "metadata": {},
   "outputs": [
    {
     "name": "stdout",
     "output_type": "stream",
     "text": [
      "Predicted SalePrice: \t [167831, 159075, 228728, 201759, 169889]\n",
      "Actual SalePrice: \t [159950, 177000, 240000, 129500, 179540]\n",
      "\n",
      "Final loss: \t\t 0.0029198333119779805\n"
     ]
    }
   ],
   "source": [
    "print('Predicted SalePrice: \\t', y_pred_scaled[idx].round().astype(int).squeeze().tolist())\n",
    "print('Actual SalePrice: \\t', y_true_scaled[idx].round().astype(int).squeeze().tolist())\n",
    "print('\\nFinal loss: \\t\\t', losses[-1])"
   ]
  },
  {
   "cell_type": "markdown",
   "metadata": {},
   "source": [
    "Much better! Our model is able to learn specific patterns in the data. These patterns are captured by the weights (and biases)"
   ]
  },
  {
   "cell_type": "markdown",
   "metadata": {},
   "source": [
    "Now use matplotlib to plot the loss graph"
   ]
  },
  {
   "cell_type": "code",
   "execution_count": 25,
   "metadata": {},
   "outputs": [
    {
     "data": {
      "image/png": "[encoded data removed]",
      "text/plain": [
       "<Figure size 640x480 with 1 Axes>"
      ]
     },
     "metadata": {},
     "output_type": "display_data"
    }
   ],
   "source": [
    "plt.plot(losses)\n",
    "plt.xlabel('Epochs')\n",
    "plt.ylabel('Loss')\n",
    "plt.show()"
   ]
  },
  {
   "cell_type": "markdown",
   "metadata": {},
   "source": [
    "### **Testing with test data**"
   ]
  },
  {
   "cell_type": "markdown",
   "metadata": {},
   "source": [
    "Load and apply all the preprocessing steps used in the training data for the testing data as well. Remember to use the **SAME** min/max values which you used for the training set and not recalculate them from the test set. Also mention why we are doing this."
   ]
  },
  {
   "cell_type": "markdown",
   "metadata": {},
   "source": [
    "**Answer**\n",
    "- We are using the same min/max values for the test set as we used for the training set because we want to normalize the test set in the same way as we normalized the training set.\n",
    "- This is because we want to test our model on the same distribution as the training set.\n",
    "- If we use different min/max values, we will be testing our model on a different distribution than the training set and our model will not perform well on the test set\n",
    "- Let's also think about a scenario where we have just a single datapoint in our test set. What will happen if we calculate the min/max values from this single datapoint?\n",
    "- We will get a divide by zero error. This is because the min/max values will be the same and so the denominator will be zero"
   ]
  },
  {
   "cell_type": "code",
   "execution_count": 26,
   "metadata": {},
   "outputs": [
    {
     "data": {
      "text/html": [
       "<div>\n",
       "<style scoped>\n",
       "    .dataframe tbody tr th:only-of-type {\n",
       "        vertical-align: middle;\n",
       "    }\n",
       "\n",
       "    .dataframe tbody tr th {\n",
       "        vertical-align: top;\n",
       "    }\n",
       "\n",
       "    .dataframe thead th {\n",
       "        text-align: right;\n",
       "    }\n",
       "</style>\n",
       "<table border=\"1\" class=\"dataframe\">\n",
       "  <thead>\n",
       "    <tr style=\"text-align: right;\">\n",
       "      <th></th>\n",
       "      <th>LotArea</th>\n",
       "      <th>TotalBsmtSF</th>\n",
       "      <th>GrLivArea</th>\n",
       "      <th>GarageArea</th>\n",
       "      <th>PoolArea</th>\n",
       "      <th>OverallCond</th>\n",
       "      <th>SalePrice</th>\n",
       "      <th>Utilities_AllPub</th>\n",
       "      <th>Utilities_NoSeWa</th>\n",
       "    </tr>\n",
       "  </thead>\n",
       "  <tbody>\n",
       "    <tr>\n",
       "      <th>count</th>\n",
       "      <td>146.000000</td>\n",
       "      <td>146.000000</td>\n",
       "      <td>146.000000</td>\n",
       "      <td>146.000000</td>\n",
       "      <td>146.000000</td>\n",
       "      <td>146.000000</td>\n",
       "      <td>146.000000</td>\n",
       "      <td>146.0</td>\n",
       "      <td>146.0</td>\n",
       "    </tr>\n",
       "    <tr>\n",
       "      <th>mean</th>\n",
       "      <td>9569.342466</td>\n",
       "      <td>1049.493151</td>\n",
       "      <td>1538.534247</td>\n",
       "      <td>468.479452</td>\n",
       "      <td>3.801370</td>\n",
       "      <td>5.513699</td>\n",
       "      <td>182052.417808</td>\n",
       "      <td>1.0</td>\n",
       "      <td>0.0</td>\n",
       "    </tr>\n",
       "    <tr>\n",
       "      <th>std</th>\n",
       "      <td>4041.729289</td>\n",
       "      <td>466.234413</td>\n",
       "      <td>532.345664</td>\n",
       "      <td>213.073412</td>\n",
       "      <td>45.932127</td>\n",
       "      <td>1.115634</td>\n",
       "      <td>95383.188980</td>\n",
       "      <td>0.0</td>\n",
       "      <td>0.0</td>\n",
       "    </tr>\n",
       "    <tr>\n",
       "      <th>min</th>\n",
       "      <td>1680.000000</td>\n",
       "      <td>0.000000</td>\n",
       "      <td>747.000000</td>\n",
       "      <td>0.000000</td>\n",
       "      <td>0.000000</td>\n",
       "      <td>2.000000</td>\n",
       "      <td>60000.000000</td>\n",
       "      <td>1.0</td>\n",
       "      <td>0.0</td>\n",
       "    </tr>\n",
       "    <tr>\n",
       "      <th>25%</th>\n",
       "      <td>7308.750000</td>\n",
       "      <td>793.250000</td>\n",
       "      <td>1201.000000</td>\n",
       "      <td>305.750000</td>\n",
       "      <td>0.000000</td>\n",
       "      <td>5.000000</td>\n",
       "      <td>126250.000000</td>\n",
       "      <td>1.0</td>\n",
       "      <td>0.0</td>\n",
       "    </tr>\n",
       "    <tr>\n",
       "      <th>50%</th>\n",
       "      <td>9245.500000</td>\n",
       "      <td>985.000000</td>\n",
       "      <td>1493.000000</td>\n",
       "      <td>471.000000</td>\n",
       "      <td>0.000000</td>\n",
       "      <td>5.000000</td>\n",
       "      <td>161000.000000</td>\n",
       "      <td>1.0</td>\n",
       "      <td>0.0</td>\n",
       "    </tr>\n",
       "    <tr>\n",
       "      <th>75%</th>\n",
       "      <td>11463.250000</td>\n",
       "      <td>1361.750000</td>\n",
       "      <td>1792.000000</td>\n",
       "      <td>576.000000</td>\n",
       "      <td>0.000000</td>\n",
       "      <td>6.000000</td>\n",
       "      <td>202623.750000</td>\n",
       "      <td>1.0</td>\n",
       "      <td>0.0</td>\n",
       "    </tr>\n",
       "    <tr>\n",
       "      <th>max</th>\n",
       "      <td>35760.000000</td>\n",
       "      <td>3094.000000</td>\n",
       "      <td>4476.000000</td>\n",
       "      <td>1043.000000</td>\n",
       "      <td>555.000000</td>\n",
       "      <td>9.000000</td>\n",
       "      <td>745000.000000</td>\n",
       "      <td>1.0</td>\n",
       "      <td>0.0</td>\n",
       "    </tr>\n",
       "  </tbody>\n",
       "</table>\n",
       "</div>"
      ],
      "text/plain": [
       "            LotArea  TotalBsmtSF    GrLivArea   GarageArea    PoolArea  \\\n",
       "count    146.000000   146.000000   146.000000   146.000000  146.000000   \n",
       "mean    9569.342466  1049.493151  1538.534247   468.479452    3.801370   \n",
       "std     4041.729289   466.234413   532.345664   213.073412   45.932127   \n",
       "min     1680.000000     0.000000   747.000000     0.000000    0.000000   \n",
       "25%     7308.750000   793.250000  1201.000000   305.750000    0.000000   \n",
       "50%     9245.500000   985.000000  1493.000000   471.000000    0.000000   \n",
       "75%    11463.250000  1361.750000  1792.000000   576.000000    0.000000   \n",
       "max    35760.000000  3094.000000  4476.000000  1043.000000  555.000000   \n",
       "\n",
       "       OverallCond      SalePrice  Utilities_AllPub  Utilities_NoSeWa  \n",
       "count   146.000000     146.000000             146.0             146.0  \n",
       "mean      5.513699  182052.417808               1.0               0.0  \n",
       "std       1.115634   95383.188980               0.0               0.0  \n",
       "min       2.000000   60000.000000               1.0               0.0  \n",
       "25%       5.000000  126250.000000               1.0               0.0  \n",
       "50%       5.000000  161000.000000               1.0               0.0  \n",
       "75%       6.000000  202623.750000               1.0               0.0  \n",
       "max       9.000000  745000.000000               1.0               0.0  "
      ]
     },
     "execution_count": 26,
     "metadata": {},
     "output_type": "execute_result"
    }
   ],
   "source": [
    "# This test case is a special one. Notice that here Utilities_AllPub has 0 standard deviation.\n",
    "# This means that the value of this feature is the same for all the samples in the dataset.\n",
    "# This should not be an issue for our model at test time, but pd.get_dummies() will create only one column for this feature.\n",
    "# This will cause an issue at test time since the number of features in the test set will be different from the number of features in the training set.\n",
    "# To go around this issue, we will manually add a column (Utilities_NoSeWa) with all zeros for this feature in the test set.\n",
    "\n",
    "df_test = pd.read_csv('test_processed_splitted.csv')\n",
    "df_test = pd.get_dummies(df_test, columns=['Utilities']).astype(float)\n",
    "\n",
    "# Let's find all the columns that are missing in the test set\n",
    "missing_cols = set(df.columns) - set(df_test.columns)\n",
    "\n",
    "# Add these columns to the test set with all zeros\n",
    "for col in missing_cols:\n",
    "    df_test[col] = 0\n",
    "\n",
    "df_test.describe()"
   ]
  },
  {
   "cell_type": "code",
   "execution_count": 27,
   "metadata": {},
   "outputs": [],
   "source": [
    "# Let's proceed with the rest of the preprocessing steps\n",
    "\n",
    "# Scale the features\n",
    "df_test = (df_test - df_min) / (df_max - df_min)\n",
    "\n",
    "# Convert to numpy array\n",
    "x_test = df_test.copy().drop('SalePrice', axis=1).to_numpy() # (N, D)\n",
    "y_test = df_test.copy()['SalePrice'].to_numpy().reshape(-1, 1) # (N, 1)"
   ]
  },
  {
   "cell_type": "markdown",
   "metadata": {},
   "source": [
    "Using the weights learnt above, predict the values in the test dataset. Also answer the following questions:\n",
    "- Are the predictions good?\n",
    "- What is the MSE loss for the testset\n",
    "- Is the MSE loss for testing greater or lower than training\n",
    "- Why is this the case"
   ]
  },
  {
   "cell_type": "code",
   "execution_count": 28,
   "metadata": {},
   "outputs": [],
   "source": [
    "# Make predictions\n",
    "y_pred_test = x_test @ w.T + b # (N, 1)\n",
    "loss_test = mse_loss_fn(y_pred_test, y_test)\n",
    "\n",
    "# Scale the predictions back to the original scale\n",
    "y_pred_test_scaled = y_pred_test * (df_max['SalePrice'] - df_min['SalePrice']) + df_min['SalePrice']\n",
    "y_test_scaled = y_test * (df_max['SalePrice'] - df_min['SalePrice']) + df_min['SalePrice']"
   ]
  },
  {
   "cell_type": "code",
   "execution_count": 29,
   "metadata": {},
   "outputs": [
    {
     "name": "stdout",
     "output_type": "stream",
     "text": [
      "Predicted SalePrice: \t [122276, 201379, 83920, 148472, 301182]\n",
      "Actual SalePrice: \t [121600, 196500, 85000, 170000, 410000]\n",
      "\n",
      "Test Loss: \t\t 0.005137542886225422\n"
     ]
    }
   ],
   "source": [
    "# Again for the sake of simplicity, let's take 5 random samples, round them to the nearest integer and compare their values\n",
    "\n",
    "idx = np.random.randint(0, x_test.shape[0], 5)\n",
    "y_pred_test_sample = y_pred_test_scaled[idx].round().astype(int)\n",
    "y_true_test_sample = y_test_scaled[idx].round().astype(int)\n",
    "\n",
    "print('Predicted SalePrice: \\t', y_pred_test_sample.squeeze().tolist())\n",
    "print('Actual SalePrice: \\t', y_true_test_sample.squeeze().tolist())\n",
    "print('\\nTest Loss: \\t\\t', loss_test)"
   ]
  },
  {
   "cell_type": "markdown",
   "metadata": {},
   "source": [
    "**Answers**\n",
    "- The predictions are way better than those random predictions we made earlier, but they can be made better. Feel free to play around with some parameters such as learning rate and epochs to see what happens.  \n",
    "Also try the same without feature scaling and one-hot encoding to see what happens\n",
    "- The MSE loss for the test set is greater than the training set.  \n",
    "- - This is because the model has been trained specifically to get predictions **ONLY** for the training set. It has not seen the test set before and so it is not able to generalize as well for the test set as it did for the training set.\n",
    "  - Still, the performance is pretty good. What it has learnt for the training set is pretty much the same as what it has learnt for the test set.\n",
    "  - Notice that the distribution of the test set is pretty much the same as the training set. If the distribution of the test set was different, the performance would have been much worse.\n",
    "  - This condition for the model to generalize well is called `i.i.d` or `Independent and Identically Distributed`. You would have learnt about this in your Probability and Statistics course. For those who are not familiar with this, you can read more about it [here](https://en.wikipedia.org/wiki/Independent_and_identically_distributed_random_variables)"
   ]
  }
 ],
 "metadata": {
  "kernelspec": {
   "display_name": "Python 3",
   "language": "python",
   "name": "python3"
  },
  "language_info": {
   "codemirror_mode": {
    "name": "ipython",
    "version": 3
   },
   "file_extension": ".py",
   "mimetype": "text/x-python",
   "name": "python",
   "nbconvert_exporter": "python",
   "pygments_lexer": "ipython3",
   "version": "3.8.0"
  },
  "orig_nbformat": 4
 },
 "nbformat": 4,
 "nbformat_minor": 2
}
