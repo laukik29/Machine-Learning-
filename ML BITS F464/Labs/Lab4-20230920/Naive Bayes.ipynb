{
 "cells": [
  {
   "cell_type": "markdown",
   "metadata": {},
   "source": [
    "# Naive Bayes and Decision Trees"
   ]
  },
  {
   "cell_type": "code",
   "execution_count": 1,
   "metadata": {},
   "outputs": [],
   "source": [
    "# Import the libraries\n",
    "from math import log\n",
    "\n",
    "import pandas as pd\n",
    "import numpy as np\n",
    "from matplotlib import pyplot as plt"
   ]
  },
  {
   "cell_type": "markdown",
   "metadata": {},
   "source": [
    "In this assignment we will be trying classification models, namely:\n",
    "- Naive Bayes Classification\n",
    "- Decision Trees"
   ]
  },
  {
   "cell_type": "markdown",
   "metadata": {},
   "source": [
    "# Naive Bayes Classification"
   ]
  },
  {
   "cell_type": "markdown",
   "metadata": {},
   "source": [
    "Naive Bayes is a classification technique based on Bayes' Theorem. We use Bayes' Theorem to find the probability of the target variable given the features.\n",
    "\n",
    "$$ P(Y|X) = \\frac{P(X|Y)P(Y)}{P(X)} $$\n",
    "\n",
    "where,\n",
    "- $Y$ is the target variable\n",
    "- $X$ is the feature variable\n",
    "- $P(Y|X)$ is the posterior probability of the target given features\n",
    "- $P(X|Y)$ is the likelihood which is the probability of features given the target\n",
    "- $P(Y)$ is the prior probability of the target\n",
    "- $P(X)$ is the prior probability of the features"
   ]
  },
  {
   "cell_type": "markdown",
   "metadata": {},
   "source": [
    "Here we find the `y` that maximizes the posterior probability $P(Y|X)$.  \n",
    "Notice that we can ignore the denominator $P(X)$ since it is constant for all classes.  \n",
    "\n",
    "We can then formulate our classifier as:\n",
    "\n",
    "$$ \\hat{y} = \\underset{y}{\\operatorname{argmax}} P(Y=y|X) = \\underset{y}{\\operatorname{argmax}} P(X|Y=y)P(Y=y) $$"
   ]
  },
  {
   "cell_type": "markdown",
   "metadata": {},
   "source": [
    "## Data Preprocessing"
   ]
  },
  {
   "cell_type": "markdown",
   "metadata": {},
   "source": [
    "Let's first load the training dataset into a pandas dataframe"
   ]
  },
  {
   "cell_type": "code",
   "execution_count": 2,
   "metadata": {},
   "outputs": [
    {
     "data": {
      "text/html": [
       "<div>\n",
       "<style scoped>\n",
       "    .dataframe tbody tr th:only-of-type {\n",
       "        vertical-align: middle;\n",
       "    }\n",
       "\n",
       "    .dataframe tbody tr th {\n",
       "        vertical-align: top;\n",
       "    }\n",
       "\n",
       "    .dataframe thead th {\n",
       "        text-align: right;\n",
       "    }\n",
       "</style>\n",
       "<table border=\"1\" class=\"dataframe\">\n",
       "  <thead>\n",
       "    <tr style=\"text-align: right;\">\n",
       "      <th></th>\n",
       "      <th>Buying Price</th>\n",
       "      <th>Maintenance Price</th>\n",
       "      <th>Number of Doors</th>\n",
       "      <th>Capacity</th>\n",
       "      <th>Size of Luggage Boot</th>\n",
       "      <th>Estimated Safety</th>\n",
       "      <th>Decision</th>\n",
       "    </tr>\n",
       "  </thead>\n",
       "  <tbody>\n",
       "    <tr>\n",
       "      <th>0</th>\n",
       "      <td>low</td>\n",
       "      <td>low</td>\n",
       "      <td>3</td>\n",
       "      <td>2</td>\n",
       "      <td>small</td>\n",
       "      <td>high</td>\n",
       "      <td>unacc</td>\n",
       "    </tr>\n",
       "    <tr>\n",
       "      <th>1</th>\n",
       "      <td>low</td>\n",
       "      <td>high</td>\n",
       "      <td>4</td>\n",
       "      <td>2</td>\n",
       "      <td>big</td>\n",
       "      <td>high</td>\n",
       "      <td>unacc</td>\n",
       "    </tr>\n",
       "    <tr>\n",
       "      <th>2</th>\n",
       "      <td>vhigh</td>\n",
       "      <td>low</td>\n",
       "      <td>3</td>\n",
       "      <td>4</td>\n",
       "      <td>small</td>\n",
       "      <td>high</td>\n",
       "      <td>acc</td>\n",
       "    </tr>\n",
       "    <tr>\n",
       "      <th>3</th>\n",
       "      <td>vhigh</td>\n",
       "      <td>med</td>\n",
       "      <td>5more</td>\n",
       "      <td>more</td>\n",
       "      <td>small</td>\n",
       "      <td>med</td>\n",
       "      <td>unacc</td>\n",
       "    </tr>\n",
       "    <tr>\n",
       "      <th>4</th>\n",
       "      <td>low</td>\n",
       "      <td>vhigh</td>\n",
       "      <td>4</td>\n",
       "      <td>more</td>\n",
       "      <td>med</td>\n",
       "      <td>high</td>\n",
       "      <td>acc</td>\n",
       "    </tr>\n",
       "  </tbody>\n",
       "</table>\n",
       "</div>"
      ],
      "text/plain": [
       "  Buying Price Maintenance Price Number of Doors Capacity  \\\n",
       "0          low               low               3        2   \n",
       "1          low              high               4        2   \n",
       "2        vhigh               low               3        4   \n",
       "3        vhigh               med           5more     more   \n",
       "4          low             vhigh               4     more   \n",
       "\n",
       "  Size of Luggage Boot Estimated Safety Decision  \n",
       "0                small             high    unacc  \n",
       "1                  big             high    unacc  \n",
       "2                small             high      acc  \n",
       "3                small              med    unacc  \n",
       "4                  med             high      acc  "
      ]
     },
     "execution_count": 2,
     "metadata": {},
     "output_type": "execute_result"
    }
   ],
   "source": [
    "df = pd.read_csv('car_train.csv')\n",
    "df.head()"
   ]
  },
  {
   "cell_type": "markdown",
   "metadata": {},
   "source": [
    "Here we have 6 different features and a `Decision` target variable."
   ]
  },
  {
   "cell_type": "markdown",
   "metadata": {},
   "source": [
    "So every single feature here is a categorical feature. Let's try to see which all are the unique values in each of these features."
   ]
  },
  {
   "cell_type": "code",
   "execution_count": 3,
   "metadata": {},
   "outputs": [
    {
     "data": {
      "text/plain": [
       "Buying Price              [low, vhigh, high, med]\n",
       "Maintenance Price         [low, high, med, vhigh]\n",
       "Number of Doors                  [3, 4, 5more, 2]\n",
       "Capacity                             [2, 4, more]\n",
       "Size of Luggage Boot            [small, big, med]\n",
       "Estimated Safety                 [high, med, low]\n",
       "Decision                [unacc, acc, vgood, good]\n",
       "dtype: object"
      ]
     },
     "execution_count": 3,
     "metadata": {},
     "output_type": "execute_result"
    }
   ],
   "source": [
    "df.copy().apply(lambda x: x.unique())"
   ]
  },
  {
   "cell_type": "code",
   "execution_count": 4,
   "metadata": {},
   "outputs": [],
   "source": [
    "# We'll convert this to a dictionary for later usage\n",
    "unique_values = df.copy().apply(lambda x: x.unique()).to_dict()\n",
    "unique_values = {k: v.tolist() for k, v in unique_values.items()}"
   ]
  },
  {
   "cell_type": "code",
   "execution_count": 5,
   "metadata": {},
   "outputs": [
    {
     "data": {
      "text/plain": [
       "{'Buying Price': ['low', 'vhigh', 'high', 'med'],\n",
       " 'Maintenance Price': ['low', 'high', 'med', 'vhigh'],\n",
       " 'Number of Doors': ['3', '4', '5more', '2'],\n",
       " 'Capacity': ['2', '4', 'more'],\n",
       " 'Size of Luggage Boot': ['small', 'big', 'med'],\n",
       " 'Estimated Safety': ['high', 'med', 'low'],\n",
       " 'Decision': ['unacc', 'acc', 'vgood', 'good']}"
      ]
     },
     "execution_count": 5,
     "metadata": {},
     "output_type": "execute_result"
    }
   ],
   "source": [
    "# Following is the form of the dictionary\n",
    "unique_values"
   ]
  },
  {
   "cell_type": "markdown",
   "metadata": {},
   "source": [
    "## Calculate the Prior and Likelihood values"
   ]
  },
  {
   "cell_type": "markdown",
   "metadata": {},
   "source": [
    "Recall that for Naive Bayes, we essentially want to calculate\n",
    "\n",
    "$$ P(Y=y|X) \\propto P(X|Y=y)P(Y=y) $$\n",
    "\n",
    "where $X$ is the feature vector and $Y$ is the target variable.  "
   ]
  },
  {
   "cell_type": "markdown",
   "metadata": {},
   "source": [
    "### **Prior Probabilities $P(Y=y)$**"
   ]
  },
  {
   "cell_type": "markdown",
   "metadata": {},
   "source": [
    "Here You will calculate the prior probabilties of each class and store them as a python list:\n",
    "\n",
    "$$\n",
    "    prior\\_values = \\begin{bmatrix}\n",
    "        p_1 & p_2 & p_3 & p_4\n",
    "    \\end{bmatrix}\n",
    "$$\n",
    "  \n",
    "where,\n",
    "- $p_1 = P(Decision = unacc)$\n",
    "- $p_2 = P(Decision = acc)$\n",
    "- $p_3 = P(Decision = good)$\n",
    "- $p_4 = P(Decision = vgood)$"
   ]
  },
  {
   "cell_type": "code",
   "execution_count": 6,
   "metadata": {},
   "outputs": [
    {
     "data": {
      "text/plain": [
       "[0.7023895727733527,\n",
       " 0.222302679217958,\n",
       " 0.03982621288921072,\n",
       " 0.03548153511947864]"
      ]
     },
     "execution_count": 6,
     "metadata": {},
     "output_type": "execute_result"
    }
   ],
   "source": [
    "# You can do this in a single line\n",
    "prior_list = df['Decision'].value_counts(normalize=True).to_list()\n",
    "prior_list"
   ]
  },
  {
   "cell_type": "code",
   "execution_count": 7,
   "metadata": {},
   "outputs": [
    {
     "data": {
      "text/html": [
       "<div>\n",
       "<style scoped>\n",
       "    .dataframe tbody tr th:only-of-type {\n",
       "        vertical-align: middle;\n",
       "    }\n",
       "\n",
       "    .dataframe tbody tr th {\n",
       "        vertical-align: top;\n",
       "    }\n",
       "\n",
       "    .dataframe thead th {\n",
       "        text-align: right;\n",
       "    }\n",
       "</style>\n",
       "<table border=\"1\" class=\"dataframe\">\n",
       "  <thead>\n",
       "    <tr style=\"text-align: right;\">\n",
       "      <th></th>\n",
       "      <th>Prior</th>\n",
       "    </tr>\n",
       "  </thead>\n",
       "  <tbody>\n",
       "    <tr>\n",
       "      <th>unacc</th>\n",
       "      <td>0.702390</td>\n",
       "    </tr>\n",
       "    <tr>\n",
       "      <th>acc</th>\n",
       "      <td>0.222303</td>\n",
       "    </tr>\n",
       "    <tr>\n",
       "      <th>good</th>\n",
       "      <td>0.039826</td>\n",
       "    </tr>\n",
       "    <tr>\n",
       "      <th>vgood</th>\n",
       "      <td>0.035482</td>\n",
       "    </tr>\n",
       "  </tbody>\n",
       "</table>\n",
       "</div>"
      ],
      "text/plain": [
       "          Prior\n",
       "unacc  0.702390\n",
       "acc    0.222303\n",
       "good   0.039826\n",
       "vgood  0.035482"
      ]
     },
     "execution_count": 7,
     "metadata": {},
     "output_type": "execute_result"
    }
   ],
   "source": [
    "# Let's convert this prior list to a pandas dataframe and display it\n",
    "prior_df = pd.DataFrame(prior_list, index=['unacc', 'acc', 'good', 'vgood'], columns=['Prior'])\n",
    "prior_df"
   ]
  },
  {
   "cell_type": "markdown",
   "metadata": {},
   "source": [
    "### **Likelihood Probabilities $P(X|Y)$**"
   ]
  },
  {
   "cell_type": "markdown",
   "metadata": {},
   "source": [
    "The main assumption in Naive Bayes is that the features are conditionally independent given the target variable.  \n",
    "This means that we can calculate the likelihood probabilities as:\n",
    "\n",
    "$$ P(X|Y=y) = \\prod_{i=1}^{n} P(X_i|Y=y) $$\n",
    "\n",
    "where $X_i$ is the $i^{th}$ feature of $X$."
   ]
  },
  {
   "cell_type": "markdown",
   "metadata": {},
   "source": [
    "Let's take an example of a single feature (say buying price) and calculate the likelihood probabilities for each class.  \n",
    "What we want is a pandas dataframe that looks something like this:\n",
    "\n",
    "| - | unacc | acc | good | vgood |\n",
    "| --- | --- | --- | --- | --- |\n",
    "| vhigh | - | - | - | - |\n",
    "| high | - | - | - | - |\n",
    "| med | - | - | - | - |\n",
    "| low | - | - | - | - |\n",
    "\n",
    "where each cell value is the likelihood probability of that feature value given the class. You will need to do this for each and every feature"
   ]
  },
  {
   "cell_type": "code",
   "execution_count": 8,
   "metadata": {},
   "outputs": [
    {
     "name": "stdout",
     "output_type": "stream",
     "text": [
      "['Buying Price', 'Maintenance Price', 'Number of Doors', 'Capacity', 'Size of Luggage Boot', 'Estimated Safety']\n"
     ]
    },
    {
     "data": {
      "text/html": [
       "<div>\n",
       "<style scoped>\n",
       "    .dataframe tbody tr th:only-of-type {\n",
       "        vertical-align: middle;\n",
       "    }\n",
       "\n",
       "    .dataframe tbody tr th {\n",
       "        vertical-align: top;\n",
       "    }\n",
       "\n",
       "    .dataframe thead th {\n",
       "        text-align: right;\n",
       "    }\n",
       "</style>\n",
       "<table border=\"1\" class=\"dataframe\">\n",
       "  <thead>\n",
       "    <tr style=\"text-align: right;\">\n",
       "      <th></th>\n",
       "      <th>low</th>\n",
       "      <th>vhigh</th>\n",
       "      <th>high</th>\n",
       "      <th>med</th>\n",
       "    </tr>\n",
       "  </thead>\n",
       "  <tbody>\n",
       "    <tr>\n",
       "      <th>unacc</th>\n",
       "      <td>0.611594</td>\n",
       "      <td>0.823699</td>\n",
       "      <td>0.74212</td>\n",
       "      <td>0.630499</td>\n",
       "    </tr>\n",
       "    <tr>\n",
       "      <th>acc</th>\n",
       "      <td>0.194203</td>\n",
       "      <td>0.176301</td>\n",
       "      <td>0.25788</td>\n",
       "      <td>0.260997</td>\n",
       "    </tr>\n",
       "    <tr>\n",
       "      <th>good</th>\n",
       "      <td>0.098551</td>\n",
       "      <td>0.000000</td>\n",
       "      <td>0.00000</td>\n",
       "      <td>0.061584</td>\n",
       "    </tr>\n",
       "    <tr>\n",
       "      <th>vgood</th>\n",
       "      <td>0.095652</td>\n",
       "      <td>0.000000</td>\n",
       "      <td>0.00000</td>\n",
       "      <td>0.046921</td>\n",
       "    </tr>\n",
       "  </tbody>\n",
       "</table>\n",
       "</div>"
      ],
      "text/plain": [
       "            low     vhigh     high       med\n",
       "unacc  0.611594  0.823699  0.74212  0.630499\n",
       "acc    0.194203  0.176301  0.25788  0.260997\n",
       "good   0.098551  0.000000  0.00000  0.061584\n",
       "vgood  0.095652  0.000000  0.00000  0.046921"
      ]
     },
     "execution_count": 8,
     "metadata": {},
     "output_type": "execute_result"
    }
   ],
   "source": [
    "features = list(unique_values.keys())[0:-1]\n",
    "print(features)\n",
    "\n",
    "likelihood_features = {}\n",
    "\n",
    "for feature in features:\n",
    "    # calculate the likelihood for each feature\n",
    "    d = {}\n",
    "    for value in unique_values[feature]:\n",
    "        df_temp = df[df[feature] == value]\n",
    "        val_counts = df_temp['Decision'].value_counts(normalize=True)\n",
    "        # account for missing values too\n",
    "        for val in unique_values['Decision']:\n",
    "            if val not in val_counts.index:\n",
    "                val_counts[val] = 0\n",
    "        d[value] = val_counts.to_list()   \n",
    "\n",
    "    df_temp = pd.DataFrame(d, index=['unacc', 'acc', 'good', 'vgood'])\n",
    "    likelihood_features[feature] = df_temp\n",
    "\n",
    "\n",
    "likelihood_feature_1 = likelihood_features['Buying Price']\n",
    "likelihood_feature_2 = likelihood_features['Maintenance Price']\n",
    "likelihood_feature_3 = likelihood_features['Number of Doors']\n",
    "likelihood_feature_4 = likelihood_features['Capacity']\n",
    "likelihood_feature_5 = likelihood_features['Size of Luggage Boot']\n",
    "likelihood_feature_6 = likelihood_features['Estimated Safety']\n",
    "\n",
    "likelihood_feature_1"
   ]
  },
  {
   "cell_type": "markdown",
   "metadata": {},
   "source": [
    "## Prediction on test set"
   ]
  },
  {
   "cell_type": "markdown",
   "metadata": {},
   "source": [
    "### **Calculation of Posterior Probabilities $P(Y|X)$**"
   ]
  },
  {
   "cell_type": "markdown",
   "metadata": {},
   "source": [
    "Recall,\n",
    "\n",
    "we want to find the class $\\hat{y}$ that maximizes the posterior probability $P(Y|X)$ according to the formula:\n",
    "\n",
    "$$ \\hat{y} = \\underset{y}{\\operatorname{argmax}} P(Y=y|X) = \\underset{y}{\\operatorname{argmax}} P(X|Y=y)P(Y=y) $$\n",
    "\n",
    "Since, we assume that all the features are conditionally independent (Naive Bayes Assumption), we can rewrite our objective as:\n",
    "\n",
    "$$ \\hat{y} = \\underset{y}{\\operatorname{argmax}} \\prod_{i=1}^{n} P(X_i|Y=y) P(Y=y) $$\n",
    "\n",
    "\n",
    "For numerical stability, we will instead maximise the Log Posterior instead of just the Posterior, with this we can rewrite this as:\n",
    "\n",
    "$$ \\hat{y} = \\underset{y}{\\operatorname{argmax}} ( \\log P(Y=y) + \\sum_{i=1}^{n} \\log P(X_i|Y=y) )"
   ]
  },
  {
   "cell_type": "markdown",
   "metadata": {},
   "source": [
    "Let's start with a single example.\n",
    "\n",
    "Assume that we have a single example with the following feature values:\n",
    "\n",
    "| buying | maint | doors | capacity | lug_boot | safety |\n",
    "| --- | --- | --- | --- | --- | --- |\n",
    "| low | vhigh | 2 | more | med | high |\n"
   ]
  },
  {
   "cell_type": "markdown",
   "metadata": {},
   "source": [
    "We want to calculate the posterior probabilities for each class for this example.  \n",
    "  \n",
    "Do the following steps for each class:\n",
    "- Calculate the log-likelihood probability for each feature value and add them together\n",
    "- Add the above value with the log-prior probability of that class\n",
    "- Store the result in a pandas dataframe\n",
    "\n",
    "You should get a pandas dataframe that looks something like this:\n",
    "\n",
    "| - | unacc | acc | good | vgood |\n",
    "| --- | --- | --- | --- | --- |\n",
    "| Log-Posterior | - | - | - | - |\n",
    "\n",
    "where each cell value is the posterior probability of that feature value given the class. You will need to do this for each and every feature.\n",
    "\n",
    "NOTE: Use the likelihood/prior values that you calculated earlier.\n",
    "\n",
    "I'll do it for the category `unacc`. Implement the rest in a similar fashion. Also feel free to change the code if you want to"
   ]
  },
  {
   "cell_type": "code",
   "execution_count": 9,
   "metadata": {},
   "outputs": [
    {
     "name": "stdout",
     "output_type": "stream",
     "text": [
      "The Log Posterior for class `unacc` is: -1.932\n"
     ]
    }
   ],
   "source": [
    "# Let's store the log prior\n",
    "\n",
    "features = ['low', 'vhigh', '2', 'more', 'med', 'high']\n",
    "\n",
    "log_prior = prior_df.loc['unacc', 'Prior']\n",
    "\n",
    "log_likelihood = 0\n",
    "\n",
    "for i, feature in enumerate(features):\n",
    "    log_likelihood += log(eval(f'likelihood_feature_{i+1}').loc['unacc', feature] + 1e-9) # Add the 1e-9 to avoid taking log(0)\n",
    "\n",
    "log_posterior = log_prior + log_likelihood\n",
    "\n",
    "print(f'The Log Posterior for class `unacc` is: {log_posterior:.3f}')\n",
    "\n",
    "\n",
    "#! Hint: Convert this to a function which takes the class_name and features as parameters and return the log_posterior\n",
    "#! This should help you in the next section as well\n"
   ]
  },
  {
   "cell_type": "code",
   "execution_count": 10,
   "metadata": {},
   "outputs": [
    {
     "data": {
      "text/plain": [
       "-1.931895790904903"
      ]
     },
     "execution_count": 10,
     "metadata": {},
     "output_type": "execute_result"
    }
   ],
   "source": [
    "def get_log_posterior(class_name: str, features: list):\n",
    "    \"\"\"Returns the log posterior for the class name given the features\n",
    "\n",
    "    Args:\n",
    "        class_name (str): class name. [unacc, acc, good, vgood]\n",
    "        features (list): list of features\n",
    "    \"\"\"\n",
    "\n",
    "    # Write you code here\n",
    "    log_prior = prior_df.loc[class_name, 'Prior']\n",
    "\n",
    "    log_likelihood = 0\n",
    "\n",
    "    for i, feature in enumerate(features):\n",
    "        log_likelihood += log(eval(f'likelihood_feature_{i+1}').loc[class_name, feature] + 1e-9) # Add the 1e-9 to avoid taking log(0)\n",
    "\n",
    "    _log_posterior_ = log_prior + log_likelihood\n",
    "\n",
    "    return _log_posterior_\n",
    "\n",
    "# test this function\n",
    "get_log_posterior('unacc', ['low', 'vhigh', '2', 'more', 'med', 'high'])"
   ]
  },
  {
   "cell_type": "markdown",
   "metadata": {},
   "source": [
    "Based on the log-posterior, predict what the decision is"
   ]
  },
  {
   "cell_type": "code",
   "execution_count": 11,
   "metadata": {},
   "outputs": [
    {
     "name": "stdout",
     "output_type": "stream",
     "text": [
      "The predicted decision is: unacc\n",
      "The actual decision is: unacc\n"
     ]
    }
   ],
   "source": [
    "# predict decision based on log posterior\n",
    "def predict_decision(features: list):\n",
    "    \"\"\"Predicts the decision based on the features\n",
    "\n",
    "    Args:\n",
    "        features (list): list of features\n",
    "\n",
    "    Returns:\n",
    "        str: predicted decision\n",
    "    \"\"\"\n",
    "\n",
    "    # Write your code here\n",
    "    log_posterior_list = []\n",
    "    for class_name in prior_df.index:\n",
    "        log_posterior_list.append(get_log_posterior(class_name, features))\n",
    "\n",
    "    return prior_df.index[np.argmax(log_posterior_list)]\n",
    "\n",
    "# test this function on a single row\n",
    "row = df.iloc[0, :-1].to_list()\n",
    "ans = predict_decision(row)\n",
    "print(f'The predicted decision is: {ans}')\n",
    "print(f'The actual decision is: {df.iloc[0, -1]}')\n"
   ]
  },
  {
   "cell_type": "markdown",
   "metadata": {},
   "source": [
    "### Prediction with Test set"
   ]
  },
  {
   "cell_type": "markdown",
   "metadata": {},
   "source": [
    "Now that we know how to do this for a single datapoint, let's do this for the whole test set.\n",
    "\n",
    "Let's start with same old loading of the test set into a pandas dataframe"
   ]
  },
  {
   "cell_type": "code",
   "execution_count": 12,
   "metadata": {},
   "outputs": [
    {
     "data": {
      "text/html": [
       "<div>\n",
       "<style scoped>\n",
       "    .dataframe tbody tr th:only-of-type {\n",
       "        vertical-align: middle;\n",
       "    }\n",
       "\n",
       "    .dataframe tbody tr th {\n",
       "        vertical-align: top;\n",
       "    }\n",
       "\n",
       "    .dataframe thead th {\n",
       "        text-align: right;\n",
       "    }\n",
       "</style>\n",
       "<table border=\"1\" class=\"dataframe\">\n",
       "  <thead>\n",
       "    <tr style=\"text-align: right;\">\n",
       "      <th></th>\n",
       "      <th>Buying Price</th>\n",
       "      <th>Maintenance Price</th>\n",
       "      <th>Number of Doors</th>\n",
       "      <th>Capacity</th>\n",
       "      <th>Size of Luggage Boot</th>\n",
       "      <th>Estimated Safety</th>\n",
       "      <th>Decision</th>\n",
       "    </tr>\n",
       "  </thead>\n",
       "  <tbody>\n",
       "    <tr>\n",
       "      <th>0</th>\n",
       "      <td>low</td>\n",
       "      <td>vhigh</td>\n",
       "      <td>2</td>\n",
       "      <td>more</td>\n",
       "      <td>med</td>\n",
       "      <td>high</td>\n",
       "      <td>acc</td>\n",
       "    </tr>\n",
       "    <tr>\n",
       "      <th>1</th>\n",
       "      <td>vhigh</td>\n",
       "      <td>high</td>\n",
       "      <td>2</td>\n",
       "      <td>4</td>\n",
       "      <td>big</td>\n",
       "      <td>high</td>\n",
       "      <td>unacc</td>\n",
       "    </tr>\n",
       "    <tr>\n",
       "      <th>2</th>\n",
       "      <td>high</td>\n",
       "      <td>med</td>\n",
       "      <td>2</td>\n",
       "      <td>2</td>\n",
       "      <td>small</td>\n",
       "      <td>med</td>\n",
       "      <td>unacc</td>\n",
       "    </tr>\n",
       "    <tr>\n",
       "      <th>3</th>\n",
       "      <td>vhigh</td>\n",
       "      <td>med</td>\n",
       "      <td>3</td>\n",
       "      <td>2</td>\n",
       "      <td>big</td>\n",
       "      <td>med</td>\n",
       "      <td>unacc</td>\n",
       "    </tr>\n",
       "    <tr>\n",
       "      <th>4</th>\n",
       "      <td>low</td>\n",
       "      <td>med</td>\n",
       "      <td>5more</td>\n",
       "      <td>2</td>\n",
       "      <td>big</td>\n",
       "      <td>low</td>\n",
       "      <td>unacc</td>\n",
       "    </tr>\n",
       "  </tbody>\n",
       "</table>\n",
       "</div>"
      ],
      "text/plain": [
       "  Buying Price Maintenance Price Number of Doors Capacity  \\\n",
       "0          low             vhigh               2     more   \n",
       "1        vhigh              high               2        4   \n",
       "2         high               med               2        2   \n",
       "3        vhigh               med               3        2   \n",
       "4          low               med           5more        2   \n",
       "\n",
       "  Size of Luggage Boot Estimated Safety Decision  \n",
       "0                  med             high      acc  \n",
       "1                  big             high    unacc  \n",
       "2                small              med    unacc  \n",
       "3                  big              med    unacc  \n",
       "4                  big              low    unacc  "
      ]
     },
     "execution_count": 12,
     "metadata": {},
     "output_type": "execute_result"
    }
   ],
   "source": [
    "df_test = pd.read_csv('car_test.csv')\n",
    "df_test.head()"
   ]
  },
  {
   "cell_type": "markdown",
   "metadata": {},
   "source": [
    "Split the dataframe into features and target"
   ]
  },
  {
   "cell_type": "code",
   "execution_count": 13,
   "metadata": {},
   "outputs": [],
   "source": [
    "df_x = df_test.drop('Decision', axis=1)\n",
    "df_y = df_test['Decision']"
   ]
  },
  {
   "cell_type": "markdown",
   "metadata": {},
   "source": [
    "Now using the features in `df_x`, predict the `Decision` using in the same way as above"
   ]
  },
  {
   "cell_type": "code",
   "execution_count": 14,
   "metadata": {},
   "outputs": [],
   "source": [
    "predictions = []\n",
    "\n",
    "for _, row in df_x.iterrows():\n",
    "    features = list(row)\n",
    "    \n",
    "    # Write you code here\n",
    "    predictions.append(predict_decision(features))"
   ]
  },
  {
   "cell_type": "markdown",
   "metadata": {},
   "source": [
    "Compare the values of the prediction with the actual values. What is the accuracy?"
   ]
  },
  {
   "cell_type": "code",
   "execution_count": 15,
   "metadata": {},
   "outputs": [
    {
     "name": "stdout",
     "output_type": "stream",
     "text": [
      "Test Accuracy using Naive Bayes Classifier is: 0.7301\n"
     ]
    }
   ],
   "source": [
    "true_values = list(df_y)\n",
    "\n",
    "correct = 0\n",
    "for pred, true_val in zip(predictions, true_values):\n",
    "    if pred == true_val:\n",
    "        correct += 1\n",
    "\n",
    "accuracy = correct / len(true_values)\n",
    "\n",
    "print(f'Test Accuracy using Naive Bayes Classifier is: {accuracy:.4f}')"
   ]
  }
 ],
 "metadata": {
  "kernelspec": {
   "display_name": "Python 3",
   "language": "python",
   "name": "python3"
  },
  "language_info": {
   "codemirror_mode": {
    "name": "ipython",
    "version": 3
   },
   "file_extension": ".py",
   "mimetype": "text/x-python",
   "name": "python",
   "nbconvert_exporter": "python",
   "pygments_lexer": "ipython3",
   "version": "3.9.12"
  },
  "orig_nbformat": 4
 },
 "nbformat": 4,
 "nbformat_minor": 2
}
